{
 "cells": [
  {
   "cell_type": "markdown",
   "metadata": {},
   "source": [
    "## Linear Regression  \n",
    "\n",
    "* What is a Model?   \n",
    "* Linear Models     \n",
    "* Linear regression and correlation \n",
    "  - The y-intercept $\\beta_0$ \n",
    "  - The slope $\\beta_1$    \n",
    "  - The error $\\varepsilon_i$    \n",
    "  - Least squares estimation  \n",
    "  - Fitted values and residuals   \n",
    "* The Modeling process      \n",
    "* Linear regression assumptions   \n",
    "  - A linear relationship between outcome and predictor variables       \n",
    "  - The error term $\\varepsilon_i$ has the following assumptions:  \n",
    "    * have mean zero; otherwise the forecasts will be systematically biased.\n",
    "    * statistical independence of the errors (in particular, no correlation between consecutive errors in the case of time series data).\n",
    "    * homoscedasticity (constant variance) of the errors.\n",
    "    * normality of the error distribution.   \n",
    "* Assessing the model fit \n",
    "  - T-statistic   \n",
    "  - Coefficient of determination ($R^2)$  \n",
    "  - Adjusted ($R^2)$   \n",
    "  - Hypothesis testing: Is he \"true\" $\\beta_1 \\neq 0$?    \n",
    "  - P-values    \n",
    "  - Confidence intervals        \n",
    "  - Standard error of the regression   \n",
    "  - F-test     \n",
    "  - Leverage    \n",
    "  - Influence       \n",
    "  - K-fold cross validtion   \n",
    "* Assessing the regression assumptions  \n",
    "  - Residual plots    \n",
    "  - Fitted values versus residuals  \n",
    "  - Standardized residuals versus theoretical quantiles (Q-Q plot)        \n",
    "  - Standardized residuals versus leverage    \n",
    "  - Fit Plots  \n",
    "* Forecasting with regression  \n",
    "* No y-intercept?   \n",
    "* Residual Plots   \n",
    "* Formula syntax   \n",
    "* Non-linear transformations of predictors   \n",
    "* Multiple linear regression \n",
    "* Multi-colinearity \n",
    "\n",
    "\n",
    "###  Appendix       \n",
    "* Logistic regression\n",
    "* Polynomial regression\n",
    "* Overfitting  \n",
    "* Regularization   \n",
    "* Stepwise regression   \n",
    "* Jarque–Bera test  \n",
    "* Durbin–Watson statistic  \n",
    "* Omnibus tests  \n",
    "* Degrees of freedom   \n",
    "* Likelihood and Negative Log Likelihood  \n",
    "* AIC, BIC, Mallows's Cp  \n",
    "* Dummy variables\n",
    "* Interaction Terms "
   ]
  },
  {
   "cell_type": "markdown",
   "metadata": {},
   "source": [
    "## Linear Regression, Linear Models. Inference and Interpretation\n",
    "\n",
    "In this lesson we will build and interpreting simple models with linear regression. We then learn to interpret the diagnostics and quality of our models. We expand our modeling tool box with multivariate analysis.  We finish by using logistic regression to predict probabilities and categories.\n",
    "\n",
    "Rationale: A model is a representation of reality albeit highly simplified. Building a statistical model involves constructing a mathematical description of some real-world phenomena that accounts for the uncertainty and randomness involved in that system.  All statistical hypothesis tests and all statistical estimators are derived from statistical models. Statistical models are a fundamental part of the foundation of statistical inference, data analysis and machine learning.\n",
    "\n",
    "### Data\n",
    "\n",
    "We will be using [Francis Galton's](https://en.wikipedia.org/wiki/Francis_Galton) analysis of the heights of sons and fathers. Heights of sons of both tall and short fathers appeared to “revert” or “regress” to the mean of the group.  \n",
    "\n",
    "Galton created the statistical concept of correlation and widely promoted regression toward the mean. Regression toward the mean become analysis be [Regression analysis Wikipedia](https://en.wikipedia.org/wiki/Regression_analysis))  "
   ]
  },
  {
   "cell_type": "code",
   "execution_count": 44,
   "metadata": {
    "collapsed": false
   },
   "outputs": [],
   "source": [
    "from __future__ import print_function\n",
    "%matplotlib inline\n",
    "import pandas as pd\n",
    "import matplotlib.pyplot as plt\n",
    "import numpy as np\n",
    "from scipy import stats\n",
    "import seaborn as sns\n",
    "import statsmodels.api as sm\n",
    "from sklearn import linear_model\n",
    "from statsmodels.formula.api import ols\n",
    "from sklearn.linear_model import LinearRegression, Ridge, Lasso\n",
    "from sklearn.preprocessing import PolynomialFeatures\n",
    "from sklearn.pipeline import make_pipeline\n",
    "import warnings\n",
    "warnings.filterwarnings('ignore')"
   ]
  },
  {
   "cell_type": "markdown",
   "metadata": {},
   "source": [
    "## What is a Model?\n",
    "\n",
    "A statistical model embodies a set of assumptions concerning the generation of the observed data, and similar data from a larger population. A model represents, often in considerably idealized form, the data-generating process. The model assumptions describe a set of probability distributions, some of which are assumed to adequately approximate the distribution from which a particular data set is sampled.\n",
    "A model is usually specified by mathematical equations that relate one or more random variables and possibly other non-random variables. As such, \"a model is a formal representation of a theory\" (Herman Adèr quoting Kenneth Bollen).\n",
    "\n",
    "https://en.wikipedia.org/wiki/Statistical_model\n",
    "\n",
    "\n",
    "A function is a relationship between two variables. A function can be defined by any mathematical condition relating each argument (input value) to the corresponding output value. \n",
    "\n",
    "![image Function (mathematics)](images/330px-Function_machine2.svg.png) \n",
    "\n",
    "![image math model](images/Models_A.png) \n",
    "\n",
    "\n"
   ]
  },
  {
   "cell_type": "markdown",
   "metadata": {},
   "source": [
    "## Linear Models\n",
    "\n",
    "Linear regression predicts the response variable $y$ assuming it has a linear relationship with predictor variable(s) $x$ or $x_1, x_2, ,,, x_n$.\n",
    "\n",
    "$$y = \\beta_0 + \\beta_1 x + \\varepsilon .$$\n",
    "\n",
    "*Simple* regression use only one predictor variable $x$. *Mulitple* regression uses a set of predictor variables $x_1, x_2, ,,, x_n$.\n",
    "\n",
    "The *response variable* $y$ is also called the regressand, forecast, dependent or explained variable. The *predictor variable* $x$ is also called the regressor, independent or explanatory variable.\n",
    "\n",
    "The parameters $\\beta_0$ and $\\beta_1$ determine the intercept and the slope of the line respectively. The intercept $\\beta_0$ represents the predicted value of $y$ when $x=0$. The slope $\\beta_1$ represents the predicted increase in $Y$ resulting from a one unit increase in $x$.\n",
    "\n",
    "Note that the regression equation is just our famliar equation for a line with an error term.\n",
    "\n",
    "The equation for a line:  \n",
    "$$ Y = bX + a $$\n",
    "\n",
    "$$y = \\beta_0 + \\beta_1 x $$\n",
    "\n",
    "The equation for a line with an error term:  \n",
    "\n",
    "$$ Y = bX + a + \\varepsilon $$\n",
    "\n",
    "$$y = \\beta_0 + \\beta_1 x + \\varepsilon .$$\n",
    "\n",
    "- $b$ = $\\beta_1$ = slope\n",
    "- $a$ = $\\beta_0$ = $Y$ intercept\n",
    "- $\\varepsilon$ = error term\n",
    "\n",
    "\n",
    "We can think of each observation $y_i$ consisting of the systematic or explained part of the model, $\\beta_0+\\beta_1x_i$, and the random *error*, $\\varepsilon_i$.\n",
    "\n",
    "_Zero Slope_\n",
    "\n",
    "Note that when  $\\beta_1 = 0$ then response does not change as the predictor changes.\n",
    "\n",
    "For multiple regression $x$ is a $X$ to produce a system of equations:  \n",
    "\n",
    "$$ Y = \\beta_0 + \\beta_1 X  + \\varepsilon $$\n",
    "\n",
    "## The error $\\varepsilon_i$\n",
    "\n",
    "The error term is a catch-all for anything that may affect $y_i$ other than $x_i$. We assume that these errors:\n",
    "\n",
    "* have mean zero; otherwise the forecasts will be systematically biased.\n",
    "* statistical independence of the errors (in particular, no correlation between consecutive errors in the case of time series data).\n",
    "* homoscedasticity (constant variance) of the errors.\n",
    "* normality of the error distribution.\n",
    "\n",
    "If any of these assumptions is violated then the robustness of the model to be taken with a grain of salt.\n",
    "\n",
    "\n",
    "## Least squares estimation\n",
    "\n",
    "In a linear model, the values of $\\beta_0$ and $\\beta_1$. These need to be estimated from the data. We call this *fitting a model*.\n",
    "\n",
    "The least squares method iis the most common way of estimating $\\beta_0$ and $\\beta_1$ by minimizing the sum of the squared errors. The values of $\\beta_0$ and $\\beta_1$ are chosen so that that minimize\n",
    "\n",
    "$$\\sum_{i=1}^N \\varepsilon_i^2 = \\sum_{i=1}^N (y_i - \\beta_0 - \\beta_1x_i)^2. $$\n",
    "\n",
    "\n",
    "Using mathematical calculus, it can be shown that the resulting **least squares estimators** are\n",
    "\n",
    "$$\\hat{\\beta}_1=\\frac{ \\sum_{i=1}^{N}(y_i-\\bar{y})(x_i-\\bar{x})}{\\sum_{i=1}^{N}(x_i-\\bar{x})^2} $$ \n",
    "\n",
    "and\n",
    "\n",
    "$$\\hat{\\beta}_0=\\bar{y}-\\hat{\\beta}_1\\bar{x}, $$\n",
    "\n",
    "where $\\bar{x}$ is the average of the $x$ observations and $\\bar{y}$ is the average of the $y$ observations. The estimated line is known as the *regression line*.\n",
    "\n",
    "To solve least squares with gradient descent or stochastic gradient descent (SGD) or losed Form (set derivatives equal to zero and solve for parameters).\n",
    "\n",
    "## Fitted values and residuals\n",
    "\n",
    "The response values of $y$ obtained from the observed $x$ values are\n",
    "called *fitted values*: $\\hat{y}_i=\\hat{\\beta}_0+\\hat{\\beta}_1x_i$, for\n",
    "$i=1,\\dots,N$. Each $\\hat{y}_i$ is the point on the regression\n",
    "line corresponding to $x_i$.\n",
    "\n",
    "The difference between the observed $y$ values and the corresponding fitted values are the *residuals*:\n",
    "\n",
    "$$e_i = y_i - \\hat{y}_i = y_i -\\hat{\\beta}_0-\\hat{\\beta}_1x_i. $$\n",
    "\n",
    "The residuals have some useful properties including the following two:\n",
    "\n",
    "$$\\sum_{i=1}^{N}{e_i}=0 \\quad\\text{and}\\quad \\sum_{i=1}^{N}{x_ie_i}=0. $$\n",
    "\n",
    "![Linear regression](images/Linear_regression.svg.png)\n",
    "\n",
    "Residuals are the errors that we cannot predict.Residuals are highly useful for studying whether a given regression model is an appropriate statistical technique for analyzing the relationship.\n",
    "\n",
    "## Linear regression and correlation\n",
    "\n",
    "The correlation coefficient $r$ measures the strength and the direction of the linear relationship between the two variables. The stronger the linear relationship, the closer the observed data points will cluster around a straight line.\n",
    "\n",
    "The _Pearson product-moment correlation coefficient_ is the most widely used of all correlation coefficients. In statistics, the Pearson product-moment correlation coefficient (/ˈpɪərsɨn/) (sometimes referred to as the PPMCC or PCC or Pearson's r) is a measure of the linear correlation (dependence) between two variables X and Y, giving a value between +1 and −1 inclusive, where 1 is total positive correlation, 0 is no correlation, and −1 is total negative correlation. It is widely used in the sciences as a measure of the degree of linear dependence between two variables. It was developed by Karl Pearson from a related idea introduced by Francis Galton in the 1880s. Early work on the distribution of the sample correlation coefficient was carried out by Anil Kumar Gain and R. A. Fisher from the University of Cambridge.\n",
    "\n",
    "from [Pearson product-moment correlation coefficient](https://en.wikipedia.org/wiki/Pearson_product-moment_correlation_coefficient)  \n",
    "\n",
    "Examples of scatter diagrams with different values of correlation coefficient (ρ)\n",
    "\n",
    "The value of r is such that -1 < r < +1.  \n",
    "\n",
    "Strong positive correlation r is close to +1. Strong negative correlation r is close to -1. No correlation r is close to 0.   \n",
    "\n",
    "![Correlation_examples](images/Correlation_examples.png)\n",
    "\n",
    "The advantage of a regression model over correlation is that it asserts a predictive relationship between the two variables ($x$ predicts $y$) and quantifies this in a useful way for forecasting.\n",
    "\n",
    "\n",
    "We can have a _positive linear relationship_ (r>0), _negative linear relationship_ (r<0), or _no linear relationship_ (r=0) (Note that no linear relationship doesn't mean no relationship.)\n",
    "\n",
    "![Anscombe's quartet](images/Anscombes_quartet.svg)\n",
    "\n",
    "\n",
    "Anscombe's quartet comprises four datasets that have nearly identical simple statistical properties, yet appear very different when graphed. They were constructed in 1973 by the statistician Francis Anscombe to demonstrate both the importance of graphing data before analyzing it and the effect of outliers on statistical properties.\n",
    "\n",
    "from [Anscombe's quartet - Wikipedia](https://en.wikipedia.org/wiki/Anscombe%27s_quartet)\n",
    "\n"
   ]
  },
  {
   "cell_type": "markdown",
   "metadata": {},
   "source": [
    "## The Modeling process  \n",
    "\n",
    "A. Formula (i.e. what $f(x)$ and which $x_1,x_2, .. x_n$)   \n",
    "B. Fit (i.e. Estimate the unknown parameters for the model.)   \n",
    "C. Analysis of fit (i.e. how good is the model)   \n",
    "D. Analysis of residuals (i.e. how closely did the model match assumptions)   \n",
    "\n",
    "We often create many models so we *_store & explore_*. That is, make models and save them as variables so we can compare the various iterations of the modeling process.\n",
    "\n",
    "\n",
    "## A. Formula \n",
    "\n",
    "f(x)          | x    \n",
    "------------- | -------------  \n",
    "response      | ~ predictor     \n",
    "response      | ~ explanatory   \n",
    "dependent     | ~ independent    \n",
    "outcome       | ~ predictor  \n",
    "forecast      | ~ predictor   \n",
    "regressand    | ~ regressor  \n",
    "explained     | ~ explanatory  \n",
    "\n"
   ]
  },
  {
   "cell_type": "code",
   "execution_count": 45,
   "metadata": {
    "collapsed": false
   },
   "outputs": [
    {
     "data": {
      "text/html": [
       "<div>\n",
       "<table border=\"1\" class=\"dataframe\">\n",
       "  <thead>\n",
       "    <tr style=\"text-align: right;\">\n",
       "      <th></th>\n",
       "      <th>Family</th>\n",
       "      <th>Father</th>\n",
       "      <th>Mother</th>\n",
       "      <th>Gender</th>\n",
       "      <th>Height</th>\n",
       "      <th>Kids</th>\n",
       "    </tr>\n",
       "  </thead>\n",
       "  <tbody>\n",
       "    <tr>\n",
       "      <th>0</th>\n",
       "      <td>1</td>\n",
       "      <td>78.5</td>\n",
       "      <td>67.0</td>\n",
       "      <td>M</td>\n",
       "      <td>73.2</td>\n",
       "      <td>4</td>\n",
       "    </tr>\n",
       "    <tr>\n",
       "      <th>1</th>\n",
       "      <td>1</td>\n",
       "      <td>78.5</td>\n",
       "      <td>67.0</td>\n",
       "      <td>F</td>\n",
       "      <td>69.2</td>\n",
       "      <td>4</td>\n",
       "    </tr>\n",
       "    <tr>\n",
       "      <th>2</th>\n",
       "      <td>1</td>\n",
       "      <td>78.5</td>\n",
       "      <td>67.0</td>\n",
       "      <td>F</td>\n",
       "      <td>69.0</td>\n",
       "      <td>4</td>\n",
       "    </tr>\n",
       "    <tr>\n",
       "      <th>3</th>\n",
       "      <td>1</td>\n",
       "      <td>78.5</td>\n",
       "      <td>67.0</td>\n",
       "      <td>F</td>\n",
       "      <td>69.0</td>\n",
       "      <td>4</td>\n",
       "    </tr>\n",
       "    <tr>\n",
       "      <th>4</th>\n",
       "      <td>2</td>\n",
       "      <td>75.5</td>\n",
       "      <td>66.5</td>\n",
       "      <td>M</td>\n",
       "      <td>73.5</td>\n",
       "      <td>4</td>\n",
       "    </tr>\n",
       "  </tbody>\n",
       "</table>\n",
       "</div>"
      ],
      "text/plain": [
       "  Family  Father  Mother Gender  Height  Kids\n",
       "0      1    78.5    67.0      M    73.2     4\n",
       "1      1    78.5    67.0      F    69.2     4\n",
       "2      1    78.5    67.0      F    69.0     4\n",
       "3      1    78.5    67.0      F    69.0     4\n",
       "4      2    75.5    66.5      M    73.5     4"
      ]
     },
     "execution_count": 45,
     "metadata": {},
     "output_type": "execute_result"
    }
   ],
   "source": [
    "# Load the data into a pandas dataframe\n",
    "df = pd.read_csv('http://www.math.uah.edu/stat/data/Galton.csv')\n",
    "df.head()"
   ]
  },
  {
   "cell_type": "code",
   "execution_count": 46,
   "metadata": {
    "collapsed": false
   },
   "outputs": [
    {
     "data": {
      "text/html": [
       "<div>\n",
       "<table border=\"1\" class=\"dataframe\">\n",
       "  <thead>\n",
       "    <tr style=\"text-align: right;\">\n",
       "      <th></th>\n",
       "      <th>Father</th>\n",
       "      <th>Mother</th>\n",
       "      <th>Height</th>\n",
       "      <th>Kids</th>\n",
       "    </tr>\n",
       "  </thead>\n",
       "  <tbody>\n",
       "    <tr>\n",
       "      <th>count</th>\n",
       "      <td>898.000000</td>\n",
       "      <td>898.000000</td>\n",
       "      <td>898.000000</td>\n",
       "      <td>898.000000</td>\n",
       "    </tr>\n",
       "    <tr>\n",
       "      <th>mean</th>\n",
       "      <td>69.232851</td>\n",
       "      <td>64.084410</td>\n",
       "      <td>66.760690</td>\n",
       "      <td>6.135857</td>\n",
       "    </tr>\n",
       "    <tr>\n",
       "      <th>std</th>\n",
       "      <td>2.470256</td>\n",
       "      <td>2.307025</td>\n",
       "      <td>3.582918</td>\n",
       "      <td>2.685156</td>\n",
       "    </tr>\n",
       "    <tr>\n",
       "      <th>min</th>\n",
       "      <td>62.000000</td>\n",
       "      <td>58.000000</td>\n",
       "      <td>56.000000</td>\n",
       "      <td>1.000000</td>\n",
       "    </tr>\n",
       "    <tr>\n",
       "      <th>25%</th>\n",
       "      <td>68.000000</td>\n",
       "      <td>63.000000</td>\n",
       "      <td>64.000000</td>\n",
       "      <td>4.000000</td>\n",
       "    </tr>\n",
       "    <tr>\n",
       "      <th>50%</th>\n",
       "      <td>69.000000</td>\n",
       "      <td>64.000000</td>\n",
       "      <td>66.500000</td>\n",
       "      <td>6.000000</td>\n",
       "    </tr>\n",
       "    <tr>\n",
       "      <th>75%</th>\n",
       "      <td>71.000000</td>\n",
       "      <td>65.500000</td>\n",
       "      <td>69.700000</td>\n",
       "      <td>8.000000</td>\n",
       "    </tr>\n",
       "    <tr>\n",
       "      <th>max</th>\n",
       "      <td>78.500000</td>\n",
       "      <td>70.500000</td>\n",
       "      <td>79.000000</td>\n",
       "      <td>15.000000</td>\n",
       "    </tr>\n",
       "  </tbody>\n",
       "</table>\n",
       "</div>"
      ],
      "text/plain": [
       "           Father      Mother      Height        Kids\n",
       "count  898.000000  898.000000  898.000000  898.000000\n",
       "mean    69.232851   64.084410   66.760690    6.135857\n",
       "std      2.470256    2.307025    3.582918    2.685156\n",
       "min     62.000000   58.000000   56.000000    1.000000\n",
       "25%     68.000000   63.000000   64.000000    4.000000\n",
       "50%     69.000000   64.000000   66.500000    6.000000\n",
       "75%     71.000000   65.500000   69.700000    8.000000\n",
       "max     78.500000   70.500000   79.000000   15.000000"
      ]
     },
     "execution_count": 46,
     "metadata": {},
     "output_type": "execute_result"
    }
   ],
   "source": [
    "df.describe()"
   ]
  },
  {
   "cell_type": "code",
   "execution_count": 47,
   "metadata": {
    "collapsed": false,
    "scrolled": true
   },
   "outputs": [
    {
     "data": {
      "image/png": "[encoded data removed]",
      "text/plain": [
       "<matplotlib.figure.Figure at 0x115bcae50>"
      ]
     },
     "metadata": {},
     "output_type": "display_data"
    }
   ],
   "source": [
    "# Quick plot of the data using seaborn\n",
    "sns.pairplot(df, hue=\"Gender\")\n",
    "sns.plt.show()"
   ]
  },
  {
   "cell_type": "markdown",
   "metadata": {},
   "source": [
    "### Galton's Regression to the Mean idea:\n",
    "\n",
    "Tall fathers will have tall sons, but the height of the sons will be closer to the mean of the current adult male population. The same holds for short fathers and their short sons who, nevertheless, tend to be more average than their father.\n",
    "\n",
    "In other words, an exceptionally tall person, say 7 feet, would expect to have tall children but not necessarily 7 feet ) as this is exceptional for normally distibuted data). Contrawise,  an exceptionally short person, say 5 feet, would expect to have short children but not necessarily 5 feet ) as this is exceptional for normally distibuted data).\n"
   ]
  },
  {
   "cell_type": "code",
   "execution_count": 48,
   "metadata": {
    "collapsed": false,
    "scrolled": true
   },
   "outputs": [
    {
     "data": {
      "image/png": "[encoded data removed]",
      "text/plain": [
       "<matplotlib.figure.Figure at 0x115c94290>"
      ]
     },
     "metadata": {},
     "output_type": "display_data"
    }
   ],
   "source": [
    "sns.lmplot(y=\"Height\", x=\"Father\", data=df,  hue=\"Gender\")\n",
    "sns.plt.show()"
   ]
  },
  {
   "cell_type": "code",
   "execution_count": 49,
   "metadata": {
    "collapsed": false
   },
   "outputs": [
    {
     "data": {
      "image/png": "[encoded data removed]",
      "text/plain": [
       "<matplotlib.figure.Figure at 0x116288450>"
      ]
     },
     "metadata": {},
     "output_type": "display_data"
    }
   ],
   "source": [
    "sns.lmplot(y=\"Height\", x=\"Mother\", data=df,  hue=\"Gender\")\n",
    "sns.plt.show()"
   ]
  },
  {
   "cell_type": "markdown",
   "metadata": {},
   "source": [
    "It seems that, in general, if the father is taller the child is taller. Also  if the mother is taller the child is taller.\n",
    "\n",
    "$$ f(x) = \\beta_0 + \\beta_1 x + \\varepsilon . $$\n",
    "\n",
    "Eyeballing both slopes $\\beta_1$ look roughly equal and about 0.4. So we'd expect from this graph a relation (i.e. formula or model) for the son's height.\n",
    "\n",
    "$$ son = \\beta_{0_{son}} + 0.4 x + \\varepsilon $$  \n",
    "\n",
    "and for the daughter's height.\n",
    "\n",
    "$$ daughter = \\beta_{0_{daughter}} + 0.4 x + \\varepsilon $$  \n",
    "\n",
    "Choosing predictors is typically done in 3 ways:  \n",
    "\n",
    "1. Theory / domain knowledge\n",
    "2. EDA - exploritory data analysis.\n",
    "3. Fitting various combinations of outcome and predictors and selecting the best fits (r.g. Stepwise regression)\n",
    "\n",
    "Here Galton was testing an idea/theory. How dependent is a son's height on his father's height? Domain knowledge would also ask how dependent is a son's height on his mother's height? (I'm not sure is Dalton asked this question or not. We will ask this as well as whether tall mother's and father's tend to have even taller children (i.e. multivariate regression))"
   ]
  },
  {
   "cell_type": "code",
   "execution_count": 50,
   "metadata": {
    "collapsed": false
   },
   "outputs": [
    {
     "name": "stdout",
     "output_type": "stream",
     "text": [
      "[ 39.11038684] [[ 0.39938127]]\n"
     ]
    }
   ],
   "source": [
    "# from sklearn import linear_model\n",
    "\n",
    "X = df[[\"Father\"]]\n",
    "y = df[[\"Height\"]]\n",
    "\n",
    "# Fit the linear model\n",
    "model = linear_model.LinearRegression()\n",
    "results = model.fit(X, y)\n",
    "\n",
    "# Print the coefficients\n",
    "print (results.intercept_, results.coef_)"
   ]
  },
  {
   "cell_type": "markdown",
   "metadata": {},
   "source": [
    "This means that our best fit line is:\n",
    "$$y = a + b x$$\n",
    "\n",
    "Which translates in to the equations below:\n",
    "\n",
    "$$ son_{height} = 39.11 + 0.399 x_{father} + \\varepsilon $$  \n",
    "\n",
    "\n",
    "Next let's use `statsmodels`."
   ]
  },
  {
   "cell_type": "code",
   "execution_count": 51,
   "metadata": {
    "collapsed": false,
    "scrolled": false
   },
   "outputs": [
    {
     "data": {
      "text/html": [
       "<table class=\"simpletable\">\n",
       "<caption>OLS Regression Results</caption>\n",
       "<tr>\n",
       "  <th>Dep. Variable:</th>         <td>Height</td>      <th>  R-squared:         </th> <td>   0.997</td> \n",
       "</tr>\n",
       "<tr>\n",
       "  <th>Model:</th>                   <td>OLS</td>       <th>  Adj. R-squared:    </th> <td>   0.997</td> \n",
       "</tr>\n",
       "<tr>\n",
       "  <th>Method:</th>             <td>Least Squares</td>  <th>  F-statistic:       </th> <td>2.898e+05</td>\n",
       "</tr>\n",
       "<tr>\n",
       "  <th>Date:</th>             <td>Thu, 27 Apr 2017</td> <th>  Prob (F-statistic):</th>  <td>  0.00</td>  \n",
       "</tr>\n",
       "<tr>\n",
       "  <th>Time:</th>                 <td>12:24:51</td>     <th>  Log-Likelihood:    </th> <td> -2452.5</td> \n",
       "</tr>\n",
       "<tr>\n",
       "  <th>No. Observations:</th>      <td>   898</td>      <th>  AIC:               </th> <td>   4907.</td> \n",
       "</tr>\n",
       "<tr>\n",
       "  <th>Df Residuals:</th>          <td>   897</td>      <th>  BIC:               </th> <td>   4912.</td> \n",
       "</tr>\n",
       "<tr>\n",
       "  <th>Df Model:</th>              <td>     1</td>      <th>                     </th>     <td> </td>    \n",
       "</tr>\n",
       "<tr>\n",
       "  <th>Covariance Type:</th>      <td>nonrobust</td>    <th>                     </th>     <td> </td>    \n",
       "</tr>\n",
       "</table>\n",
       "<table class=\"simpletable\">\n",
       "<tr>\n",
       "     <td></td>       <th>coef</th>     <th>std err</th>      <th>t</th>      <th>P>|t|</th> <th>[95.0% Conf. Int.]</th> \n",
       "</tr>\n",
       "<tr>\n",
       "  <th>Father</th> <td>    0.9636</td> <td>    0.002</td> <td>  538.311</td> <td> 0.000</td> <td>    0.960     0.967</td>\n",
       "</tr>\n",
       "</table>\n",
       "<table class=\"simpletable\">\n",
       "<tr>\n",
       "  <th>Omnibus:</th>       <td>17.470</td> <th>  Durbin-Watson:     </th> <td>   1.158</td>\n",
       "</tr>\n",
       "<tr>\n",
       "  <th>Prob(Omnibus):</th> <td> 0.000</td> <th>  Jarque-Bera (JB):  </th> <td>   9.840</td>\n",
       "</tr>\n",
       "<tr>\n",
       "  <th>Skew:</th>          <td> 0.008</td> <th>  Prob(JB):          </th> <td> 0.00730</td>\n",
       "</tr>\n",
       "<tr>\n",
       "  <th>Kurtosis:</th>      <td> 2.487</td> <th>  Cond. No.          </th> <td>    1.00</td>\n",
       "</tr>\n",
       "</table>"
      ],
      "text/plain": [
       "<class 'statsmodels.iolib.summary.Summary'>\n",
       "\"\"\"\n",
       "                            OLS Regression Results                            \n",
       "==============================================================================\n",
       "Dep. Variable:                 Height   R-squared:                       0.997\n",
       "Model:                            OLS   Adj. R-squared:                  0.997\n",
       "Method:                 Least Squares   F-statistic:                 2.898e+05\n",
       "Date:                Thu, 27 Apr 2017   Prob (F-statistic):               0.00\n",
       "Time:                        12:24:51   Log-Likelihood:                -2452.5\n",
       "No. Observations:                 898   AIC:                             4907.\n",
       "Df Residuals:                     897   BIC:                             4912.\n",
       "Df Model:                           1                                         \n",
       "Covariance Type:            nonrobust                                         \n",
       "==============================================================================\n",
       "                 coef    std err          t      P>|t|      [95.0% Conf. Int.]\n",
       "------------------------------------------------------------------------------\n",
       "Father         0.9636      0.002    538.311      0.000         0.960     0.967\n",
       "==============================================================================\n",
       "Omnibus:                       17.470   Durbin-Watson:                   1.158\n",
       "Prob(Omnibus):                  0.000   Jarque-Bera (JB):                9.840\n",
       "Skew:                           0.008   Prob(JB):                      0.00730\n",
       "Kurtosis:                       2.487   Cond. No.                         1.00\n",
       "==============================================================================\n",
       "\n",
       "Warnings:\n",
       "[1] Standard Errors assume that the covariance matrix of the errors is correctly specified.\n",
       "\"\"\""
      ]
     },
     "execution_count": 51,
     "metadata": {},
     "output_type": "execute_result"
    }
   ],
   "source": [
    "# import statsmodels.api as sm\n",
    "# Note the swap of X and y\n",
    "model = sm.OLS(y, X)\n",
    "results = model.fit()\n",
    "# Statsmodels gives R-like statistical output\n",
    "results.summary()"
   ]
  },
  {
   "cell_type": "code",
   "execution_count": 52,
   "metadata": {
    "collapsed": false
   },
   "outputs": [
    {
     "name": "stdout",
     "output_type": "stream",
     "text": [
      "Parameters:  Father    0.963575\n",
      "dtype: float64\n",
      "R2:  0.996914082281\n"
     ]
    }
   ],
   "source": [
    "print('Parameters: ', results.params)\n",
    "print('R2: ', results.rsquared)"
   ]
  },
  {
   "cell_type": "markdown",
   "metadata": {},
   "source": [
    "Note that the coefficients are almost identical to what we saw before with scikit-learn, and the fit is very good ($R^2=0.997$). \n",
    "\n",
    "If you look closely you'll note that this model doesn't include an intercept by default like scikit-learn does. There's an easy way to do this using add_constant(X)"
   ]
  },
  {
   "cell_type": "code",
   "execution_count": 53,
   "metadata": {
    "collapsed": false,
    "scrolled": true
   },
   "outputs": [
    {
     "data": {
      "text/plain": [
       "[<matplotlib.lines.Line2D at 0x114536d90>]"
      ]
     },
     "execution_count": 53,
     "metadata": {},
     "output_type": "execute_result"
    },
    {
     "data": {
      "image/png": "[encoded data removed]",
      "text/plain": [
       "<matplotlib.figure.Figure at 0x1145aaf50>"
      ]
     },
     "metadata": {},
     "output_type": "display_data"
    }
   ],
   "source": [
    "X = df[[\"Father\"]]\n",
    "y = df[[\"Height\"]]\n",
    "plt.plot(X, y, \"o\")"
   ]
  },
  {
   "cell_type": "code",
   "execution_count": 54,
   "metadata": {
    "collapsed": false
   },
   "outputs": [
    {
     "data": {
      "image/png": "[encoded data removed]",
      "text/plain": [
       "<matplotlib.figure.Figure at 0x113b14310>"
      ]
     },
     "metadata": {},
     "output_type": "display_data"
    }
   ],
   "source": [
    "X = sm.add_constant(X) #  Our model needs an intercept so we add a column of 1s:\n",
    "plt.plot(X, y, \"o\")\n",
    "x2 = np.linspace(0, 80, 55)\n",
    "y2 = 39.11 + (0.3994*x2)\n",
    "plt.plot(x2, y2, lw=2, color=\"r\")\n",
    "x2 = np.linspace(55, 80, 33)\n",
    "y2 = (0.963575*x2)\n",
    "plt.plot(x2, y2, lw=2, color=\"g\")\n",
    "plt.show()"
   ]
  },
  {
   "cell_type": "code",
   "execution_count": 55,
   "metadata": {
    "collapsed": false,
    "scrolled": true
   },
   "outputs": [
    {
     "data": {
      "text/html": [
       "<table class=\"simpletable\">\n",
       "<caption>OLS Regression Results</caption>\n",
       "<tr>\n",
       "  <th>Dep. Variable:</th>         <td>Height</td>      <th>  R-squared:         </th> <td>   0.076</td>\n",
       "</tr>\n",
       "<tr>\n",
       "  <th>Model:</th>                   <td>OLS</td>       <th>  Adj. R-squared:    </th> <td>   0.075</td>\n",
       "</tr>\n",
       "<tr>\n",
       "  <th>Method:</th>             <td>Least Squares</td>  <th>  F-statistic:       </th> <td>   73.51</td>\n",
       "</tr>\n",
       "<tr>\n",
       "  <th>Date:</th>             <td>Thu, 27 Apr 2017</td> <th>  Prob (F-statistic):</th> <td>4.35e-17</td>\n",
       "</tr>\n",
       "<tr>\n",
       "  <th>Time:</th>                 <td>12:24:51</td>     <th>  Log-Likelihood:    </th> <td> -2384.3</td>\n",
       "</tr>\n",
       "<tr>\n",
       "  <th>No. Observations:</th>      <td>   898</td>      <th>  AIC:               </th> <td>   4773.</td>\n",
       "</tr>\n",
       "<tr>\n",
       "  <th>Df Residuals:</th>          <td>   896</td>      <th>  BIC:               </th> <td>   4782.</td>\n",
       "</tr>\n",
       "<tr>\n",
       "  <th>Df Model:</th>              <td>     1</td>      <th>                     </th>     <td> </td>   \n",
       "</tr>\n",
       "<tr>\n",
       "  <th>Covariance Type:</th>      <td>nonrobust</td>    <th>                     </th>     <td> </td>   \n",
       "</tr>\n",
       "</table>\n",
       "<table class=\"simpletable\">\n",
       "<tr>\n",
       "     <td></td>       <th>coef</th>     <th>std err</th>      <th>t</th>      <th>P>|t|</th> <th>[95.0% Conf. Int.]</th> \n",
       "</tr>\n",
       "<tr>\n",
       "  <th>const</th>  <td>   39.1104</td> <td>    3.227</td> <td>   12.120</td> <td> 0.000</td> <td>   32.777    45.444</td>\n",
       "</tr>\n",
       "<tr>\n",
       "  <th>Father</th> <td>    0.3994</td> <td>    0.047</td> <td>    8.574</td> <td> 0.000</td> <td>    0.308     0.491</td>\n",
       "</tr>\n",
       "</table>\n",
       "<table class=\"simpletable\">\n",
       "<tr>\n",
       "  <th>Omnibus:</th>       <td>25.507</td> <th>  Durbin-Watson:     </th> <td>   1.342</td>\n",
       "</tr>\n",
       "<tr>\n",
       "  <th>Prob(Omnibus):</th> <td> 0.000</td> <th>  Jarque-Bera (JB):  </th> <td>  13.383</td>\n",
       "</tr>\n",
       "<tr>\n",
       "  <th>Skew:</th>          <td> 0.080</td> <th>  Prob(JB):          </th> <td> 0.00124</td>\n",
       "</tr>\n",
       "<tr>\n",
       "  <th>Kurtosis:</th>      <td> 2.424</td> <th>  Cond. No.          </th> <td>1.94e+03</td>\n",
       "</tr>\n",
       "</table>"
      ],
      "text/plain": [
       "<class 'statsmodels.iolib.summary.Summary'>\n",
       "\"\"\"\n",
       "                            OLS Regression Results                            \n",
       "==============================================================================\n",
       "Dep. Variable:                 Height   R-squared:                       0.076\n",
       "Model:                            OLS   Adj. R-squared:                  0.075\n",
       "Method:                 Least Squares   F-statistic:                     73.51\n",
       "Date:                Thu, 27 Apr 2017   Prob (F-statistic):           4.35e-17\n",
       "Time:                        12:24:51   Log-Likelihood:                -2384.3\n",
       "No. Observations:                 898   AIC:                             4773.\n",
       "Df Residuals:                     896   BIC:                             4782.\n",
       "Df Model:                           1                                         \n",
       "Covariance Type:            nonrobust                                         \n",
       "==============================================================================\n",
       "                 coef    std err          t      P>|t|      [95.0% Conf. Int.]\n",
       "------------------------------------------------------------------------------\n",
       "const         39.1104      3.227     12.120      0.000        32.777    45.444\n",
       "Father         0.3994      0.047      8.574      0.000         0.308     0.491\n",
       "==============================================================================\n",
       "Omnibus:                       25.507   Durbin-Watson:                   1.342\n",
       "Prob(Omnibus):                  0.000   Jarque-Bera (JB):               13.383\n",
       "Skew:                           0.080   Prob(JB):                      0.00124\n",
       "Kurtosis:                       2.424   Cond. No.                     1.94e+03\n",
       "==============================================================================\n",
       "\n",
       "Warnings:\n",
       "[1] Standard Errors assume that the covariance matrix of the errors is correctly specified.\n",
       "[2] The condition number is large, 1.94e+03. This might indicate that there are\n",
       "strong multicollinearity or other numerical problems.\n",
       "\"\"\""
      ]
     },
     "execution_count": 55,
     "metadata": {},
     "output_type": "execute_result"
    }
   ],
   "source": [
    "model = sm.OLS(y, X)\n",
    "results = model.fit()\n",
    "results.summary()"
   ]
  },
  {
   "cell_type": "code",
   "execution_count": 56,
   "metadata": {
    "collapsed": false
   },
   "outputs": [
    {
     "name": "stdout",
     "output_type": "stream",
     "text": [
      "Parameters:  const     39.110387\n",
      "Father     0.399381\n",
      "dtype: float64\n",
      "R2:  0.0758202803404\n"
     ]
    }
   ],
   "source": [
    "print('Parameters: ', results.params)\n",
    "print('R2: ', results.rsquared)"
   ]
  },
  {
   "cell_type": "markdown",
   "metadata": {},
   "source": [
    "Note that the coefficients are almost identical to what we saw before with scikit-learn, and the fit is pretty good ($R^2=0.927$)."
   ]
  },
  {
   "cell_type": "markdown",
   "metadata": {},
   "source": [
    "Note that the coefficients are almost identical to what we saw before with scikit-learn, and the fit is pretty good ($R^2=0.927$)."
   ]
  },
  {
   "cell_type": "markdown",
   "metadata": {},
   "source": [
    "## Assessing the model fit  \n",
    "\n",
    "To evaluate a regression model we ask the following questions:\n",
    "\n",
    "A. Does it make sense?  \n",
    "B. Is the \"true\" $\\beta_1$ significantly differnet from  $\\beta_1 = 0$?  \n",
    "C. Are any assumptions of the model violated?  \n",
    "D. How tightly the parameter estimation fits the residuals?  \n",
    "\n",
    "\n",
    "## Hypothesis testing: Is he \"true\" $\\beta_1 \\neq 0$?\n",
    "\n",
    "Recall that when the slope $\\beta_1 = 0$ we have no relationship between the outcome and predictors.\n",
    "\n",
    "Hypothesis tests assume the thing you want to disprove, and then to look for evidence that the assumption is wrong. In this case, we assume that there is no relationship between $x$ and $f(x)$. This is called the *null hypothesis* and is stated as\n",
    "\n",
    "$$H_0: \\beta_1 = 0$$\n",
    "\n",
    "Evidence against this hypothesis is provided by the value of $\\hat{\\beta}_1$, the slope estimated from the data. If $\\hat{\\beta}_1$ is very different from zero, we conclude that the null hypothesis is incorrect and that the evidence suggests there really is a relationship between $x$ and $f(x)$.\n",
    "\n",
    "There are many hypothesis tests that can be used to test whether the \"true\" $\\beta_1 \\neq 0$:\n",
    "\n",
    "* Student’s T-Tests\n",
    "* One-Sample T-Test\n",
    "* Two-Sample T-Test\n",
    "* Paired T-Test\n",
    "* Wilcoxon Rank-Sum Test\n",
    "* Analysis of Variance (ANOVA)\n",
    "* Kruskal-Wallis Test\n",
    "\n",
    "We will discuss these more in the module on hypothesis testing. As R's lm() function gives p-values by default we will focus on them.\n",
    "\n",
    "## P-value\n",
    "\n",
    "To determine how big the difference between $\\hat{\\beta}_1$ (the \"true\"  $\\beta_1$) and $\\beta_1$ must be before we would reject the null hypothesis, we calculate the probability of obtaining a value of $\\beta_1$ as large as we have calculated if the null hypothesis were true. This probability is known as the *P-value*.\n",
    "\n",
    "In statistics, the p-value is a function of the observed sample results (a statistic) that is used for testing a statistical hypothesis. Before the test is performed, a threshold value is chosen, called the significance level of the test, traditionally 5% or 1% and denoted as $\\alpha$.  \n",
    "\n",
    "If the p-value is equal to or smaller than the significance level ($\\alpha$), it suggests that the observed data are inconsistent with the assumption that the null hypothesis is true and thus that hypothesis must be rejected (but this does not automatically mean the alternative hypothesis can be accepted as true). When the p-value is calculated correctly, such a test is guaranteed to control the Type I error rate to be no greater than $\\alpha$.\n",
    "\n",
    "from [P-value](https://en.wikipedia.org/wiki/P-value)\n",
    "\n",
    "## Confidence intervals\n",
    "\n",
    "In statistics, a confidence interval (CI) is a type of interval estimate of a population parameter. It provides an interval estimate for lower or upper confidence bounds. For $\\beta_1$, usually referred to as a *confidence interval* and is typically +/-0.5% (a 99% confidence interval),+/-1% (a 98% confidence interval),+/-2.5% (a 95% confidence interval) or +/-5% (a 90% confidence interval). The lower and upper confidence bounds need not be equal, and they can be any number such that the confidence interval not exceed 100%.\n",
    "\n",
    "\n",
    "## Residual plots\n",
    "\n",
    "The error term $\\varepsilon_i$ has the following assumptions:\n",
    "\n",
    "* have mean zero; otherwise the forecasts will be systematically biased.\n",
    "* statistical independence of the errors (in particular, no correlation between consecutive errors in the case of time series data).\n",
    "* homoscedasticity (constant variance) of the errors.\n",
    "* normality of the error distribution.  \n",
    "\n",
    "Plotting the residuals can asses whether (or how much) these assumptions were violated. We will use R to generate residual plots in lesson 2.\n",
    "\n",
    "![Homoscedasticity](images/Homoscedasticity.png)\n",
    "\n",
    "![Heteroscedasticity](images/Heteroscedasticity.png)\n",
    "\n",
    "## Outliers\n",
    "\n",
    "Observations that take on extreme values compared to the majority can strongky effect the least squares estimators:\n",
    "\n",
    "$$\\hat{\\beta}_1=\\frac{ \\sum_{i=1}^{N}(y_i-\\bar{y})(x_i-\\bar{x})}{\\sum_{i=1}^{N}(x_i-\\bar{x})^2} $$ \n",
    "\n",
    "and\n",
    "\n",
    "$$\\hat{\\beta}_0=\\bar{y}-\\hat{\\beta}_1\\bar{x}, $$ \n",
    "\n",
    "Plotting and occasionally removing outliers and refitting is part of the modeling process.  \n",
    "\n",
    "## Standard Error of the Regression\n",
    "\n",
    "How well the model has fitted the data can be thought of as how \"tightly\" the date fit the regression line. That is, the spread, variance or standard deviation of the residuals.This spread between fitted and actual values is usually known as the *standard error of the regression*:\n",
    "\n",
    "$$s_e=\\sqrt{\\frac{1}{N-2}\\sum_{i=1}^{N}{e_i^2}}.$$\n",
    "\n",
    "Here, we divide by $N-2$ because we have estimated two parameters (the intercept and slope) in computing the residuals. Normally, we only need to estimate the mean (i.e., one parameter) when computing a standard deviation. The divisor is always $N$ minus the number of parameters estimated in the calculation.\n",
    "\n",
    "Note that we can (and should) visualize the predicted vs actual values as this gives more information about the homoscedasticity (constant variance) of the errors."
   ]
  },
  {
   "cell_type": "markdown",
   "metadata": {},
   "source": [
    "## The t-statistic and the standard error\n",
    "\n",
    "The standard error (SE) is the standard deviation of the sampling distribution of a statistic. A sampling distribution is the probability distribution of a given statistic based on a random sample. The dispersion of sample means around the population mean is the standard error. The dispersion of individual observations around the population mean is the standard deviation. The standard error equals the standard deviation divided by the square root of the sample size. As the sample size increases, the dispersion of the sample means clusters more closely around the population mean and the standard error decreases. The standard error is an estimate of the standard deviation of the coefficient. It can be thought of as the spread between fitted and actual values.\n",
    "\n",
    "$f(x) = \\beta_0 + \\beta_1 x + \\varepsilon . $\n",
    "\n",
    "Is $H_0: \\beta_1 = 0$?\n",
    "\n",
    "![Standard deviation diagram](images/Standard_deviation_diagram.svg.png)\n",
    "\n",
    "The t-statistic is the coefficient divided by its standard error. For example, a $\\beta_1$ of 38.2 divided by a standard error of 3.4 would give a t value of 11.2. \n",
    "\n",
    "For a t-statistic high is good. A $\\beta_1$ of 38.2 ivided by a standard error of 38.2 would give a t value of 1. A $\\beta_1$ of 38.2 ivided by a standard error of 14.1 would give a t value of 2.\n",
    "\n",
    "\n",
    "$$s_e=\\sqrt{\\frac{1}{N-2}\\sum_{i=1}^{N}{e_i^2}}.$$\n",
    "\n",
    "\n",
    "If a coefficient is large compared to its standard error, then we can reject the hypothesis that $\\beta_1$ = 0. Intuitively we can think of this if the slope is not small and there is a not much spread between fitted and actual values then we can be confident that the true slope $\\hat{\\beta}_1$ is not 0.\n",
    "\n",
    "A t-statistic (t value) of greater than 2 in magnitude, corresponds to p-values less than 0.05.\n",
    "\n",
    "The p-value is a function of the observed sample results (a statistic) that is used for testing a statistical hypothesis. Before the test is performed, a threshold value is chosen, called the significance level of the test, traditionally 5% or 1% and denoted as $\\alpha$.  \n",
    "\n",
    "If the p-value is equal to or smaller than the significance level ($\\alpha$), it suggests that the observed data are inconsistent with the assumption that the null hypothesis is true and thus that hypothesis must be rejected (but this does not automatically mean the alternative hypothesis can be accepted as true). When the p-value is calculated correctly, such a test is guaranteed to control the Type I error rate to be no greater than $\\alpha$.\n",
    "\n",
    "from [P-value](https://en.wikipedia.org/wiki/P-value)"
   ]
  },
  {
   "cell_type": "markdown",
   "metadata": {},
   "source": [
    "## R-squared $R^2$ \n",
    "\n",
    "[R-squared](https://en.wikipedia.org/wiki/Coefficient_of_determination)   (coefficient of determination) is a statistical measure of how close the data are to the fitted regression line. the coefficient of determination, denoted $R^2$ or $r^2$ and pronounced \"R squared\", is a number that indicates the proportion of the variance in the dependent variable that is predictable from the independent variable(s).\n",
    "\n",
    "R-squared = Explained variation / Total variation\n",
    "\n",
    "R-squared is always between 0 and 100%:\n",
    "\n",
    "* 0% (or 0) indicates that the model explains none of the variability of the response data around its mean.  \n",
    "* 100% (or 1) indicates that the model explains all the variability of the response data around its mean. \n",
    "\n",
    "The higher the R-squared, the better the model fits your data. \n",
    "\n",
    "The better the linear regression fits the data in comparison to the simple average (on the left graph), the closer the value of $R^2$ is to 1. The areas of the blue squares represent the squared residuals with respect to the linear regression. The areas of the red squares represent the squared residuals with respect to the average value.]]\n",
    "\n",
    "A data set has $n$ values marked $y_1$,...,$y_n$ (collectively known as $y_i$ or as a vector $y = [y_1,..., y_n]^T$), each associated with a predicted (or modeled) value $\\hat{y}_{1},...,\\hat{y}_{n}$.\n",
    "\n",
    "Define the residuals as as $e_i = y_i − \\hat{y}_{i}$ (forming a vector $e$).\n",
    "\n",
    "If $\\bar{y}$ is the mean of the observed data:\n",
    "\n",
    "$$\\bar{y}=\\frac{1}{n}\\sum_{i=1}^n y_i $$\n",
    "\n",
    "then the variability of the data set can be measured using three sums of square formulas:\n",
    "\n",
    "* The total sum of squares (proportional to the variance of the data):\n",
    "\n",
    " $$SS_\\text{tot}=\\sum_i (y_i-\\bar{y})^2,$$\n",
    "\n",
    "* The regression sum of squares, also called the explained sum of squares:\n",
    "\n",
    "$$SS_\\text{reg}=\\sum_i (\\hat{y}_{i} -\\bar{y})^2,$$\n",
    "\n",
    "* The sum of squares of residuals, also called the residual sum of squares:\n",
    "\n",
    "$$SS_\\text{res}=\\sum_i (y_i - \\hat{y}_{i})^2=\\sum_i e_i^2\\,$$\n",
    "\n",
    "![Correlation_examples](images/r-squared_A.png)\n",
    "\n",
    "The most general definition of the coefficient of determination is\n",
    "\n",
    "$$R^2 \\equiv 1 - {SS_{\\rm residuals}\\over SS_{\\rm total}}.\\,$$\n",
    "\n",
    "$R^2$ can be thought of as *the proportion of variation in the forecast variable that is accounted for (or explained) by the regression model**\n",
    "\n",
    "In the definition of $R^2$, $0 \\geq R^2 \\geq 1$ as is similar to he value of $r^2$ (the square of the pearson correlation between $f(x)$ and $x$.\n",
    "\n",
    "\n",
    "![Correlation_examples](images/r-squared.png)\n",
    "\n",
    "Image credit: [http://www.rapidinsightinc.com/brushing-r-squared/](http://www.rapidinsightinc.com/brushing-r-squared/)\n"
   ]
  },
  {
   "cell_type": "code",
   "execution_count": 57,
   "metadata": {
    "collapsed": false
   },
   "outputs": [],
   "source": [
    "def random_distributions(n=555):\n",
    "  mu, sigma, scale = 5.5, 2*np.sqrt(2), 0.5\n",
    "  a = np.random.normal(mu, sigma, n)\n",
    "  b = np.random.normal(mu, sigma, n)\n",
    "  c = np.linspace(np.amin(a),np.amax(a),n)\n",
    "  d = mu + (sigma*c) + np.random.normal(mu*scale, sigma*scale, n)\n",
    "  df = pd.DataFrame({'A' :a, 'B' :b,'C' :c,'D' :d})\n",
    "  return df"
   ]
  },
  {
   "cell_type": "code",
   "execution_count": 58,
   "metadata": {
    "collapsed": false
   },
   "outputs": [
    {
     "data": {
      "text/html": [
       "<div>\n",
       "<table border=\"1\" class=\"dataframe\">\n",
       "  <thead>\n",
       "    <tr style=\"text-align: right;\">\n",
       "      <th></th>\n",
       "      <th>A</th>\n",
       "      <th>B</th>\n",
       "      <th>C</th>\n",
       "      <th>D</th>\n",
       "    </tr>\n",
       "  </thead>\n",
       "  <tbody>\n",
       "    <tr>\n",
       "      <th>0</th>\n",
       "      <td>10.627101</td>\n",
       "      <td>6.098237</td>\n",
       "      <td>-3.190772</td>\n",
       "      <td>-2.753437</td>\n",
       "    </tr>\n",
       "    <tr>\n",
       "      <th>1</th>\n",
       "      <td>1.888265</td>\n",
       "      <td>6.495606</td>\n",
       "      <td>-3.159488</td>\n",
       "      <td>-0.427798</td>\n",
       "    </tr>\n",
       "    <tr>\n",
       "      <th>2</th>\n",
       "      <td>8.673075</td>\n",
       "      <td>8.849652</td>\n",
       "      <td>-3.128204</td>\n",
       "      <td>-1.689514</td>\n",
       "    </tr>\n",
       "    <tr>\n",
       "      <th>3</th>\n",
       "      <td>7.185813</td>\n",
       "      <td>5.419922</td>\n",
       "      <td>-3.096920</td>\n",
       "      <td>-0.070604</td>\n",
       "    </tr>\n",
       "    <tr>\n",
       "      <th>4</th>\n",
       "      <td>4.281947</td>\n",
       "      <td>14.342182</td>\n",
       "      <td>-3.065636</td>\n",
       "      <td>-0.292708</td>\n",
       "    </tr>\n",
       "  </tbody>\n",
       "</table>\n",
       "</div>"
      ],
      "text/plain": [
       "           A          B         C         D\n",
       "0  10.627101   6.098237 -3.190772 -2.753437\n",
       "1   1.888265   6.495606 -3.159488 -0.427798\n",
       "2   8.673075   8.849652 -3.128204 -1.689514\n",
       "3   7.185813   5.419922 -3.096920 -0.070604\n",
       "4   4.281947  14.342182 -3.065636 -0.292708"
      ]
     },
     "execution_count": 58,
     "metadata": {},
     "output_type": "execute_result"
    }
   ],
   "source": [
    "n=555\n",
    "df=random_distributions(n)\n",
    "df.head()"
   ]
  },
  {
   "cell_type": "code",
   "execution_count": 59,
   "metadata": {
    "collapsed": false,
    "scrolled": true
   },
   "outputs": [
    {
     "data": {
      "text/html": [
       "<div>\n",
       "<table border=\"1\" class=\"dataframe\">\n",
       "  <thead>\n",
       "    <tr style=\"text-align: right;\">\n",
       "      <th></th>\n",
       "      <th>A</th>\n",
       "      <th>B</th>\n",
       "      <th>C</th>\n",
       "      <th>D</th>\n",
       "    </tr>\n",
       "  </thead>\n",
       "  <tbody>\n",
       "    <tr>\n",
       "      <th>count</th>\n",
       "      <td>555.000000</td>\n",
       "      <td>555.000000</td>\n",
       "      <td>555.000000</td>\n",
       "      <td>555.000000</td>\n",
       "    </tr>\n",
       "    <tr>\n",
       "      <th>mean</th>\n",
       "      <td>5.476598</td>\n",
       "      <td>5.463612</td>\n",
       "      <td>5.474899</td>\n",
       "      <td>23.647838</td>\n",
       "    </tr>\n",
       "    <tr>\n",
       "      <th>std</th>\n",
       "      <td>2.776902</td>\n",
       "      <td>2.819924</td>\n",
       "      <td>5.016672</td>\n",
       "      <td>14.288140</td>\n",
       "    </tr>\n",
       "    <tr>\n",
       "      <th>min</th>\n",
       "      <td>-3.190772</td>\n",
       "      <td>-1.153415</td>\n",
       "      <td>-3.190772</td>\n",
       "      <td>-2.753437</td>\n",
       "    </tr>\n",
       "    <tr>\n",
       "      <th>25%</th>\n",
       "      <td>3.586144</td>\n",
       "      <td>3.242092</td>\n",
       "      <td>1.142064</td>\n",
       "      <td>11.079762</td>\n",
       "    </tr>\n",
       "    <tr>\n",
       "      <th>50%</th>\n",
       "      <td>5.508179</td>\n",
       "      <td>5.393823</td>\n",
       "      <td>5.474899</td>\n",
       "      <td>23.593616</td>\n",
       "    </tr>\n",
       "    <tr>\n",
       "      <th>75%</th>\n",
       "      <td>7.498298</td>\n",
       "      <td>7.421022</td>\n",
       "      <td>9.807735</td>\n",
       "      <td>35.650016</td>\n",
       "    </tr>\n",
       "    <tr>\n",
       "      <th>max</th>\n",
       "      <td>14.140570</td>\n",
       "      <td>14.342182</td>\n",
       "      <td>14.140570</td>\n",
       "      <td>49.505494</td>\n",
       "    </tr>\n",
       "  </tbody>\n",
       "</table>\n",
       "</div>"
      ],
      "text/plain": [
       "                A           B           C           D\n",
       "count  555.000000  555.000000  555.000000  555.000000\n",
       "mean     5.476598    5.463612    5.474899   23.647838\n",
       "std      2.776902    2.819924    5.016672   14.288140\n",
       "min     -3.190772   -1.153415   -3.190772   -2.753437\n",
       "25%      3.586144    3.242092    1.142064   11.079762\n",
       "50%      5.508179    5.393823    5.474899   23.593616\n",
       "75%      7.498298    7.421022    9.807735   35.650016\n",
       "max     14.140570   14.342182   14.140570   49.505494"
      ]
     },
     "execution_count": 59,
     "metadata": {},
     "output_type": "execute_result"
    }
   ],
   "source": [
    "df.describe()"
   ]
  },
  {
   "cell_type": "code",
   "execution_count": 60,
   "metadata": {
    "collapsed": false
   },
   "outputs": [
    {
     "data": {
      "image/png": "[encoded data removed]",
      "text/plain": [
       "<matplotlib.figure.Figure at 0x113e65910>"
      ]
     },
     "metadata": {},
     "output_type": "display_data"
    }
   ],
   "source": [
    "X = df[\"A\"]\n",
    "y = df[\"B\"]\n",
    "fit= np.polyfit(X, y, 1)\n",
    "fit_fn = np.poly1d(fit)\n",
    "plt.plot(X,y, 'yo', X, fit_fn(X), '--k')\n",
    "x2 = np.linspace(np.amin(X),np.amax(X),n)\n",
    "y2 = np.ones(n)*np.mean(y)\n",
    "plt.plot(x2, y2, lw=3, color=\"g\")\n",
    "plt.show()"
   ]
  },
  {
   "cell_type": "markdown",
   "metadata": {},
   "source": [
    "SSR is the \"regression sum of squares\" and quantifies how far the estimated sloped regression line, $\\hat{y}_{i}$, is from the horizontal \"no relationship line,\" the sample mean or $\\bar{y}$ (the straight green line).\n",
    "\n",
    "$$SS_\\text{regression}=\\sum_i (\\hat{y}_{i} -\\bar{y})^2,$$\n",
    "\n",
    "Note:  $\\hat{y}_{i}$ is the predicted value on the regression line.\n",
    "\n",
    "In a poor fit $SS_\\text{regression}$ is small in relation to the variance around $\\bar{y}$ (i.e. the total variance)."
   ]
  },
  {
   "cell_type": "code",
   "execution_count": 61,
   "metadata": {
    "collapsed": false,
    "scrolled": true
   },
   "outputs": [
    {
     "data": {
      "image/png": "[encoded data removed]",
      "text/plain": [
       "<matplotlib.figure.Figure at 0x113f4fb50>"
      ]
     },
     "metadata": {},
     "output_type": "display_data"
    }
   ],
   "source": [
    "X = df[\"C\"]\n",
    "y = df[\"D\"]\n",
    "fit= np.polyfit(X, y, 1)\n",
    "fit_fn = np.poly1d(fit)\n",
    "plt.plot(X,y, 'yo', X, fit_fn(X), '--k')\n",
    "x2 = np.linspace(np.amin(X),np.amax(X),n)\n",
    "y2 = np.ones(n)*np.mean(y)\n",
    "plt.plot(x2, y2, lw=3, color=\"g\")\n",
    "plt.show()"
   ]
  },
  {
   "cell_type": "markdown",
   "metadata": {},
   "source": [
    "SSE is the \"error sum of squares\" or \"least square error\" and quantifies how much the data points, $y_i$, vary around the estimated regression line, $\\hat{y}_{i}$.\n",
    "\n",
    "The sum of squares of residuals, also called the residual sum of squares, error sum of squares and least square error:\n",
    "\n",
    "$$SS_\\text{residuals}=\\sum_i (y_i - \\hat{y}_{i})^2=\\sum_i e_i^2\\,$$\n",
    "\n",
    "NOTE: That if the $SS_\\text{residuals}$ is small, it is good. One wants the residual error to be small.\n",
    "\n",
    "SSTO ($SS_\\text{total}$) is the \"total sum of squares\" and quantifies how much the data points, $y_i$, vary around their mean, $\\bar{y}$.\n",
    "\n",
    "$$SS_\\text{total}=\\sum_i (y_i - \\bar{y}_{i})^2=\\sum_i e_i^2\\,$$\n",
    "\n",
    "Note that $SS_\\text{total} = SS_\\text{regression} + SS_\\text{residuals}$.\n",
    "\n",
    "The most general definition of the coefficient of determination is\n",
    "\n",
    "$$R^2 \\equiv {SS_{\\rm regression}\\over SS_{\\rm total}}  \\equiv 1 - {SS_{\\rm residuals}\\over SS_{\\rm total}} $$\n",
    "\n",
    "Therefore when $SS_{\\rm residuals}$ is small in relation to $SS_{\\rm total}$ then $R^2$ will be high (near 1).\n",
    "\n",
    "\n"
   ]
  },
  {
   "cell_type": "markdown",
   "metadata": {},
   "source": [
    "## F-test \n",
    "\n",
    "In regression it is known that \n",
    "\n",
    "$$ Var(residuals) \\over Var(errors) $$\n",
    "\n",
    "$f(x) = \\beta_0 + \\beta_1 x_1 + \\beta_2 x_2 + \\beta_3 x_3 ... + \\beta_n x_n + \\varepsilon . $\n",
    "\n",
    "Is $H_0: \\beta_1 = \\beta_2 = \\beta_3  ... = \\beta_n = 0$?\n",
    "\n",
    "$$\n",
    "H_{0}: β_{1}= β_{2}=….= β_{n} = 0\n",
    "$$\n",
    "$$\n",
    "H_{1}: \\quad at \\quad least \\quad one \\quad pair \\quad  β_{j}≠ β_{j'}\n",
    "$$\n",
    "The o\n",
    "\n",
    "follows a [Chi-squared](https://en.wikipedia.org/wiki/Chi-squared_distribution) $\\chi^2$ distribution.\n",
    "\n",
    "The p-values and t-stats assess the fit of individual parameters. It would be nice to have a measure of fit that assesses the overall regression. The F-stat is a measure for the regression as a whol\n",
    "\n",
    "An [F-test](https://en.wikipedia.org/wiki/F-test) is any statistical test in which the test statistic has an F-distribution under the null hypothesis. Like a t-statistic, or a p-value it provides an estimate of whether one should accept or reject the null hypothesis. The F-test is sensitive to non-normality (as is a t-statistic) but is appropriate under the assumptions of normality and [homoscedasticity](https://en.wikipedia.org/wiki/Homoscedasticity).\n",
    "\n",
    "In a sum of squares due to lack of fit is one of the components of a partition of the sum of squares in an analysis of variance, used in the numerator in an F-test of the null hypothesis that says that a proposed whole model fits well.\n",
    "\n",
    "In order for the lack-of-fit sum of squares to differ from the Residual sum of squares, there must be more than one value of the response variable for at least one of the values of the set of predictor variables.  For example, consider fitting a line\n",
    "\n",
    "$$ y = \\alpha x + \\beta \\, $$\n",
    "\n",
    "by the method of least squares.  One takes as estimates of ''α'' and ''β'' the values that minimize the sum of squares of residuals, i.e., the sum of squares of the differences between the observed ''y''-value and the fitted ''y''-value.  To have a lack-of-fit sum of squares that differs from the residual sum of squares, one must observe more than one ''y''-value for each of one or more of the ''x''-values.  One then partitions the \"sum of squares due to error\", i.e., the sum of squares of residuals, into two components:\n",
    "\n",
    "$$\n",
    "\\begin{align}\n",
    "F & = \\frac{ \\text{lack-of-fit sum of squares} /\\text{degrees of freedom} }{\\text{pure-error sum of squares} / \\text{degrees of freedom} } \\\\[8pt]\n",
    "& = \\frac{\\left.\\sum_{i=1}^n n_i \\left( \\overline Y_{i\\bullet} - \\widehat Y_i \\right)^2\\right/ (n-p)}{\\left.\\sum_{i=1}^n \\sum_{j=1}^{n_i} \\left(Y_{ij} - \\overline Y_{i\\bullet}\\right)^2 \\right/ (N - n)}\n",
    "\\end{align}\n",
    "$$\n",
    "\n",
    "has an *F-distribution* with the corresponding number of degrees of freedom in the numerator and the denominator, provided that the model is correct. If the model is wrong, then the probability distribution of the denominator is still as stated above, and the numerator and denominator are still independent.  But the numerator then has a *noncentral chi-squared distribution*, and consequently the quotient as a whole has a *non-central F-distribution*. The F-distribution, also known as Snedecor's F distribution or the Fisher–Snedecor distribution (after Ronald Fisher and George W. Snedecor) is a continuous probability distribution that arises frequently as the null distribution of a test statistic, most notably in the analysis of variance.\n",
    "\n",
    "The assumptions of normal distribution of errors and independence can be shown to entail that this lack-of-fit test is the *likelihood-ratio test* of this null hypothesis.\n",
    "  \n",
    "A high F-stat is good."
   ]
  },
  {
   "cell_type": "markdown",
   "metadata": {},
   "source": [
    "## Leverage \n",
    "\n",
    "A data point has high leverage if it has \"extreme\" predictor x values. With a single predictor, an extreme x value is simply one that is particularly high or low.  \n"
   ]
  },
  {
   "cell_type": "markdown",
   "metadata": {},
   "source": [
    "## Influence\n",
    "\n",
    "A data point is influential if it unduly influences any part of a regression analysis. Influence is high leverage and high residuals and is often meaured by statistics like the Cook's distance.\n",
    "\n",
    "![Leverage vs Influenc](images/leverage_vs_influence.png)\n",
    "\n",
    "Image credit:  [Leverage and Influential Points in Simple Linear Regression https://youtu.be/xc_X9GFVuVU](Leverage and Influential Points in Simple Linear Regression https://youtu.be/xc_X9GFVuVU)"
   ]
  },
  {
   "cell_type": "markdown",
   "metadata": {},
   "source": [
    "## K-fold cross validation \n",
    "\n",
    "In general  to assess the fit of the model one can use summary measures of goodness of fit (such as $R^2$) or by assessing the predictive ability of the model (using  k-fold cross-validation). We'd also like to deterime if there’s any observations that do not fit the model or that have an undue influence on the model.\n",
    "\n",
    "K-fold cross validation is a simple, intuitive way to estimate prediction error.  K-fold cross-validation, which partitions the data into $k$ equally sized segments (called ‘folds’). One fold is held out for validation while the other $k-1$ folds are used to train the model and then used to predict the target variable in our testing data. This process is repeated $k$ times, with the performance of each model in predicting the hold-out set being tracked using a performance metric such as accuracy. In the case of regression that would be the residuals of the test set based on the linear model generated for the training set."
   ]
  },
  {
   "cell_type": "markdown",
   "metadata": {},
   "source": [
    "## Forecasting with regression\n",
    "\n",
    "Forecasts from a simple linear model are obtained using the equation $$\\hat{f(x)}=\\hat{\\beta}_0+\\hat{\\beta}_1 x $$ where $x$ is the value of the predictor for which we require a forecast.\n",
    "\n",
    "Given a new unobserved x we can easily predict $f(x)$ given our estimates $\\beta_0 and \\beta_1$\n"
   ]
  },
  {
   "cell_type": "markdown",
   "metadata": {},
   "source": [
    "## No y-intercept?\n",
    "\n",
    "![No y-intercept?](images/y_or_no_y.png)"
   ]
  },
  {
   "cell_type": "markdown",
   "metadata": {},
   "source": [
    "## Residual Plots\n",
    "\n",
    "The error term $\\varepsilon_i$ has the following assumptions:\n",
    "\n",
    "* have mean zero; otherwise the forecasts will be systematically biased.\n",
    "* statistical independence of the errors (in particular, no correlation between consecutive errors in the case of time series data).\n",
    "* homoscedasticity (constant variance) of the errors.\n",
    "* normality of the error distribution.  \n",
    "\n",
    "The typical plots are:\n",
    "\n",
    "* _Residuals vs Fitted_  \n",
    "\n",
    "the residuals and the fitted values should be uncorrelated in a [homoscedastic](https://en.wikipedia.org/wiki/Homoscedasticity) linear model with normally distributed errors. There should not be a dependency between the residuals and the fitted values,  \n",
    "\n",
    "![Residuals vs Fitted](images/Residuals_vs_Fitted.png)\n",
    "\n",
    "\n",
    "* _Residuls vs Normal_  \n",
    "\n",
    "This is a [Q–Q plot](https://en.wikipedia.org/wiki/Q%E2%80%93Q_plot) to check if the residuls are normal (i.e. normality of the error distribution.)    \n",
    "\n",
    "![Residuals vs Fitted](images/Residuals_vs_Normal.png)\n",
    "\n",
    "* _Standardized Residuals vs Fitted Values_  \n",
    "\n",
    "[standardized residuals](https://en.wikipedia.org/wiki/Studentized_residual) means every residual plot you look at with any model is on the same standardized y-axis. A standardized (or studentized) residual is the quotient resulting from the division of a residual by an estimate of its standard deviation. This makes it easier to compare many residul plots. This process is also called *studentizing* (after [William Sealey Gosset](https://en.wikipedia.org/wiki/William_Sealy_Gosset), who wrote under the pseudonym Student).\n",
    "\n",
    "The key reason for studentizing is that, in regression analysis of a multivariate distribution, the variances of the residuals at different input variable values may differ, even if the variances of the errors at these different input variable values are equal. \n",
    "\n",
    "![Standardized Residuals vs Fitted Values](images/Standardized_Residuals_vs_Fitted_Values.png)\n",
    "\n",
    "* _Residuals vs Leverage_  \n",
    "\n",
    "We use leverage to check for outliers. To understand [leverage](https://en.wikipedia.org/wiki/Leverage_%28statistics%29), recognize that simple linear regression fits a line that will pass through the center of your data. High-leverage points are those observations, if any, made at extreme or outlying values of the independent variables such that the lack of neighboring observations means that the fitted regression model will pass close to that particular observation. \n",
    "\n",
    "To think of the leverage of a point consider how the slope might change if the model were fit without the data point in question. A common way to estimate of the influence of a data point is [Cook's distance or Cook's D](https://en.wikipedia.org/wiki/Cook%27s_distance)\n",
    "\n",
    "$$ D_i = \\frac{\\sum_{j = 1}^n (\\hat{y}_{j(i)} - \\hat{y}_j)^2}{2S^2} $$\n",
    "\n",
    "where $\\hat{y}_{j(i)}$ is the $j^{th}$ fitted value based on the fit with the $i^{th}$ point removed. ${S^2} $is the [Mean squared error](https://en.wikipedia.org/wiki/Mean_squared_error) \n",
    "\n",
    "An alternate form of Cook's distance:\n",
    "\n",
    "$$ D_i = \\frac{r_i^2}{2} \\frac{h_{ii}}{1 - h_{ii}} $$\n",
    "\n",
    "To be influential a point must:\n",
    "\n",
    "Have high leverage $h_{ii}$ and\n",
    "Have a high standardized residual $r_i$\n",
    "\n",
    "Analyists often look for and remove high leverage points and re-fit a model.\n",
    "\n",
    "![Residuals vs Leverage](images/Residuals_vs_Leverage.png)"
   ]
  },
  {
   "cell_type": "markdown",
   "metadata": {},
   "source": [
    "## Formula syntax"
   ]
  },
  {
   "cell_type": "code",
   "execution_count": 62,
   "metadata": {
    "collapsed": false
   },
   "outputs": [
    {
     "data": {
      "text/html": [
       "<div>\n",
       "<table border=\"1\" class=\"dataframe\">\n",
       "  <thead>\n",
       "    <tr style=\"text-align: right;\">\n",
       "      <th></th>\n",
       "      <th>Family</th>\n",
       "      <th>Father</th>\n",
       "      <th>Mother</th>\n",
       "      <th>Gender</th>\n",
       "      <th>Height</th>\n",
       "      <th>Kids</th>\n",
       "    </tr>\n",
       "  </thead>\n",
       "  <tbody>\n",
       "    <tr>\n",
       "      <th>0</th>\n",
       "      <td>1</td>\n",
       "      <td>78.5</td>\n",
       "      <td>67.0</td>\n",
       "      <td>M</td>\n",
       "      <td>73.2</td>\n",
       "      <td>4</td>\n",
       "    </tr>\n",
       "    <tr>\n",
       "      <th>1</th>\n",
       "      <td>1</td>\n",
       "      <td>78.5</td>\n",
       "      <td>67.0</td>\n",
       "      <td>F</td>\n",
       "      <td>69.2</td>\n",
       "      <td>4</td>\n",
       "    </tr>\n",
       "    <tr>\n",
       "      <th>2</th>\n",
       "      <td>1</td>\n",
       "      <td>78.5</td>\n",
       "      <td>67.0</td>\n",
       "      <td>F</td>\n",
       "      <td>69.0</td>\n",
       "      <td>4</td>\n",
       "    </tr>\n",
       "    <tr>\n",
       "      <th>3</th>\n",
       "      <td>1</td>\n",
       "      <td>78.5</td>\n",
       "      <td>67.0</td>\n",
       "      <td>F</td>\n",
       "      <td>69.0</td>\n",
       "      <td>4</td>\n",
       "    </tr>\n",
       "    <tr>\n",
       "      <th>4</th>\n",
       "      <td>2</td>\n",
       "      <td>75.5</td>\n",
       "      <td>66.5</td>\n",
       "      <td>M</td>\n",
       "      <td>73.5</td>\n",
       "      <td>4</td>\n",
       "    </tr>\n",
       "  </tbody>\n",
       "</table>\n",
       "</div>"
      ],
      "text/plain": [
       "  Family  Father  Mother Gender  Height  Kids\n",
       "0      1    78.5    67.0      M    73.2     4\n",
       "1      1    78.5    67.0      F    69.2     4\n",
       "2      1    78.5    67.0      F    69.0     4\n",
       "3      1    78.5    67.0      F    69.0     4\n",
       "4      2    75.5    66.5      M    73.5     4"
      ]
     },
     "execution_count": 62,
     "metadata": {},
     "output_type": "execute_result"
    }
   ],
   "source": [
    "# Load the data into a pandas dataframe\n",
    "galton = pd.read_csv('http://www.math.uah.edu/stat/data/Galton.csv')\n",
    "galton.head()"
   ]
  },
  {
   "cell_type": "code",
   "execution_count": 63,
   "metadata": {
    "collapsed": false
   },
   "outputs": [
    {
     "data": {
      "text/html": [
       "<table class=\"simpletable\">\n",
       "<caption>OLS Regression Results</caption>\n",
       "<tr>\n",
       "  <th>Dep. Variable:</th>         <td>Height</td>      <th>  R-squared:         </th> <td>   0.076</td>\n",
       "</tr>\n",
       "<tr>\n",
       "  <th>Model:</th>                   <td>OLS</td>       <th>  Adj. R-squared:    </th> <td>   0.075</td>\n",
       "</tr>\n",
       "<tr>\n",
       "  <th>Method:</th>             <td>Least Squares</td>  <th>  F-statistic:       </th> <td>   73.51</td>\n",
       "</tr>\n",
       "<tr>\n",
       "  <th>Date:</th>             <td>Thu, 27 Apr 2017</td> <th>  Prob (F-statistic):</th> <td>4.35e-17</td>\n",
       "</tr>\n",
       "<tr>\n",
       "  <th>Time:</th>                 <td>12:24:52</td>     <th>  Log-Likelihood:    </th> <td> -2384.3</td>\n",
       "</tr>\n",
       "<tr>\n",
       "  <th>No. Observations:</th>      <td>   898</td>      <th>  AIC:               </th> <td>   4773.</td>\n",
       "</tr>\n",
       "<tr>\n",
       "  <th>Df Residuals:</th>          <td>   896</td>      <th>  BIC:               </th> <td>   4782.</td>\n",
       "</tr>\n",
       "<tr>\n",
       "  <th>Df Model:</th>              <td>     1</td>      <th>                     </th>     <td> </td>   \n",
       "</tr>\n",
       "<tr>\n",
       "  <th>Covariance Type:</th>      <td>nonrobust</td>    <th>                     </th>     <td> </td>   \n",
       "</tr>\n",
       "</table>\n",
       "<table class=\"simpletable\">\n",
       "<tr>\n",
       "      <td></td>         <th>coef</th>     <th>std err</th>      <th>t</th>      <th>P>|t|</th> <th>[95.0% Conf. Int.]</th> \n",
       "</tr>\n",
       "<tr>\n",
       "  <th>Intercept</th> <td>   39.1104</td> <td>    3.227</td> <td>   12.120</td> <td> 0.000</td> <td>   32.777    45.444</td>\n",
       "</tr>\n",
       "<tr>\n",
       "  <th>Father</th>    <td>    0.3994</td> <td>    0.047</td> <td>    8.574</td> <td> 0.000</td> <td>    0.308     0.491</td>\n",
       "</tr>\n",
       "</table>\n",
       "<table class=\"simpletable\">\n",
       "<tr>\n",
       "  <th>Omnibus:</th>       <td>25.507</td> <th>  Durbin-Watson:     </th> <td>   1.342</td>\n",
       "</tr>\n",
       "<tr>\n",
       "  <th>Prob(Omnibus):</th> <td> 0.000</td> <th>  Jarque-Bera (JB):  </th> <td>  13.383</td>\n",
       "</tr>\n",
       "<tr>\n",
       "  <th>Skew:</th>          <td> 0.080</td> <th>  Prob(JB):          </th> <td> 0.00124</td>\n",
       "</tr>\n",
       "<tr>\n",
       "  <th>Kurtosis:</th>      <td> 2.424</td> <th>  Cond. No.          </th> <td>1.94e+03</td>\n",
       "</tr>\n",
       "</table>"
      ],
      "text/plain": [
       "<class 'statsmodels.iolib.summary.Summary'>\n",
       "\"\"\"\n",
       "                            OLS Regression Results                            \n",
       "==============================================================================\n",
       "Dep. Variable:                 Height   R-squared:                       0.076\n",
       "Model:                            OLS   Adj. R-squared:                  0.075\n",
       "Method:                 Least Squares   F-statistic:                     73.51\n",
       "Date:                Thu, 27 Apr 2017   Prob (F-statistic):           4.35e-17\n",
       "Time:                        12:24:52   Log-Likelihood:                -2384.3\n",
       "No. Observations:                 898   AIC:                             4773.\n",
       "Df Residuals:                     896   BIC:                             4782.\n",
       "Df Model:                           1                                         \n",
       "Covariance Type:            nonrobust                                         \n",
       "==============================================================================\n",
       "                 coef    std err          t      P>|t|      [95.0% Conf. Int.]\n",
       "------------------------------------------------------------------------------\n",
       "Intercept     39.1104      3.227     12.120      0.000        32.777    45.444\n",
       "Father         0.3994      0.047      8.574      0.000         0.308     0.491\n",
       "==============================================================================\n",
       "Omnibus:                       25.507   Durbin-Watson:                   1.342\n",
       "Prob(Omnibus):                  0.000   Jarque-Bera (JB):               13.383\n",
       "Skew:                           0.080   Prob(JB):                      0.00124\n",
       "Kurtosis:                       2.424   Cond. No.                     1.94e+03\n",
       "==============================================================================\n",
       "\n",
       "Warnings:\n",
       "[1] Standard Errors assume that the covariance matrix of the errors is correctly specified.\n",
       "[2] The condition number is large, 1.94e+03. This might indicate that there are\n",
       "strong multicollinearity or other numerical problems.\n",
       "\"\"\""
      ]
     },
     "execution_count": 63,
     "metadata": {},
     "output_type": "execute_result"
    }
   ],
   "source": [
    "# requires from statsmodels.formula.api import ols\n",
    "father_model = ols(\"Height ~ Father\", data=galton).fit()\n",
    "father_model.summary()"
   ]
  },
  {
   "cell_type": "code",
   "execution_count": 64,
   "metadata": {
    "collapsed": false
   },
   "outputs": [
    {
     "data": {
      "text/html": [
       "<table class=\"simpletable\">\n",
       "<caption>OLS Regression Results</caption>\n",
       "<tr>\n",
       "  <th>Dep. Variable:</th>         <td>Height</td>      <th>  R-squared:         </th> <td>   0.997</td> \n",
       "</tr>\n",
       "<tr>\n",
       "  <th>Model:</th>                   <td>OLS</td>       <th>  Adj. R-squared:    </th> <td>   0.997</td> \n",
       "</tr>\n",
       "<tr>\n",
       "  <th>Method:</th>             <td>Least Squares</td>  <th>  F-statistic:       </th> <td>2.898e+05</td>\n",
       "</tr>\n",
       "<tr>\n",
       "  <th>Date:</th>             <td>Thu, 27 Apr 2017</td> <th>  Prob (F-statistic):</th>  <td>  0.00</td>  \n",
       "</tr>\n",
       "<tr>\n",
       "  <th>Time:</th>                 <td>12:24:52</td>     <th>  Log-Likelihood:    </th> <td> -2452.5</td> \n",
       "</tr>\n",
       "<tr>\n",
       "  <th>No. Observations:</th>      <td>   898</td>      <th>  AIC:               </th> <td>   4907.</td> \n",
       "</tr>\n",
       "<tr>\n",
       "  <th>Df Residuals:</th>          <td>   897</td>      <th>  BIC:               </th> <td>   4912.</td> \n",
       "</tr>\n",
       "<tr>\n",
       "  <th>Df Model:</th>              <td>     1</td>      <th>                     </th>     <td> </td>    \n",
       "</tr>\n",
       "<tr>\n",
       "  <th>Covariance Type:</th>      <td>nonrobust</td>    <th>                     </th>     <td> </td>    \n",
       "</tr>\n",
       "</table>\n",
       "<table class=\"simpletable\">\n",
       "<tr>\n",
       "     <td></td>       <th>coef</th>     <th>std err</th>      <th>t</th>      <th>P>|t|</th> <th>[95.0% Conf. Int.]</th> \n",
       "</tr>\n",
       "<tr>\n",
       "  <th>Father</th> <td>    0.9636</td> <td>    0.002</td> <td>  538.311</td> <td> 0.000</td> <td>    0.960     0.967</td>\n",
       "</tr>\n",
       "</table>\n",
       "<table class=\"simpletable\">\n",
       "<tr>\n",
       "  <th>Omnibus:</th>       <td>17.470</td> <th>  Durbin-Watson:     </th> <td>   1.158</td>\n",
       "</tr>\n",
       "<tr>\n",
       "  <th>Prob(Omnibus):</th> <td> 0.000</td> <th>  Jarque-Bera (JB):  </th> <td>   9.840</td>\n",
       "</tr>\n",
       "<tr>\n",
       "  <th>Skew:</th>          <td> 0.008</td> <th>  Prob(JB):          </th> <td> 0.00730</td>\n",
       "</tr>\n",
       "<tr>\n",
       "  <th>Kurtosis:</th>      <td> 2.487</td> <th>  Cond. No.          </th> <td>    1.00</td>\n",
       "</tr>\n",
       "</table>"
      ],
      "text/plain": [
       "<class 'statsmodels.iolib.summary.Summary'>\n",
       "\"\"\"\n",
       "                            OLS Regression Results                            \n",
       "==============================================================================\n",
       "Dep. Variable:                 Height   R-squared:                       0.997\n",
       "Model:                            OLS   Adj. R-squared:                  0.997\n",
       "Method:                 Least Squares   F-statistic:                 2.898e+05\n",
       "Date:                Thu, 27 Apr 2017   Prob (F-statistic):               0.00\n",
       "Time:                        12:24:52   Log-Likelihood:                -2452.5\n",
       "No. Observations:                 898   AIC:                             4907.\n",
       "Df Residuals:                     897   BIC:                             4912.\n",
       "Df Model:                           1                                         \n",
       "Covariance Type:            nonrobust                                         \n",
       "==============================================================================\n",
       "                 coef    std err          t      P>|t|      [95.0% Conf. Int.]\n",
       "------------------------------------------------------------------------------\n",
       "Father         0.9636      0.002    538.311      0.000         0.960     0.967\n",
       "==============================================================================\n",
       "Omnibus:                       17.470   Durbin-Watson:                   1.158\n",
       "Prob(Omnibus):                  0.000   Jarque-Bera (JB):                9.840\n",
       "Skew:                           0.008   Prob(JB):                      0.00730\n",
       "Kurtosis:                       2.487   Cond. No.                         1.00\n",
       "==============================================================================\n",
       "\n",
       "Warnings:\n",
       "[1] Standard Errors assume that the covariance matrix of the errors is correctly specified.\n",
       "\"\"\""
      ]
     },
     "execution_count": 64,
     "metadata": {},
     "output_type": "execute_result"
    }
   ],
   "source": [
    "# -1 removes the y intercept\n",
    "father_model = ols(\"Height ~ Father -1\", data=galton).fit()\n",
    "father_model.summary()"
   ]
  },
  {
   "cell_type": "code",
   "execution_count": 65,
   "metadata": {
    "collapsed": false
   },
   "outputs": [
    {
     "data": {
      "text/html": [
       "<table class=\"simpletable\">\n",
       "<caption>OLS Regression Results</caption>\n",
       "<tr>\n",
       "  <th>Dep. Variable:</th>         <td>Height</td>      <th>  R-squared:         </th> <td>   0.997</td> \n",
       "</tr>\n",
       "<tr>\n",
       "  <th>Model:</th>                   <td>OLS</td>       <th>  Adj. R-squared:    </th> <td>   0.997</td> \n",
       "</tr>\n",
       "<tr>\n",
       "  <th>Method:</th>             <td>Least Squares</td>  <th>  F-statistic:       </th> <td>1.697e+05</td>\n",
       "</tr>\n",
       "<tr>\n",
       "  <th>Date:</th>             <td>Thu, 27 Apr 2017</td> <th>  Prob (F-statistic):</th>  <td>  0.00</td>  \n",
       "</tr>\n",
       "<tr>\n",
       "  <th>Time:</th>                 <td>12:24:52</td>     <th>  Log-Likelihood:    </th> <td> -2381.2</td> \n",
       "</tr>\n",
       "<tr>\n",
       "  <th>No. Observations:</th>      <td>   898</td>      <th>  AIC:               </th> <td>   4766.</td> \n",
       "</tr>\n",
       "<tr>\n",
       "  <th>Df Residuals:</th>          <td>   896</td>      <th>  BIC:               </th> <td>   4776.</td> \n",
       "</tr>\n",
       "<tr>\n",
       "  <th>Df Model:</th>              <td>     2</td>      <th>                     </th>     <td> </td>    \n",
       "</tr>\n",
       "<tr>\n",
       "  <th>Covariance Type:</th>      <td>nonrobust</td>    <th>                     </th>     <td> </td>    \n",
       "</tr>\n",
       "</table>\n",
       "<table class=\"simpletable\">\n",
       "<tr>\n",
       "     <td></td>       <th>coef</th>     <th>std err</th>      <th>t</th>      <th>P>|t|</th> <th>[95.0% Conf. Int.]</th> \n",
       "</tr>\n",
       "<tr>\n",
       "  <th>Father</th> <td>    0.5425</td> <td>    0.034</td> <td>   15.972</td> <td> 0.000</td> <td>    0.476     0.609</td>\n",
       "</tr>\n",
       "<tr>\n",
       "  <th>Mother</th> <td>    0.4555</td> <td>    0.037</td> <td>   12.414</td> <td> 0.000</td> <td>    0.383     0.527</td>\n",
       "</tr>\n",
       "</table>\n",
       "<table class=\"simpletable\">\n",
       "<tr>\n",
       "  <th>Omnibus:</th>       <td>52.885</td> <th>  Durbin-Watson:     </th> <td>   1.354</td>\n",
       "</tr>\n",
       "<tr>\n",
       "  <th>Prob(Omnibus):</th> <td> 0.000</td> <th>  Jarque-Bera (JB):  </th> <td>  20.434</td>\n",
       "</tr>\n",
       "<tr>\n",
       "  <th>Skew:</th>          <td> 0.054</td> <th>  Prob(JB):          </th> <td>3.65e-05</td>\n",
       "</tr>\n",
       "<tr>\n",
       "  <th>Kurtosis:</th>      <td> 2.269</td> <th>  Cond. No.          </th> <td>    41.2</td>\n",
       "</tr>\n",
       "</table>"
      ],
      "text/plain": [
       "<class 'statsmodels.iolib.summary.Summary'>\n",
       "\"\"\"\n",
       "                            OLS Regression Results                            \n",
       "==============================================================================\n",
       "Dep. Variable:                 Height   R-squared:                       0.997\n",
       "Model:                            OLS   Adj. R-squared:                  0.997\n",
       "Method:                 Least Squares   F-statistic:                 1.697e+05\n",
       "Date:                Thu, 27 Apr 2017   Prob (F-statistic):               0.00\n",
       "Time:                        12:24:52   Log-Likelihood:                -2381.2\n",
       "No. Observations:                 898   AIC:                             4766.\n",
       "Df Residuals:                     896   BIC:                             4776.\n",
       "Df Model:                           2                                         \n",
       "Covariance Type:            nonrobust                                         \n",
       "==============================================================================\n",
       "                 coef    std err          t      P>|t|      [95.0% Conf. Int.]\n",
       "------------------------------------------------------------------------------\n",
       "Father         0.5425      0.034     15.972      0.000         0.476     0.609\n",
       "Mother         0.4555      0.037     12.414      0.000         0.383     0.527\n",
       "==============================================================================\n",
       "Omnibus:                       52.885   Durbin-Watson:                   1.354\n",
       "Prob(Omnibus):                  0.000   Jarque-Bera (JB):               20.434\n",
       "Skew:                           0.054   Prob(JB):                     3.65e-05\n",
       "Kurtosis:                       2.269   Cond. No.                         41.2\n",
       "==============================================================================\n",
       "\n",
       "Warnings:\n",
       "[1] Standard Errors assume that the covariance matrix of the errors is correctly specified.\n",
       "\"\"\""
      ]
     },
     "execution_count": 65,
     "metadata": {},
     "output_type": "execute_result"
    }
   ],
   "source": [
    "# -1 removes the y intercept\n",
    "father_model = ols(\"Height ~ Father + Mother -1\", data=galton).fit()\n",
    "father_model.summary()"
   ]
  },
  {
   "cell_type": "markdown",
   "metadata": {},
   "source": [
    "## Non-linear transformations of predictors\n",
    "\n",
    "Even if the data is non-linear one might be able to use a tranform so it has a linear form and simple linear regression can be applied.\n",
    "\n"
   ]
  },
  {
   "cell_type": "code",
   "execution_count": 66,
   "metadata": {
    "collapsed": false
   },
   "outputs": [
    {
     "data": {
      "text/html": [
       "<table class=\"simpletable\">\n",
       "<caption>OLS Regression Results</caption>\n",
       "<tr>\n",
       "  <th>Dep. Variable:</th>         <td>Height</td>      <th>  R-squared:         </th> <td>   0.997</td> \n",
       "</tr>\n",
       "<tr>\n",
       "  <th>Model:</th>                   <td>OLS</td>       <th>  Adj. R-squared:    </th> <td>   0.997</td> \n",
       "</tr>\n",
       "<tr>\n",
       "  <th>Method:</th>             <td>Least Squares</td>  <th>  F-statistic:       </th> <td>3.325e+05</td>\n",
       "</tr>\n",
       "<tr>\n",
       "  <th>Date:</th>             <td>Thu, 27 Apr 2017</td> <th>  Prob (F-statistic):</th>  <td>  0.00</td>  \n",
       "</tr>\n",
       "<tr>\n",
       "  <th>Time:</th>                 <td>12:24:52</td>     <th>  Log-Likelihood:    </th> <td> -2390.9</td> \n",
       "</tr>\n",
       "<tr>\n",
       "  <th>No. Observations:</th>      <td>   898</td>      <th>  AIC:               </th> <td>   4784.</td> \n",
       "</tr>\n",
       "<tr>\n",
       "  <th>Df Residuals:</th>          <td>   897</td>      <th>  BIC:               </th> <td>   4789.</td> \n",
       "</tr>\n",
       "<tr>\n",
       "  <th>Df Model:</th>              <td>     1</td>      <th>                     </th>     <td> </td>    \n",
       "</tr>\n",
       "<tr>\n",
       "  <th>Covariance Type:</th>      <td>nonrobust</td>    <th>                     </th>     <td> </td>    \n",
       "</tr>\n",
       "</table>\n",
       "<table class=\"simpletable\">\n",
       "<tr>\n",
       "         <td></td>           <th>coef</th>     <th>std err</th>      <th>t</th>      <th>P>|t|</th> <th>[95.0% Conf. Int.]</th> \n",
       "</tr>\n",
       "<tr>\n",
       "  <th>np.log(Father)</th> <td>   15.7580</td> <td>    0.027</td> <td>  576.605</td> <td> 0.000</td> <td>   15.704    15.812</td>\n",
       "</tr>\n",
       "</table>\n",
       "<table class=\"simpletable\">\n",
       "<tr>\n",
       "  <th>Omnibus:</th>       <td>21.551</td> <th>  Durbin-Watson:     </th> <td>   1.321</td>\n",
       "</tr>\n",
       "<tr>\n",
       "  <th>Prob(Omnibus):</th> <td> 0.000</td> <th>  Jarque-Bera (JB):  </th> <td>  12.030</td>\n",
       "</tr>\n",
       "<tr>\n",
       "  <th>Skew:</th>          <td> 0.083</td> <th>  Prob(JB):          </th> <td> 0.00244</td>\n",
       "</tr>\n",
       "<tr>\n",
       "  <th>Kurtosis:</th>      <td> 2.458</td> <th>  Cond. No.          </th> <td>    1.00</td>\n",
       "</tr>\n",
       "</table>"
      ],
      "text/plain": [
       "<class 'statsmodels.iolib.summary.Summary'>\n",
       "\"\"\"\n",
       "                            OLS Regression Results                            \n",
       "==============================================================================\n",
       "Dep. Variable:                 Height   R-squared:                       0.997\n",
       "Model:                            OLS   Adj. R-squared:                  0.997\n",
       "Method:                 Least Squares   F-statistic:                 3.325e+05\n",
       "Date:                Thu, 27 Apr 2017   Prob (F-statistic):               0.00\n",
       "Time:                        12:24:52   Log-Likelihood:                -2390.9\n",
       "No. Observations:                 898   AIC:                             4784.\n",
       "Df Residuals:                     897   BIC:                             4789.\n",
       "Df Model:                           1                                         \n",
       "Covariance Type:            nonrobust                                         \n",
       "==================================================================================\n",
       "                     coef    std err          t      P>|t|      [95.0% Conf. Int.]\n",
       "----------------------------------------------------------------------------------\n",
       "np.log(Father)    15.7580      0.027    576.605      0.000        15.704    15.812\n",
       "==============================================================================\n",
       "Omnibus:                       21.551   Durbin-Watson:                   1.321\n",
       "Prob(Omnibus):                  0.000   Jarque-Bera (JB):               12.030\n",
       "Skew:                           0.083   Prob(JB):                      0.00244\n",
       "Kurtosis:                       2.458   Cond. No.                         1.00\n",
       "==============================================================================\n",
       "\n",
       "Warnings:\n",
       "[1] Standard Errors assume that the covariance matrix of the errors is correctly specified.\n",
       "\"\"\""
      ]
     },
     "execution_count": 66,
     "metadata": {},
     "output_type": "execute_result"
    }
   ],
   "source": [
    "father_model_log = ols(\"Height ~ np.log(Father) -1\", data=galton).fit()\n",
    "father_model_log.summary()"
   ]
  },
  {
   "cell_type": "markdown",
   "metadata": {},
   "source": [
    "## Multiple regression\n",
    "\n"
   ]
  },
  {
   "cell_type": "markdown",
   "metadata": {},
   "source": [
    "Multiple linear regression is the extension of a single predictor variable $x$ to a set predictor variables, {$x_1, x_2, x_2, ... x_n$}, that is\n",
    "\n",
    "$$ Y = \\beta_{1} x_{1} + \\beta_{2} x_{2}  + \\beta_{3} x_{3}  + \\beta_{n} x_{n}  + \\varepsilon $$  \n",
    "\n",
    "these n equations are stacked together and written in vector form as\n",
    "\n",
    "$$ Y = \\beta X  + \\varepsilon $$  \n",
    "\n",
    "Where $Y$, $beta$, and $\\varepsilon$ are vectors and $X$ is a matrix  (sometimes called the design matrix).\n",
    "\n",
    "\n",
    "![Multiple linear regression](images/multiple_regression.jpg)\n",
    "\n",
    "Image credit:  [http://www.sjsu.edu/faculty/gerstman/EpiInfo/cont-mult.htm](http://www.sjsu.edu/faculty/gerstman/EpiInfo/cont-mult.htm)"
   ]
  },
  {
   "cell_type": "markdown",
   "metadata": {},
   "source": [
    "## Does both the Mothers and fathers heights matter?\n",
    "\n",
    "Multiple regression is an extension of simple linear regression. It is used when we want to predict the value of a variable based on the value of two or more other variables. The variable we want to predict is called the dependent variable (or sometimes, the outcome, target or criterion variable).\n"
   ]
  },
  {
   "cell_type": "code",
   "execution_count": 67,
   "metadata": {
    "collapsed": false
   },
   "outputs": [
    {
     "data": {
      "text/html": [
       "<table class=\"simpletable\">\n",
       "<caption>OLS Regression Results</caption>\n",
       "<tr>\n",
       "  <th>Dep. Variable:</th>         <td>Height</td>      <th>  R-squared:         </th> <td>   0.997</td> \n",
       "</tr>\n",
       "<tr>\n",
       "  <th>Model:</th>                   <td>OLS</td>       <th>  Adj. R-squared:    </th> <td>   0.997</td> \n",
       "</tr>\n",
       "<tr>\n",
       "  <th>Method:</th>             <td>Least Squares</td>  <th>  F-statistic:       </th> <td>1.697e+05</td>\n",
       "</tr>\n",
       "<tr>\n",
       "  <th>Date:</th>             <td>Thu, 27 Apr 2017</td> <th>  Prob (F-statistic):</th>  <td>  0.00</td>  \n",
       "</tr>\n",
       "<tr>\n",
       "  <th>Time:</th>                 <td>12:24:52</td>     <th>  Log-Likelihood:    </th> <td> -2381.2</td> \n",
       "</tr>\n",
       "<tr>\n",
       "  <th>No. Observations:</th>      <td>   898</td>      <th>  AIC:               </th> <td>   4766.</td> \n",
       "</tr>\n",
       "<tr>\n",
       "  <th>Df Residuals:</th>          <td>   896</td>      <th>  BIC:               </th> <td>   4776.</td> \n",
       "</tr>\n",
       "<tr>\n",
       "  <th>Df Model:</th>              <td>     2</td>      <th>                     </th>     <td> </td>    \n",
       "</tr>\n",
       "<tr>\n",
       "  <th>Covariance Type:</th>      <td>nonrobust</td>    <th>                     </th>     <td> </td>    \n",
       "</tr>\n",
       "</table>\n",
       "<table class=\"simpletable\">\n",
       "<tr>\n",
       "     <td></td>       <th>coef</th>     <th>std err</th>      <th>t</th>      <th>P>|t|</th> <th>[95.0% Conf. Int.]</th> \n",
       "</tr>\n",
       "<tr>\n",
       "  <th>Mother</th> <td>    0.4555</td> <td>    0.037</td> <td>   12.414</td> <td> 0.000</td> <td>    0.383     0.527</td>\n",
       "</tr>\n",
       "<tr>\n",
       "  <th>Father</th> <td>    0.5425</td> <td>    0.034</td> <td>   15.972</td> <td> 0.000</td> <td>    0.476     0.609</td>\n",
       "</tr>\n",
       "</table>\n",
       "<table class=\"simpletable\">\n",
       "<tr>\n",
       "  <th>Omnibus:</th>       <td>52.885</td> <th>  Durbin-Watson:     </th> <td>   1.354</td>\n",
       "</tr>\n",
       "<tr>\n",
       "  <th>Prob(Omnibus):</th> <td> 0.000</td> <th>  Jarque-Bera (JB):  </th> <td>  20.434</td>\n",
       "</tr>\n",
       "<tr>\n",
       "  <th>Skew:</th>          <td> 0.054</td> <th>  Prob(JB):          </th> <td>3.65e-05</td>\n",
       "</tr>\n",
       "<tr>\n",
       "  <th>Kurtosis:</th>      <td> 2.269</td> <th>  Cond. No.          </th> <td>    41.2</td>\n",
       "</tr>\n",
       "</table>"
      ],
      "text/plain": [
       "<class 'statsmodels.iolib.summary.Summary'>\n",
       "\"\"\"\n",
       "                            OLS Regression Results                            \n",
       "==============================================================================\n",
       "Dep. Variable:                 Height   R-squared:                       0.997\n",
       "Model:                            OLS   Adj. R-squared:                  0.997\n",
       "Method:                 Least Squares   F-statistic:                 1.697e+05\n",
       "Date:                Thu, 27 Apr 2017   Prob (F-statistic):               0.00\n",
       "Time:                        12:24:52   Log-Likelihood:                -2381.2\n",
       "No. Observations:                 898   AIC:                             4766.\n",
       "Df Residuals:                     896   BIC:                             4776.\n",
       "Df Model:                           2                                         \n",
       "Covariance Type:            nonrobust                                         \n",
       "==============================================================================\n",
       "                 coef    std err          t      P>|t|      [95.0% Conf. Int.]\n",
       "------------------------------------------------------------------------------\n",
       "Mother         0.4555      0.037     12.414      0.000         0.383     0.527\n",
       "Father         0.5425      0.034     15.972      0.000         0.476     0.609\n",
       "==============================================================================\n",
       "Omnibus:                       52.885   Durbin-Watson:                   1.354\n",
       "Prob(Omnibus):                  0.000   Jarque-Bera (JB):               20.434\n",
       "Skew:                           0.054   Prob(JB):                     3.65e-05\n",
       "Kurtosis:                       2.269   Cond. No.                         41.2\n",
       "==============================================================================\n",
       "\n",
       "Warnings:\n",
       "[1] Standard Errors assume that the covariance matrix of the errors is correctly specified.\n",
       "\"\"\""
      ]
     },
     "execution_count": 67,
     "metadata": {},
     "output_type": "execute_result"
    }
   ],
   "source": [
    "mother_father_model = ols(\"Height ~ Mother + Father -1\", data=galton).fit()\n",
    "mother_father_model.summary()"
   ]
  },
  {
   "cell_type": "code",
   "execution_count": 68,
   "metadata": {
    "collapsed": false
   },
   "outputs": [
    {
     "data": {
      "text/html": [
       "<table class=\"simpletable\">\n",
       "<caption>OLS Regression Results</caption>\n",
       "<tr>\n",
       "  <th>Dep. Variable:</th>         <td>Height</td>      <th>  R-squared:         </th> <td>   0.997</td> \n",
       "</tr>\n",
       "<tr>\n",
       "  <th>Model:</th>                   <td>OLS</td>       <th>  Adj. R-squared:    </th> <td>   0.997</td> \n",
       "</tr>\n",
       "<tr>\n",
       "  <th>Method:</th>             <td>Least Squares</td>  <th>  F-statistic:       </th> <td>1.163e+05</td>\n",
       "</tr>\n",
       "<tr>\n",
       "  <th>Date:</th>             <td>Thu, 27 Apr 2017</td> <th>  Prob (F-statistic):</th>  <td>  0.00</td>  \n",
       "</tr>\n",
       "<tr>\n",
       "  <th>Time:</th>                 <td>12:24:52</td>     <th>  Log-Likelihood:    </th> <td> -2368.3</td> \n",
       "</tr>\n",
       "<tr>\n",
       "  <th>No. Observations:</th>      <td>   898</td>      <th>  AIC:               </th> <td>   4743.</td> \n",
       "</tr>\n",
       "<tr>\n",
       "  <th>Df Residuals:</th>          <td>   895</td>      <th>  BIC:               </th> <td>   4757.</td> \n",
       "</tr>\n",
       "<tr>\n",
       "  <th>Df Model:</th>              <td>     3</td>      <th>                     </th>     <td> </td>    \n",
       "</tr>\n",
       "<tr>\n",
       "  <th>Covariance Type:</th>      <td>nonrobust</td>    <th>                     </th>     <td> </td>    \n",
       "</tr>\n",
       "</table>\n",
       "<table class=\"simpletable\">\n",
       "<tr>\n",
       "        <td></td>           <th>coef</th>     <th>std err</th>      <th>t</th>      <th>P>|t|</th> <th>[95.0% Conf. Int.]</th> \n",
       "</tr>\n",
       "<tr>\n",
       "  <th>Mother</th>        <td>    0.6277</td> <td>    0.049</td> <td>   12.685</td> <td> 0.000</td> <td>    0.531     0.725</td>\n",
       "</tr>\n",
       "<tr>\n",
       "  <th>Father</th>        <td>    0.6989</td> <td>    0.045</td> <td>   15.390</td> <td> 0.000</td> <td>    0.610     0.788</td>\n",
       "</tr>\n",
       "<tr>\n",
       "  <th>Mother:Father</th> <td>   -0.0049</td> <td>    0.001</td> <td>   -5.102</td> <td> 0.000</td> <td>   -0.007    -0.003</td>\n",
       "</tr>\n",
       "</table>\n",
       "<table class=\"simpletable\">\n",
       "<tr>\n",
       "  <th>Omnibus:</th>       <td>45.868</td> <th>  Durbin-Watson:     </th> <td>   1.387</td>\n",
       "</tr>\n",
       "<tr>\n",
       "  <th>Prob(Omnibus):</th> <td> 0.000</td> <th>  Jarque-Bera (JB):  </th> <td>  18.955</td>\n",
       "</tr>\n",
       "<tr>\n",
       "  <th>Skew:</th>          <td> 0.064</td> <th>  Prob(JB):          </th> <td>7.66e-05</td>\n",
       "</tr>\n",
       "<tr>\n",
       "  <th>Kurtosis:</th>      <td> 2.300</td> <th>  Cond. No.          </th> <td>1.97e+03</td>\n",
       "</tr>\n",
       "</table>"
      ],
      "text/plain": [
       "<class 'statsmodels.iolib.summary.Summary'>\n",
       "\"\"\"\n",
       "                            OLS Regression Results                            \n",
       "==============================================================================\n",
       "Dep. Variable:                 Height   R-squared:                       0.997\n",
       "Model:                            OLS   Adj. R-squared:                  0.997\n",
       "Method:                 Least Squares   F-statistic:                 1.163e+05\n",
       "Date:                Thu, 27 Apr 2017   Prob (F-statistic):               0.00\n",
       "Time:                        12:24:52   Log-Likelihood:                -2368.3\n",
       "No. Observations:                 898   AIC:                             4743.\n",
       "Df Residuals:                     895   BIC:                             4757.\n",
       "Df Model:                           3                                         \n",
       "Covariance Type:            nonrobust                                         \n",
       "=================================================================================\n",
       "                    coef    std err          t      P>|t|      [95.0% Conf. Int.]\n",
       "---------------------------------------------------------------------------------\n",
       "Mother            0.6277      0.049     12.685      0.000         0.531     0.725\n",
       "Father            0.6989      0.045     15.390      0.000         0.610     0.788\n",
       "Mother:Father    -0.0049      0.001     -5.102      0.000        -0.007    -0.003\n",
       "==============================================================================\n",
       "Omnibus:                       45.868   Durbin-Watson:                   1.387\n",
       "Prob(Omnibus):                  0.000   Jarque-Bera (JB):               18.955\n",
       "Skew:                           0.064   Prob(JB):                     7.66e-05\n",
       "Kurtosis:                       2.300   Cond. No.                     1.97e+03\n",
       "==============================================================================\n",
       "\n",
       "Warnings:\n",
       "[1] Standard Errors assume that the covariance matrix of the errors is correctly specified.\n",
       "[2] The condition number is large, 1.97e+03. This might indicate that there are\n",
       "strong multicollinearity or other numerical problems.\n",
       "\"\"\""
      ]
     },
     "execution_count": 68,
     "metadata": {},
     "output_type": "execute_result"
    }
   ],
   "source": [
    "mother_father_model_A = ols(\"Height ~ Mother + Father + Mother : Father -1\", data=galton).fit()\n",
    "mother_father_model_A.summary()"
   ]
  },
  {
   "cell_type": "code",
   "execution_count": 69,
   "metadata": {
    "collapsed": false
   },
   "outputs": [
    {
     "data": {
      "text/html": [
       "<table class=\"simpletable\">\n",
       "<caption>OLS Regression Results</caption>\n",
       "<tr>\n",
       "  <th>Dep. Variable:</th>         <td>Height</td>      <th>  R-squared:         </th> <td>   0.997</td> \n",
       "</tr>\n",
       "<tr>\n",
       "  <th>Model:</th>                   <td>OLS</td>       <th>  Adj. R-squared:    </th> <td>   0.997</td> \n",
       "</tr>\n",
       "<tr>\n",
       "  <th>Method:</th>             <td>Least Squares</td>  <th>  F-statistic:       </th> <td>1.697e+05</td>\n",
       "</tr>\n",
       "<tr>\n",
       "  <th>Date:</th>             <td>Thu, 27 Apr 2017</td> <th>  Prob (F-statistic):</th>  <td>  0.00</td>  \n",
       "</tr>\n",
       "<tr>\n",
       "  <th>Time:</th>                 <td>12:24:52</td>     <th>  Log-Likelihood:    </th> <td> -2381.2</td> \n",
       "</tr>\n",
       "<tr>\n",
       "  <th>No. Observations:</th>      <td>   898</td>      <th>  AIC:               </th> <td>   4766.</td> \n",
       "</tr>\n",
       "<tr>\n",
       "  <th>Df Residuals:</th>          <td>   896</td>      <th>  BIC:               </th> <td>   4776.</td> \n",
       "</tr>\n",
       "<tr>\n",
       "  <th>Df Model:</th>              <td>     2</td>      <th>                     </th>     <td> </td>    \n",
       "</tr>\n",
       "<tr>\n",
       "  <th>Covariance Type:</th>      <td>nonrobust</td>    <th>                     </th>     <td> </td>    \n",
       "</tr>\n",
       "</table>\n",
       "<table class=\"simpletable\">\n",
       "<tr>\n",
       "     <td></td>       <th>coef</th>     <th>std err</th>      <th>t</th>      <th>P>|t|</th> <th>[95.0% Conf. Int.]</th> \n",
       "</tr>\n",
       "<tr>\n",
       "  <th>Mother</th> <td>    0.4555</td> <td>    0.037</td> <td>   12.414</td> <td> 0.000</td> <td>    0.383     0.527</td>\n",
       "</tr>\n",
       "<tr>\n",
       "  <th>Father</th> <td>    0.5425</td> <td>    0.034</td> <td>   15.972</td> <td> 0.000</td> <td>    0.476     0.609</td>\n",
       "</tr>\n",
       "</table>\n",
       "<table class=\"simpletable\">\n",
       "<tr>\n",
       "  <th>Omnibus:</th>       <td>52.885</td> <th>  Durbin-Watson:     </th> <td>   1.354</td>\n",
       "</tr>\n",
       "<tr>\n",
       "  <th>Prob(Omnibus):</th> <td> 0.000</td> <th>  Jarque-Bera (JB):  </th> <td>  20.434</td>\n",
       "</tr>\n",
       "<tr>\n",
       "  <th>Skew:</th>          <td> 0.054</td> <th>  Prob(JB):          </th> <td>3.65e-05</td>\n",
       "</tr>\n",
       "<tr>\n",
       "  <th>Kurtosis:</th>      <td> 2.269</td> <th>  Cond. No.          </th> <td>    41.2</td>\n",
       "</tr>\n",
       "</table>"
      ],
      "text/plain": [
       "<class 'statsmodels.iolib.summary.Summary'>\n",
       "\"\"\"\n",
       "                            OLS Regression Results                            \n",
       "==============================================================================\n",
       "Dep. Variable:                 Height   R-squared:                       0.997\n",
       "Model:                            OLS   Adj. R-squared:                  0.997\n",
       "Method:                 Least Squares   F-statistic:                 1.697e+05\n",
       "Date:                Thu, 27 Apr 2017   Prob (F-statistic):               0.00\n",
       "Time:                        12:24:52   Log-Likelihood:                -2381.2\n",
       "No. Observations:                 898   AIC:                             4766.\n",
       "Df Residuals:                     896   BIC:                             4776.\n",
       "Df Model:                           2                                         \n",
       "Covariance Type:            nonrobust                                         \n",
       "==============================================================================\n",
       "                 coef    std err          t      P>|t|      [95.0% Conf. Int.]\n",
       "------------------------------------------------------------------------------\n",
       "Mother         0.4555      0.037     12.414      0.000         0.383     0.527\n",
       "Father         0.5425      0.034     15.972      0.000         0.476     0.609\n",
       "==============================================================================\n",
       "Omnibus:                       52.885   Durbin-Watson:                   1.354\n",
       "Prob(Omnibus):                  0.000   Jarque-Bera (JB):               20.434\n",
       "Skew:                           0.054   Prob(JB):                     3.65e-05\n",
       "Kurtosis:                       2.269   Cond. No.                         41.2\n",
       "==============================================================================\n",
       "\n",
       "Warnings:\n",
       "[1] Standard Errors assume that the covariance matrix of the errors is correctly specified.\n",
       "\"\"\""
      ]
     },
     "execution_count": 69,
     "metadata": {},
     "output_type": "execute_result"
    }
   ],
   "source": [
    "mother_father_model_A = ols(\"Height ~ Mother + Father -1\", data=galton).fit()\n",
    "mother_father_model_A.summary()"
   ]
  },
  {
   "cell_type": "markdown",
   "metadata": {},
   "source": [
    "## Multi-colinearity\n",
    "\n",
    "In statistics, multicollinearity (also collinearity) is a phenomenon in which two or more predictor variables in a multiple regression model are highly correlated, meaning that one can be linearly predicted from the others with a non-trivial degree of accuracy. In this situation the coefficient estimates of the multiple regression may change erratically in response to small changes in the model or the data. Multicollinearity does not reduce the predictive power or reliability of the model as a whole, at least within the sample data set; it only affects calculations regarding individual predictors. That is, a multiple regression model with correlated predictors can indicate how well the entire bundle of predictors predicts the outcome variable, but it may not give valid results about any individual predictor, or about which predictors are redundant with respect to others.\n",
    "\n",
    "- from [multicollinearity - Wikipedia](https://en.wikipedia.org/wiki/Multicollinearity)\n"
   ]
  },
  {
   "cell_type": "code",
   "execution_count": 70,
   "metadata": {
    "collapsed": false
   },
   "outputs": [
    {
     "data": {
      "text/html": [
       "<div>\n",
       "<table border=\"1\" class=\"dataframe\">\n",
       "  <thead>\n",
       "    <tr style=\"text-align: right;\">\n",
       "      <th></th>\n",
       "      <th>Father</th>\n",
       "      <th>Mother</th>\n",
       "      <th>Height</th>\n",
       "      <th>Kids</th>\n",
       "    </tr>\n",
       "  </thead>\n",
       "  <tbody>\n",
       "    <tr>\n",
       "      <th>Father</th>\n",
       "      <td>1.000000</td>\n",
       "      <td>0.073665</td>\n",
       "      <td>0.275355</td>\n",
       "      <td>-0.160023</td>\n",
       "    </tr>\n",
       "    <tr>\n",
       "      <th>Mother</th>\n",
       "      <td>0.073665</td>\n",
       "      <td>1.000000</td>\n",
       "      <td>0.201655</td>\n",
       "      <td>-0.020030</td>\n",
       "    </tr>\n",
       "    <tr>\n",
       "      <th>Height</th>\n",
       "      <td>0.275355</td>\n",
       "      <td>0.201655</td>\n",
       "      <td>1.000000</td>\n",
       "      <td>-0.126910</td>\n",
       "    </tr>\n",
       "    <tr>\n",
       "      <th>Kids</th>\n",
       "      <td>-0.160023</td>\n",
       "      <td>-0.020030</td>\n",
       "      <td>-0.126910</td>\n",
       "      <td>1.000000</td>\n",
       "    </tr>\n",
       "  </tbody>\n",
       "</table>\n",
       "</div>"
      ],
      "text/plain": [
       "          Father    Mother    Height      Kids\n",
       "Father  1.000000  0.073665  0.275355 -0.160023\n",
       "Mother  0.073665  1.000000  0.201655 -0.020030\n",
       "Height  0.275355  0.201655  1.000000 -0.126910\n",
       "Kids   -0.160023 -0.020030 -0.126910  1.000000"
      ]
     },
     "execution_count": 70,
     "metadata": {},
     "output_type": "execute_result"
    }
   ],
   "source": [
    "galton.corr()"
   ]
  },
  {
   "cell_type": "markdown",
   "metadata": {
    "collapsed": true
   },
   "source": [
    "## Appendix  \n"
   ]
  },
  {
   "cell_type": "markdown",
   "metadata": {
    "collapsed": true
   },
   "source": [
    "## Logistic regression\n",
    "\n",
    "[Logistic regression](https://en.wikipedia.org/wiki/Logistic_regression), or logit regression, or is a regression model where the outcome variable is categorical. Often this is used when the variable is binary (e.g. yes/no, survived/dead, pass/fail, etc.)\n",
    "\n",
    "Logistic regression measures the relationship between the categorical response variable and one or more predictor variables by estimating probabilities. \n",
    "\n",
    "**Linear regression:** continuous response is modeled as a linear combination of the features:\n",
    "\n",
    "$$y = \\beta_0 + \\beta_1x$$\n",
    "\n",
    "**Logistic regression:** log-odds of a categorical response being \"true\" (1) is modeled as a linear combination of the features:\n",
    "\n",
    "$$\\ln \\left({p\\over 1-p}\\right) = \\beta_0 + \\beta_1x$$\n",
    "\n",
    "This is called the **logit function**.\n",
    "\n",
    "Probability is sometimes written as $\\pi$:\n",
    "\n",
    "$$\\ln \\left({\\pi\\over 1-\\pi}\\right) = \\beta_0 + \\beta_1x$$\n",
    "\n",
    "The equation can be rearranged into the **logistic function**:\n",
    "\n",
    "$$\\pi = \\frac{e^{\\beta_0 + \\beta_1x}} {1 + e^{\\beta_0 + \\beta_1x}}$$\n",
    "\n",
    "- Logistic regression outputs the **probabilities of a specific class**\n",
    "- Those probabilities can be converted into **class predictions**\n",
    "\n",
    "The **logistic function** has some nice properties:\n",
    "\n",
    "- Takes on an \"s\" shape\n",
    "- Output is bounded by 0 and 1 (Probabilty is also bounded by 0 and 1)"
   ]
  },
  {
   "cell_type": "markdown",
   "metadata": {
    "collapsed": true
   },
   "source": [
    "### Probability of passing an exam versus hours of study  \n",
    "\n",
    "Suppose we wish to answer the following question:\n",
    "\n",
    "_A group of 20 students spend between 0 and 6 hours studying for an exam. How does the number of hours spent studying affect the probability that the student will pass the exam?_\n",
    "\n",
    "Note that the dependent variable pass/fail represented by \"1\" and \"0\" are categorical. A standard linear regression line of the form $y = \\beta_0 + \\beta_1 x + \\varepsilon$ doesn't fit the data well."
   ]
  },
  {
   "cell_type": "code",
   "execution_count": 71,
   "metadata": {
    "collapsed": false
   },
   "outputs": [
    {
     "data": {
      "text/html": [
       "<div>\n",
       "<table border=\"1\" class=\"dataframe\">\n",
       "  <thead>\n",
       "    <tr style=\"text-align: right;\">\n",
       "      <th></th>\n",
       "      <th>Hours</th>\n",
       "      <th>Pass</th>\n",
       "    </tr>\n",
       "  </thead>\n",
       "  <tbody>\n",
       "    <tr>\n",
       "      <th>0</th>\n",
       "      <td>0.50</td>\n",
       "      <td>0</td>\n",
       "    </tr>\n",
       "    <tr>\n",
       "      <th>1</th>\n",
       "      <td>0.75</td>\n",
       "      <td>0</td>\n",
       "    </tr>\n",
       "    <tr>\n",
       "      <th>2</th>\n",
       "      <td>1.00</td>\n",
       "      <td>0</td>\n",
       "    </tr>\n",
       "    <tr>\n",
       "      <th>3</th>\n",
       "      <td>1.25</td>\n",
       "      <td>0</td>\n",
       "    </tr>\n",
       "    <tr>\n",
       "      <th>4</th>\n",
       "      <td>1.50</td>\n",
       "      <td>0</td>\n",
       "    </tr>\n",
       "  </tbody>\n",
       "</table>\n",
       "</div>"
      ],
      "text/plain": [
       "   Hours  Pass\n",
       "0   0.50     0\n",
       "1   0.75     0\n",
       "2   1.00     0\n",
       "3   1.25     0\n",
       "4   1.50     0"
      ]
     },
     "execution_count": 71,
     "metadata": {},
     "output_type": "execute_result"
    }
   ],
   "source": [
    "url = 'http://nikbearbrown.com/YouTube/MachineLearning/DATA/Hours_vs_Pass_Exam.csv'\n",
    "hours_pass = pd.read_csv(url)\n",
    "hours_pass.head()"
   ]
  },
  {
   "cell_type": "code",
   "execution_count": 72,
   "metadata": {
    "collapsed": false
   },
   "outputs": [
    {
     "data": {
      "text/plain": [
       "<seaborn.axisgrid.FacetGrid at 0x104ac0710>"
      ]
     },
     "execution_count": 72,
     "metadata": {},
     "output_type": "execute_result"
    },
    {
     "data": {
      "image/png": "[encoded data removed]",
      "text/plain": [
       "<matplotlib.figure.Figure at 0x113f2c950>"
      ]
     },
     "metadata": {},
     "output_type": "display_data"
    }
   ],
   "source": [
    "sns.lmplot(x='Hours', y='Pass', data=hours_pass, ci=None)"
   ]
  },
  {
   "cell_type": "markdown",
   "metadata": {
    "collapsed": true
   },
   "source": [
    "## Logistic function (S-curve)\n",
    "\n",
    "A *[logistic function](https://en.wikipedia.org/wiki/Logistic_function)* or *logistic curve* is a common \"S\" shape curve, with equation:\n",
    "\n",
    "$$f(x) = \\frac{1}{1 + \\mathrm e^{-x}} $$ \n",
    "\n",
    "$$f(x) = \\frac{L}{1 + \\mathrm e^{-k(x-x_0)}} $$\n",
    "\n",
    "where  \n",
    "\n",
    "* $e$ = the natural logarithm base $e$ (also known as $e$ or Euler's number),   \n",
    "* $x_0$ = the $x$-value of the sigmoid's midpoint,    \n",
    "* $L$ = the curve's maximum value, and     \n",
    "* $k$ = the steepness of the curve.    \n",
    "\n",
    "For values of $x$ in the range of real number's from $-\\infty$ to $\\infty$, the S-curve shown on the right is obtained (with the graph of $f$ approaching $L$ as $x$ approaches $\\infty$ and approaching zero as $x$ approaches $-\\infty$)."
   ]
  },
  {
   "cell_type": "code",
   "execution_count": 73,
   "metadata": {
    "collapsed": false
   },
   "outputs": [
    {
     "data": {
      "image/png": "[encoded data removed]",
      "text/plain": [
       "<matplotlib.figure.Figure at 0x1141d5690>"
      ]
     },
     "metadata": {},
     "output_type": "display_data"
    }
   ],
   "source": [
    "fig = plt.figure(figsize=(12,8))\n",
    "ax = fig.add_subplot(111)\n",
    "support = np.linspace(-6, 6, 1000)\n",
    "ax.plot(support, stats.logistic.cdf(support), 'r-', label='Logistic')\n",
    "ax.plot(support, stats.norm.cdf(support), label='Probit')\n",
    "ax.legend();"
   ]
  },
  {
   "cell_type": "code",
   "execution_count": 74,
   "metadata": {
    "collapsed": false
   },
   "outputs": [
    {
     "data": {
      "image/png": "[encoded data removed]",
      "text/plain": [
       "<matplotlib.figure.Figure at 0x1148a78d0>"
      ]
     },
     "metadata": {},
     "output_type": "display_data"
    }
   ],
   "source": [
    "fig = plt.figure(figsize=(12,8))\n",
    "ax = fig.add_subplot(111)\n",
    "support = np.linspace(-6, 6, 1000)\n",
    "ax.plot(support, stats.logistic.pdf(support), 'r-', label='Logistic')\n",
    "ax.plot(support, stats.norm.pdf(support), label='Probit')\n",
    "ax.legend();"
   ]
  },
  {
   "cell_type": "code",
   "execution_count": 75,
   "metadata": {
    "collapsed": false
   },
   "outputs": [
    {
     "name": "stdout",
     "output_type": "stream",
     "text": [
      "Optimization terminated successfully.\n",
      "         Current function value: 0.617994\n",
      "         Iterations 5\n"
     ]
    },
    {
     "data": {
      "text/html": [
       "<table class=\"simpletable\">\n",
       "<caption>Logit Regression Results</caption>\n",
       "<tr>\n",
       "  <th>Dep. Variable:</th>       <td>Pass</td>       <th>  No. Observations:  </th>  <td>    22</td> \n",
       "</tr>\n",
       "<tr>\n",
       "  <th>Model:</th>               <td>Logit</td>      <th>  Df Residuals:      </th>  <td>    21</td> \n",
       "</tr>\n",
       "<tr>\n",
       "  <th>Method:</th>               <td>MLE</td>       <th>  Df Model:          </th>  <td>     0</td> \n",
       "</tr>\n",
       "<tr>\n",
       "  <th>Date:</th>          <td>Thu, 27 Apr 2017</td> <th>  Pseudo R-squ.:     </th>  <td>0.1031</td> \n",
       "</tr>\n",
       "<tr>\n",
       "  <th>Time:</th>              <td>12:24:53</td>     <th>  Log-Likelihood:    </th> <td> -13.596</td>\n",
       "</tr>\n",
       "<tr>\n",
       "  <th>converged:</th>           <td>True</td>       <th>  LL-Null:           </th> <td> -15.158</td>\n",
       "</tr>\n",
       "<tr>\n",
       "  <th> </th>                      <td> </td>        <th>  LLR p-value:       </th>  <td>   nan</td> \n",
       "</tr>\n",
       "</table>\n",
       "<table class=\"simpletable\">\n",
       "<tr>\n",
       "    <td></td>       <th>coef</th>     <th>std err</th>      <th>z</th>      <th>P>|z|</th> <th>[95.0% Conf. Int.]</th> \n",
       "</tr>\n",
       "<tr>\n",
       "  <th>Hours</th> <td>    0.2366</td> <td>    0.139</td> <td>    1.701</td> <td> 0.089</td> <td>   -0.036     0.509</td>\n",
       "</tr>\n",
       "</table>"
      ],
      "text/plain": [
       "<class 'statsmodels.iolib.summary.Summary'>\n",
       "\"\"\"\n",
       "                           Logit Regression Results                           \n",
       "==============================================================================\n",
       "Dep. Variable:                   Pass   No. Observations:                   22\n",
       "Model:                          Logit   Df Residuals:                       21\n",
       "Method:                           MLE   Df Model:                            0\n",
       "Date:                Thu, 27 Apr 2017   Pseudo R-squ.:                  0.1031\n",
       "Time:                        12:24:53   Log-Likelihood:                -13.596\n",
       "converged:                       True   LL-Null:                       -15.158\n",
       "                                        LLR p-value:                       nan\n",
       "==============================================================================\n",
       "                 coef    std err          z      P>|z|      [95.0% Conf. Int.]\n",
       "------------------------------------------------------------------------------\n",
       "Hours          0.2366      0.139      1.701      0.089        -0.036     0.509\n",
       "==============================================================================\n",
       "\"\"\""
      ]
     },
     "execution_count": 75,
     "metadata": {},
     "output_type": "execute_result"
    }
   ],
   "source": [
    "hours_pass_model = sm.Logit(hours_pass['Pass'], hours_pass['Hours']).fit()\n",
    "hours_pass_model.summary()"
   ]
  },
  {
   "cell_type": "markdown",
   "metadata": {},
   "source": [
    "## Probability and odds\n",
    "\n",
    "$$probability = \\frac {one\\ event} {all\\ events}$$\n",
    "\n",
    "$$odds = \\frac {one\\ event} {all\\ other\\ events}$$\n",
    "\n",
    "Examples:\n",
    "\n",
    "- Dice roll of 1: probability = 1/6, odds = 1/5\n",
    "- Even dice roll: probability = 3/6, odds = 3/3 = 1\n",
    "- Dice roll less than 6: probability = 5/6, odds = 5/1 = 5\n",
    "\n",
    "$$odds = \\frac {probability} {1 - probability}$$\n",
    "\n",
    "$$probability = \\frac {odds} {1 + odds}$$"
   ]
  },
  {
   "cell_type": "markdown",
   "metadata": {
    "collapsed": true
   },
   "source": [
    "**Interpretation:** A 1 unit increase in 'Hours' is associated with a \t0.2366 unit increase in the log-odds of 'Pass'.\n",
    "\n",
    "These coefficients are entered in the logistic regression equation to estimate the probability of passing the exam:\n",
    "\n",
    "$$\n",
    "\\text{Probability of passing exam} = \\frac{1}{1 + \\text{exp} \\left( - \\left( 0.2366 \\cdot \\text{Hours} - 0 \\right) \\right) }\n",
    "$$\n"
   ]
  },
  {
   "cell_type": "markdown",
   "metadata": {
    "collapsed": true
   },
   "source": [
    "## Polynomial regression\n",
    "\n",
    "The following examples are adpated from the scikit-learn documentation by Mathieu Blondel & Jake Vanderplas ([source](http://scikit-learn.org/stable/auto_examples/linear_model/plot_polynomial_interpolation.html))."
   ]
  },
  {
   "cell_type": "code",
   "execution_count": 76,
   "metadata": {
    "collapsed": true
   },
   "outputs": [],
   "source": [
    "func = lambda x: x * np.sin(x)"
   ]
  },
  {
   "cell_type": "code",
   "execution_count": 77,
   "metadata": {
    "collapsed": true
   },
   "outputs": [],
   "source": [
    "N, n = 1000, 10\n",
    "domain = np.linspace(0, 10, N)\n",
    "x_sample = np.sort(np.random.choice(domain, n))\n",
    "y_sample = func(x_sample)"
   ]
  },
  {
   "cell_type": "markdown",
   "metadata": {
    "collapsed": true
   },
   "source": [
    "Linear regression doesn't fit so well in this case."
   ]
  },
  {
   "cell_type": "code",
   "execution_count": 78,
   "metadata": {
    "collapsed": false
   },
   "outputs": [
    {
     "data": {
      "image/png": "[encoded data removed]",
      "text/plain": [
       "<matplotlib.figure.Figure at 0x1148be110>"
      ]
     },
     "metadata": {},
     "output_type": "display_data"
    }
   ],
   "source": [
    "X = np.array([x_sample]).T\n",
    "model = LinearRegression().fit(X, y_sample)\n",
    "f = plt.plot(domain, func(domain), label=\"ground truth\")\n",
    "f = plt.scatter(x_sample, func(x_sample), label=\"samples\")\n",
    "f = plt.plot([0, 10], [model.intercept_, model.intercept_ + 10 * model.coef_[0]], label=\"linear regression\")\n",
    "f = plt.legend(loc=\"upper left\", bbox_to_anchor=(1,1))"
   ]
  },
  {
   "cell_type": "markdown",
   "metadata": {
    "collapsed": true
   },
   "source": [
    "## Overfitting\n"
   ]
  },
  {
   "cell_type": "code",
   "execution_count": 79,
   "metadata": {
    "collapsed": false
   },
   "outputs": [
    {
     "data": {
      "image/png": "[encoded data removed]",
      "text/plain": [
       "<matplotlib.figure.Figure at 0x114f2e290>"
      ]
     },
     "metadata": {},
     "output_type": "display_data"
    }
   ],
   "source": [
    "\n",
    "def f(x):\n",
    "    \"\"\" function to approximate by polynomial interpolation\"\"\"\n",
    "    return x * np.sin(x)\n",
    "\n",
    "\n",
    "# generate points used to plot\n",
    "x_plot = np.linspace(0, 10, 100)\n",
    "\n",
    "# generate points and keep a subset of them\n",
    "x = np.linspace(0, 10, 100)\n",
    "rng = np.random.RandomState(0)\n",
    "rng.shuffle(x)\n",
    "x = np.sort(x[:20])\n",
    "y = f(x)\n",
    "\n",
    "# create matrix versions of these arrays\n",
    "X = x[:, np.newaxis]\n",
    "X_plot = x_plot[:, np.newaxis]\n",
    "\n",
    "colors = ['teal', 'yellowgreen', 'gold']\n",
    "lw = 2\n",
    "plt.plot(x_plot, f(x_plot), color='cornflowerblue', linewidth=lw,\n",
    "         label=\"actual value\")\n",
    "plt.scatter(x, y, color='navy', s=30, marker='o', label=\"training points\")\n",
    "\n",
    "for count, degree in enumerate([3, 4, 5]):\n",
    "    model = make_pipeline(PolynomialFeatures(degree), Ridge())\n",
    "    model.fit(X, y)\n",
    "    y_plot = model.predict(X_plot)\n",
    "    plt.plot(x_plot, y_plot, color=colors[count], linewidth=lw,\n",
    "             label=\"degree %d\" % degree)\n",
    "\n",
    "plt.legend(loc='lower left')\n",
    "\n",
    "plt.show()"
   ]
  },
  {
   "cell_type": "markdown",
   "metadata": {
    "collapsed": true
   },
   "source": [
    "## Regularization\n",
    "\n",
    "- Regularization is a method for \"constraining\" or \"regularizing\" the **size of the coefficients**, thus \"shrinking\" them towards zero.\n",
    "- It reduces model variance which **minimizes overfitting**.\n",
    "\n",
    "For a regularized linear regression model, we **minimize the sum of RSS and a \"penalty term\"** that penalizes coefficient size.\n",
    "\n",
    "**Ridge regression** (or \"L2 regularization\") minimizes: $$\\text{RSS} + \\alpha \\sum_{j=1}^p \\beta_j^2$$\n",
    "\n",
    "**Lasso regression** (or \"L1 regularization\") minimizes: $$\\text{RSS} + \\alpha \\sum_{j=1}^p |\\beta_j|$$\n",
    "\n",
    "- $p$ is the **number of features**\n",
    "- $\\beta_j$ is a **model coefficient**\n",
    "- $\\alpha$ is a **tuning parameter:**\n",
    "    - A tiny $\\alpha$ imposes no penalty on the coefficient size, and is equivalent to a normal linear regression model.\n",
    "    - Increasing the $\\alpha$ penalizes the coefficients and thus shrinks them.\n",
    "    "
   ]
  },
  {
   "cell_type": "markdown",
   "metadata": {
    "collapsed": true
   },
   "source": [
    "## Stepwise regression\n",
    "\n",
    "Stepwise regression means to iteratively select the best predictor (that improves the model the most), then the next best until we have no predictors that improves the model or use all of the predictors. This is also called forward stepwise selection.\n",
    "\n",
    "A variant called *backward elimination*, involves starting with all candidate predictors, testing the deletion of each variable using a chosen model comparison criterion, deleting the variable (if any) that improves the model the most by being deleted, and repeating this process until no further improvement is possible.\n",
    "\n",
    "Bidirectional elimination, a combination of the above, testing at each step for variables to be included or excluded."
   ]
  },
  {
   "cell_type": "markdown",
   "metadata": {
    "collapsed": true
   },
   "source": [
    "## Jarque–Bera test\n",
    "\n",
    "The *Jarque–Bera test* is a *goodness-of-fit* test of whether sample data have the *skewness* and *kurtosis* matching a *normal distribution*. The test is named after *Carlos Jarque* and *Anil K. Bera*. The *test statistic* *JB* is defined as\n",
    "\n",
    " $$\n",
    "    \\mathit{JB} = \\frac{n-k+1}{6} \\left( S^2 + \\frac14 (C-3)^2 \\right)\n",
    "  $$\n",
    "\n",
    "where *n* is the number of observations (or degrees of freedom in general); *S* is the sample *skewness*, *C* is the sample *kurtosis*, and k is the number of regressors:\n",
    "\n",
    " $$\n",
    "     S = \\frac{ \\hat{\\mu}_3 }{ \\hat{\\sigma}^3 }\n",
    "        = \\frac{\\frac1n \\sum_{i=1}^n (x_i-\\bar{x})^3} {\\left(\\frac1n \\sum_{i=1}^n (x_i-\\bar{x})^2 \\right)^{3/2}} ,\n",
    "$$\n",
    " $$\n",
    " C = \\frac{ \\hat{\\mu}_4 }{ \\hat{\\sigma}^4 }\n",
    "    = \\frac{\\frac1n \\sum_{i=1}^n (x_i-\\bar{x})^4} {\\left(\\frac1n \\sum_{i=1}^n (x_i-\\bar{x})^2 \\right)^{2}} ,\n",
    "$$\n",
    "\n",
    "where $\\hat{\\mu}_3$ and $\\hat{\\mu}_4$ are the estimates of third and fourth *central moment*s, respectively, $\\bar{x}$ is the sample *mean*, and $\\hat{\\sigma}^2$ is the estimate of the second central moment, the *variance*.\n",
    "\n",
    "If the data comes from a normal distribution, the *JB* statistic *asymptotically* has a *chi-squared distribution* with two *degrees of freedom*, so the statistic can be used to test the hypothesis that the data are from a *normal distribution*. The *null hypothesis* is a joint hypothesis of the skewness being zero and the *excess kurtosis* being zero. Samples from a normal distribution have an expected skewness of 0 and an expected excess kurtosis of 0 (which is the same as a kurtosis of 3). As the definition of *JB* shows, any deviation from this increases the JB statistic.\n",
    "\n",
    "For small samples the chi-squared approximation is overly sensitive, often rejecting the null hypothesis when it is true. Furthermore, the distribution of **p*-values* departs from a uniform distribution and becomes a right-skewed uni-modal distribution, especially for small *p*-values. This leads to a large *Type I error* rate. The table below shows some *p*-values approximated by a chi-squared distribution that differ from their true alpha levels for small samples.\n",
    "\n",
    "_Calculated *p*-values equivalents to true alpha levels at given sample sizes_   \n",
    "\n",
    "| True α level | 20     | 30     | 50     | 50     | 100    |\n",
    "|--------------|--------|--------|--------|--------|--------|\n",
    "| 0.1          | 0.307  | 0.252  | 0.201  | 0.183  | 0.1560 |\n",
    "| 0.05         | 0.1461 | 0.109  | 0.079  | 0.067  | 0.062  |\n",
    "| 0.025        | 0.051  | 0.0303 | 0.020  | 0.016  | 0.0168 |\n",
    "| 0.01         | 0.0064 | 0.0033 | 0.0015 | 0.0012 | 0.0002 |\n",
    "\n"
   ]
  },
  {
   "cell_type": "markdown",
   "metadata": {
    "collapsed": true
   },
   "source": [
    "## Durbin–Watson statistic\n",
    "\n",
    "The Durbin–Watson statistic is a test statistic used to detect the presence of autocorrelation (a relationship between values separated from each other by a given time lag) in the residuals (prediction errors) from a regression analysis. \n",
    "\n",
    "### Computing and interpreting the Durbin–Watson statistic  \n",
    "\n",
    "If $e_{t}$ is the *errors and residuals* associated with the observation at time $t$, then the *test statistic* is\n",
    "\n",
    "$$d = {\\sum_{t=2}^T (e_t - e_{t-1})^2 \\over {\\sum_{t=1}^T e_t^2}},$$\n",
    "\n",
    "where $T$ is the number of observations. Note that if one has a lengthy sample, then this can be linearly mapped to the Pearson correlation of the time-series data with its lags. Since $d$ is approximately equal to 2(1&nbsp;−&nbsp;$r$), where $r$ is the sample autocorrelation of the residuals, $d$&nbsp;=&nbsp;2 indicates no autocorrelation. The value of $d$ always lies between 0 and 4. If the Durbin–Watson statistic is substantially less than 2, there is evidence of positive serial correlation. As a rough rule of thumb, if Durbin–Watson is less than 1.0, there may be cause for alarm. Small values of $d$ indicate successive error terms are, on average, close in value to one another, or positively correlated. If $d$&nbsp;>&nbsp;2, successive error terms are, on average, much different in value from one another, i.e., negatively correlated. In regressions, this can imply an underestimation of the level of *statistical significance*.\n",
    "\n",
    "To test for *positive autocorrelation* at significance $α$, the test statistic $d$ is compared to lower and upper critical values ($d_{L,α}$ and $d_{U,α}$):   \n",
    "\n",
    " * If $d$ < $d_{L,α}$, there is statistical evidence that the error terms are positively autocorrelated.    \n",
    " *  If $d$ > $d_{U,α}$, there is $'no$' statistical evidence that the error terms are positively autocorrelated.    \n",
    " *  If $d_{L,α}$ < $d$ < $d_{U,α}$, the test is inconclusive.    \n",
    "\n",
    "Positive serial correlation is serial correlation in which a positive error for one observation increases the chances of a positive error for another observation.\n",
    "\n",
    "To test for *negative autocorrelation* at significance $α$, the test statistic (4&nbsp;−&nbsp;$d$) is compared to lower and upper critical values ($d_{L,α}$ and $d_{U,α}$):\n",
    "\n",
    " * If (4 − $d$) < $d_{L,α}$, there is statistical evidence that the error terms are negatively autocorrelated.  \n",
    " * If (4&nbsp;−&nbsp;$d$) > $d_{U,α}$, there is $'no$' statistical evidence that the error terms are negatively autocorrelated.  \n",
    " * If $d_{L,α}$ < (4 − $d$) < $d_{U,α}$, the test is inconclusive.  \n",
    "\n",
    "Negative serial correlation implies that a positive error for one observation increases the chance of a negative error for another observation and a negative error for one observation increases the chances of a positive error for another.\n",
    "\n",
    "The critical values, $d_{L,α}$ and $d_{U,α}$, vary by level of significance ($α$), the number of observations, and the number of predictors in the regression equation. Their derivation is complex—statisticians typically obtain them from the appendices of statistical texts.\n"
   ]
  },
  {
   "cell_type": "markdown",
   "metadata": {
    "collapsed": true
   },
   "source": [
    "## Omnibus tests\n",
    "\n",
    "Omnibus tests are a kind of statistical test. They test whether the explained variance in a set of data is significantly greater than the unexplained variance, overall. \n",
    "\n",
    "In Multiple Regression the omnibus test is an ANOVA F test on all the coefficients, that is equivalent to the multiple correlations R Square F test.\n",
    "\n",
    "The omnibus F test is an overall test that examines model fit, thus rejecting the null hypothesis implies that the suggested linear model is not significally suitable to the data.\n",
    "In other words, none of the independent variables has explored as significant in explaining the dependant variable variation.\n",
    "These hypotheses examine model fit of the most common model: \n",
    "\n",
    "$$\n",
    "y_{i}=β_{0} + β_{1} x_{i1} + ... +β_{k} x_{ik} + ε_{ij}\n",
    "$$\n",
    "\n",
    "estimated by $E(y_{i}|x_{i1}....x_{ik})=β_{0}+β_{1}x_{i1}+...+β_{k}x_{ik}\n",
    ",where E(y_{i}|x_{i1}....x_{ik})$ is the dependant variable explanatory for the $i-th$ observation, $x_{ij}$ is the $j-th$ independent (explanatory) variable, $β_{j}$ is the $j-th$ coefficient of $x_{ij}$ and indicates its influence on the dependant variable y upon its partial correlation with y.\n",
    "\n",
    "The F statistics of the omnibus test is: \n",
    "\n",
    "$$ F = \\frac{{\\displaystyle \\sum_{i=1}^n \\left(\\widehat {y_i}-\\bar {y}\\right)^2}/{k}} {{\\displaystyle {\\sum_{j=1}^{k}} {\\sum_{i=1}^{n_j}} \\left(y_{ij}-\\widehat {y_i}\\right)^2}/{(n-k-1)}}$$\n",
    " \n",
    "Whereas, $ȳ$ is the overall sample mean for$ y_{i}, ŷ_{i}$ is the regression estimated mean for specific set of k independent (explanatory) variables and n is the sample size.\n",
    "\n",
    "The F statistic is distributed $F_{ (k,n-k-1),(α)}$ under assuming of null hypothesis and normality assumption.\n",
    "\n",
    "#### Model Assumptions in Multiple Linear Regression    \n",
    "\n",
    "* Random sampling.   \n",
    "* Normal or approximately normal distribution of the errors $e_{ij}$.   \n",
    "* The errors  $e_{ij}$ explanatory equals zero, $E(e_{ij})=0$.    \n",
    "* Equal variances of the errors $e_{ij}$. Which it's omnibus F test ( like Levene F test).   \n",
    "* No Multi-collinearity between explanatory/predictor variables' meaning: $cov(x_{i},x_{j})=0$ where is $i≠j$, for any $i$ or $j$.    \n",
    "\n",
    "#### The omnibus F test regarding the hypotheses over the coefficients   \n",
    "$$\n",
    "H_{0}: β_{1}= β_{2}=….= β_{k} = 0\n",
    "$$\n",
    "$$\n",
    "H_{1}: \\quad at \\quad least \\quad one \\quad pair \\quad  β_{j}≠ β_{j'}\n",
    "$$\n",
    "The omnibus test examines whether there are any regression coefficients that are significantly non-zero, except for the coefficient $β0$. The $β0$ coefficient goes with the constant predictor and is usually not of interest. \n",
    "\n"
   ]
  },
  {
   "cell_type": "markdown",
   "metadata": {
    "collapsed": true
   },
   "source": [
    "## Degrees of freedom\n",
    "\n",
    "The degrees of freedom is the number of values in the final calculation of a statistic that are free to vary.\n",
    "\n",
    "The number of independent ways by which a dynamic system can move, without violating any constraint imposed on it, is called number of degrees of freedom. In other words, the number of degrees of freedom can be defined as the minimum number of independent coordinates that can specify the position of the system completely.\n",
    "\n",
    "The degrees of freedom equals the number of observations minus the number of parameters estimated. In regression, a parameter is estimated for every term in the model, and and each one consumes a degree of freedom. Therefore, the greater the number of terms in a multiple regression model reduces the degrees of freedom available to estimate the parameters variance. \n"
   ]
  },
  {
   "cell_type": "markdown",
   "metadata": {
    "collapsed": true
   },
   "source": [
    "## Likelihood and Negative Log Likelihood\n",
    "\n",
    "The Log Likelihood asks the question if the data were generated by the model, what parameters were most likely to have been used?  In linear regression problems we need to make the assumption that the feature vectors are all independent and identically distributed (IID). "
   ]
  },
  {
   "cell_type": "markdown",
   "metadata": {
    "collapsed": true
   },
   "source": [
    "## AIC, BIC, Mallows's Cp\n",
    "\n",
    "Beside's $R^2$ there are many tests used to assess the fit of a regression model that has been estimated using ordinary least squares.  $R^2$ always get smaller as more variables are added to a model, which is a form of overfitting.  Some analysts used other statistical tests to assess the fit of a regression model. The most common being the *Akaike information criterion (AIC)*, the *Bayesian information criterion (BIC)*, and \n",
    "\n",
    "\n",
    "_Akaike information criterion_\n",
    "\n",
    "The Akaike information criterion (AIC) is a measure of the relative quality of statistical models for a given set of data. Given a collection of models for the data, AIC estimates the quality of each model, relative to each of the other models. Hence, AIC provides a means for model selection.  \n",
    "\n",
    "AIC is founded on information theory: it offers a relative estimate of the information lost when a given model is used to represent the process that generates the data. In doing so, it deals with the trade-off between the goodness of fit of the model and the complexity of the model.\n",
    "\n",
    "- from [Akaike information criterion - Wikipedia](https://en.wikipedia.org/wiki/Akaike_information_criterion)\n",
    "\n",
    "\n",
    "_Bayesian information criterion (BIC)_\n",
    "\n",
    "In statistics, the Bayesian information criterion (BIC) or Schwarz criterion (also SBC, SBIC) is a criterion for model selection among a finite set of models; the model with the lowest BIC is preferred. It is based, in part, on the likelihood function and it is closely related to the Akaike information criterion (AIC).  \n",
    "\n",
    "When fitting models, it is possible to increase the likelihood by adding parameters, but doing so may result in overfitting. Both BIC and AIC resolve this problem by introducing a penalty term for the number of parameters in the model; the penalty term is larger in BIC than in AIC. The BIC was developed by Gideon E. Schwarz and published in a 1978 paper, where he gave a Bayesian argument for adopting it.  \n",
    "\n",
    "- from [Bayesian information criterion (BIC) - Wikipedia](https://en.wikipedia.org/wiki/Bayesian_information_criterion) \n",
    "\n",
    "\n",
    "_Mallows's Cp_\n",
    "\n",
    "In statistics, Mallows's Cp, named for Colin Lingwood Mallows, is used to assess the fit of a regression model that has been estimated using ordinary least squares. It is applied in the context of model selection, where a number of predictor variables are available for predicting some outcome, and the goal is to find the best model involving a subset of these predictors.\n",
    "\n",
    "- from [Mallows's Cp- Wikipedia](https://en.wikipedia.org/wiki/Mallows%27s_Cp) \n",
    "\n",
    "\n",
    "We won't discuss which to use (although R makes it easy to use them all!). Rather just point out that they are all used to assess the fit of a regression model that has been estimated using ordinary least squares. Also note that high (i.e close to 1) is \"good\" for $R^2$ and low (i.e close to 0) is \"good\" for AIC, BIC, Mallows's Cp. \n",
    "\n",
    "\n",
    "Test          | \"Good\"\n",
    "------------- | -------------\n",
    "$R^2$         | High\n",
    "AIC           | Low\n",
    "BIC           | Low\n",
    "Mallows's Cp  | Low\n",
    "\n"
   ]
  },
  {
   "cell_type": "markdown",
   "metadata": {},
   "source": [
    "## Dummy variables \n",
    "    \n",
    "[Dummy variables](https://en.wikipedia.org/wiki/Dummy_variable_(statistics) (also known as an indicator variable, design variable, Boolean indicator, categorical variable, binary variable, or qualitative variable) is one that takes the value 0 or 1 to indicate the absence or presence of some categorical effect that may be expected to shift the outcome. \n",
    "\n",
    "Dummy variables are \"proxy\" variables or numeric stand-ins for qualitative facts in a regression model. In regression analysis, the dependent variables may be influenced not only by quantitative variables (income, output, prices, etc.), but also by qualitative variables (gender, religion, geographic region, etc.). A dummy independent variable (also called a dummy explanatory variable) which for some observation has a value of 0 will cause that variable's coefficient to have no role in influencing the dependent variable, while when the dummy takes on a value 1 its coefficient acts to alter the intercept."
   ]
  },
  {
   "cell_type": "code",
   "execution_count": 80,
   "metadata": {
    "collapsed": true
   },
   "outputs": [],
   "source": [
    "titanic = pd.read_csv('http://bit.ly/kaggletrain')"
   ]
  },
  {
   "cell_type": "code",
   "execution_count": 81,
   "metadata": {
    "collapsed": false
   },
   "outputs": [
    {
     "data": {
      "text/html": [
       "<div>\n",
       "<table border=\"1\" class=\"dataframe\">\n",
       "  <thead>\n",
       "    <tr style=\"text-align: right;\">\n",
       "      <th></th>\n",
       "      <th>PassengerId</th>\n",
       "      <th>Survived</th>\n",
       "      <th>Pclass</th>\n",
       "      <th>Name</th>\n",
       "      <th>Sex</th>\n",
       "      <th>Age</th>\n",
       "      <th>SibSp</th>\n",
       "      <th>Parch</th>\n",
       "      <th>Ticket</th>\n",
       "      <th>Fare</th>\n",
       "      <th>Cabin</th>\n",
       "      <th>Embarked</th>\n",
       "    </tr>\n",
       "  </thead>\n",
       "  <tbody>\n",
       "    <tr>\n",
       "      <th>0</th>\n",
       "      <td>1</td>\n",
       "      <td>0</td>\n",
       "      <td>3</td>\n",
       "      <td>Braund, Mr. Owen Harris</td>\n",
       "      <td>male</td>\n",
       "      <td>22.0</td>\n",
       "      <td>1</td>\n",
       "      <td>0</td>\n",
       "      <td>A/5 21171</td>\n",
       "      <td>7.2500</td>\n",
       "      <td>NaN</td>\n",
       "      <td>S</td>\n",
       "    </tr>\n",
       "    <tr>\n",
       "      <th>1</th>\n",
       "      <td>2</td>\n",
       "      <td>1</td>\n",
       "      <td>1</td>\n",
       "      <td>Cumings, Mrs. John Bradley (Florence Briggs Th...</td>\n",
       "      <td>female</td>\n",
       "      <td>38.0</td>\n",
       "      <td>1</td>\n",
       "      <td>0</td>\n",
       "      <td>PC 17599</td>\n",
       "      <td>71.2833</td>\n",
       "      <td>C85</td>\n",
       "      <td>C</td>\n",
       "    </tr>\n",
       "    <tr>\n",
       "      <th>2</th>\n",
       "      <td>3</td>\n",
       "      <td>1</td>\n",
       "      <td>3</td>\n",
       "      <td>Heikkinen, Miss. Laina</td>\n",
       "      <td>female</td>\n",
       "      <td>26.0</td>\n",
       "      <td>0</td>\n",
       "      <td>0</td>\n",
       "      <td>STON/O2. 3101282</td>\n",
       "      <td>7.9250</td>\n",
       "      <td>NaN</td>\n",
       "      <td>S</td>\n",
       "    </tr>\n",
       "    <tr>\n",
       "      <th>3</th>\n",
       "      <td>4</td>\n",
       "      <td>1</td>\n",
       "      <td>1</td>\n",
       "      <td>Futrelle, Mrs. Jacques Heath (Lily May Peel)</td>\n",
       "      <td>female</td>\n",
       "      <td>35.0</td>\n",
       "      <td>1</td>\n",
       "      <td>0</td>\n",
       "      <td>113803</td>\n",
       "      <td>53.1000</td>\n",
       "      <td>C123</td>\n",
       "      <td>S</td>\n",
       "    </tr>\n",
       "    <tr>\n",
       "      <th>4</th>\n",
       "      <td>5</td>\n",
       "      <td>0</td>\n",
       "      <td>3</td>\n",
       "      <td>Allen, Mr. William Henry</td>\n",
       "      <td>male</td>\n",
       "      <td>35.0</td>\n",
       "      <td>0</td>\n",
       "      <td>0</td>\n",
       "      <td>373450</td>\n",
       "      <td>8.0500</td>\n",
       "      <td>NaN</td>\n",
       "      <td>S</td>\n",
       "    </tr>\n",
       "  </tbody>\n",
       "</table>\n",
       "</div>"
      ],
      "text/plain": [
       "   PassengerId  Survived  Pclass  \\\n",
       "0            1         0       3   \n",
       "1            2         1       1   \n",
       "2            3         1       3   \n",
       "3            4         1       1   \n",
       "4            5         0       3   \n",
       "\n",
       "                                                Name     Sex   Age  SibSp  \\\n",
       "0                            Braund, Mr. Owen Harris    male  22.0      1   \n",
       "1  Cumings, Mrs. John Bradley (Florence Briggs Th...  female  38.0      1   \n",
       "2                             Heikkinen, Miss. Laina  female  26.0      0   \n",
       "3       Futrelle, Mrs. Jacques Heath (Lily May Peel)  female  35.0      1   \n",
       "4                           Allen, Mr. William Henry    male  35.0      0   \n",
       "\n",
       "   Parch            Ticket     Fare Cabin Embarked  \n",
       "0      0         A/5 21171   7.2500   NaN        S  \n",
       "1      0          PC 17599  71.2833   C85        C  \n",
       "2      0  STON/O2. 3101282   7.9250   NaN        S  \n",
       "3      0            113803  53.1000  C123        S  \n",
       "4      0            373450   8.0500   NaN        S  "
      ]
     },
     "execution_count": 81,
     "metadata": {},
     "output_type": "execute_result"
    }
   ],
   "source": [
    "titanic.head()"
   ]
  },
  {
   "cell_type": "code",
   "execution_count": 82,
   "metadata": {
    "collapsed": false
   },
   "outputs": [
    {
     "data": {
      "text/html": [
       "<div>\n",
       "<table border=\"1\" class=\"dataframe\">\n",
       "  <thead>\n",
       "    <tr style=\"text-align: right;\">\n",
       "      <th></th>\n",
       "      <th>female</th>\n",
       "      <th>male</th>\n",
       "    </tr>\n",
       "  </thead>\n",
       "  <tbody>\n",
       "    <tr>\n",
       "      <th>0</th>\n",
       "      <td>0</td>\n",
       "      <td>1</td>\n",
       "    </tr>\n",
       "    <tr>\n",
       "      <th>1</th>\n",
       "      <td>1</td>\n",
       "      <td>0</td>\n",
       "    </tr>\n",
       "    <tr>\n",
       "      <th>2</th>\n",
       "      <td>1</td>\n",
       "      <td>0</td>\n",
       "    </tr>\n",
       "    <tr>\n",
       "      <th>3</th>\n",
       "      <td>1</td>\n",
       "      <td>0</td>\n",
       "    </tr>\n",
       "    <tr>\n",
       "      <th>4</th>\n",
       "      <td>0</td>\n",
       "      <td>1</td>\n",
       "    </tr>\n",
       "  </tbody>\n",
       "</table>\n",
       "</div>"
      ],
      "text/plain": [
       "   female  male\n",
       "0       0     1\n",
       "1       1     0\n",
       "2       1     0\n",
       "3       1     0\n",
       "4       0     1"
      ]
     },
     "execution_count": 82,
     "metadata": {},
     "output_type": "execute_result"
    }
   ],
   "source": [
    "pd.get_dummies(titanic.Sex).head()"
   ]
  },
  {
   "cell_type": "code",
   "execution_count": 83,
   "metadata": {
    "collapsed": false
   },
   "outputs": [
    {
     "data": {
      "text/html": [
       "<div>\n",
       "<table border=\"1\" class=\"dataframe\">\n",
       "  <thead>\n",
       "    <tr style=\"text-align: right;\">\n",
       "      <th></th>\n",
       "      <th>male</th>\n",
       "    </tr>\n",
       "  </thead>\n",
       "  <tbody>\n",
       "    <tr>\n",
       "      <th>0</th>\n",
       "      <td>1</td>\n",
       "    </tr>\n",
       "    <tr>\n",
       "      <th>1</th>\n",
       "      <td>0</td>\n",
       "    </tr>\n",
       "    <tr>\n",
       "      <th>2</th>\n",
       "      <td>0</td>\n",
       "    </tr>\n",
       "    <tr>\n",
       "      <th>3</th>\n",
       "      <td>0</td>\n",
       "    </tr>\n",
       "    <tr>\n",
       "      <th>4</th>\n",
       "      <td>1</td>\n",
       "    </tr>\n",
       "  </tbody>\n",
       "</table>\n",
       "</div>"
      ],
      "text/plain": [
       "   male\n",
       "0     1\n",
       "1     0\n",
       "2     0\n",
       "3     0\n",
       "4     1"
      ]
     },
     "execution_count": 83,
     "metadata": {},
     "output_type": "execute_result"
    }
   ],
   "source": [
    "# drop the first dummy variable using  'iloc'\n",
    "pd.get_dummies(titanic.Sex).iloc[:, 1:].head()"
   ]
  },
  {
   "cell_type": "code",
   "execution_count": 84,
   "metadata": {
    "collapsed": false
   },
   "outputs": [
    {
     "data": {
      "text/html": [
       "<div>\n",
       "<table border=\"1\" class=\"dataframe\">\n",
       "  <thead>\n",
       "    <tr style=\"text-align: right;\">\n",
       "      <th></th>\n",
       "      <th>Sex_male</th>\n",
       "    </tr>\n",
       "  </thead>\n",
       "  <tbody>\n",
       "    <tr>\n",
       "      <th>0</th>\n",
       "      <td>1</td>\n",
       "    </tr>\n",
       "    <tr>\n",
       "      <th>1</th>\n",
       "      <td>0</td>\n",
       "    </tr>\n",
       "    <tr>\n",
       "      <th>2</th>\n",
       "      <td>0</td>\n",
       "    </tr>\n",
       "    <tr>\n",
       "      <th>3</th>\n",
       "      <td>0</td>\n",
       "    </tr>\n",
       "    <tr>\n",
       "      <th>4</th>\n",
       "      <td>1</td>\n",
       "    </tr>\n",
       "    <tr>\n",
       "      <th>5</th>\n",
       "      <td>1</td>\n",
       "    </tr>\n",
       "    <tr>\n",
       "      <th>6</th>\n",
       "      <td>1</td>\n",
       "    </tr>\n",
       "    <tr>\n",
       "      <th>7</th>\n",
       "      <td>1</td>\n",
       "    </tr>\n",
       "    <tr>\n",
       "      <th>8</th>\n",
       "      <td>0</td>\n",
       "    </tr>\n",
       "  </tbody>\n",
       "</table>\n",
       "</div>"
      ],
      "text/plain": [
       "   Sex_male\n",
       "0         1\n",
       "1         0\n",
       "2         0\n",
       "3         0\n",
       "4         1\n",
       "5         1\n",
       "6         1\n",
       "7         1\n",
       "8         0"
      ]
     },
     "execution_count": 84,
     "metadata": {},
     "output_type": "execute_result"
    }
   ],
   "source": [
    "# add a prefix\n",
    "pd.get_dummies(titanic.Sex, prefix='Sex').iloc[:, 1:].head(9)"
   ]
  },
  {
   "cell_type": "code",
   "execution_count": 85,
   "metadata": {
    "collapsed": false
   },
   "outputs": [
    {
     "data": {
      "text/html": [
       "<div>\n",
       "<table border=\"1\" class=\"dataframe\">\n",
       "  <thead>\n",
       "    <tr style=\"text-align: right;\">\n",
       "      <th></th>\n",
       "      <th>Embarked_C</th>\n",
       "      <th>Embarked_Q</th>\n",
       "      <th>Embarked_S</th>\n",
       "    </tr>\n",
       "  </thead>\n",
       "  <tbody>\n",
       "    <tr>\n",
       "      <th>0</th>\n",
       "      <td>0</td>\n",
       "      <td>0</td>\n",
       "      <td>1</td>\n",
       "    </tr>\n",
       "    <tr>\n",
       "      <th>1</th>\n",
       "      <td>1</td>\n",
       "      <td>0</td>\n",
       "      <td>0</td>\n",
       "    </tr>\n",
       "    <tr>\n",
       "      <th>2</th>\n",
       "      <td>0</td>\n",
       "      <td>0</td>\n",
       "      <td>1</td>\n",
       "    </tr>\n",
       "    <tr>\n",
       "      <th>3</th>\n",
       "      <td>0</td>\n",
       "      <td>0</td>\n",
       "      <td>1</td>\n",
       "    </tr>\n",
       "    <tr>\n",
       "      <th>4</th>\n",
       "      <td>0</td>\n",
       "      <td>0</td>\n",
       "      <td>1</td>\n",
       "    </tr>\n",
       "    <tr>\n",
       "      <th>5</th>\n",
       "      <td>0</td>\n",
       "      <td>1</td>\n",
       "      <td>0</td>\n",
       "    </tr>\n",
       "    <tr>\n",
       "      <th>6</th>\n",
       "      <td>0</td>\n",
       "      <td>0</td>\n",
       "      <td>1</td>\n",
       "    </tr>\n",
       "    <tr>\n",
       "      <th>7</th>\n",
       "      <td>0</td>\n",
       "      <td>0</td>\n",
       "      <td>1</td>\n",
       "    </tr>\n",
       "    <tr>\n",
       "      <th>8</th>\n",
       "      <td>0</td>\n",
       "      <td>0</td>\n",
       "      <td>1</td>\n",
       "    </tr>\n",
       "  </tbody>\n",
       "</table>\n",
       "</div>"
      ],
      "text/plain": [
       "   Embarked_C  Embarked_Q  Embarked_S\n",
       "0           0           0           1\n",
       "1           1           0           0\n",
       "2           0           0           1\n",
       "3           0           0           1\n",
       "4           0           0           1\n",
       "5           0           1           0\n",
       "6           0           0           1\n",
       "7           0           0           1\n",
       "8           0           0           1"
      ]
     },
     "execution_count": 85,
     "metadata": {},
     "output_type": "execute_result"
    }
   ],
   "source": [
    "# Embarked is a feature that has 3 possible values\n",
    "pd.get_dummies(titanic.Embarked, prefix='Embarked').head(9)"
   ]
  },
  {
   "cell_type": "code",
   "execution_count": 86,
   "metadata": {
    "collapsed": false,
    "scrolled": true
   },
   "outputs": [
    {
     "data": {
      "text/html": [
       "<div>\n",
       "<table border=\"1\" class=\"dataframe\">\n",
       "  <thead>\n",
       "    <tr style=\"text-align: right;\">\n",
       "      <th></th>\n",
       "      <th>PassengerId</th>\n",
       "      <th>Survived</th>\n",
       "      <th>Pclass</th>\n",
       "      <th>Name</th>\n",
       "      <th>Sex</th>\n",
       "      <th>Age</th>\n",
       "      <th>SibSp</th>\n",
       "      <th>Parch</th>\n",
       "      <th>Ticket</th>\n",
       "      <th>Fare</th>\n",
       "      <th>Cabin</th>\n",
       "      <th>Embarked</th>\n",
       "      <th>Embarked_Q</th>\n",
       "      <th>Embarked_S</th>\n",
       "    </tr>\n",
       "  </thead>\n",
       "  <tbody>\n",
       "    <tr>\n",
       "      <th>0</th>\n",
       "      <td>1</td>\n",
       "      <td>0</td>\n",
       "      <td>3</td>\n",
       "      <td>Braund, Mr. Owen Harris</td>\n",
       "      <td>male</td>\n",
       "      <td>22.0</td>\n",
       "      <td>1</td>\n",
       "      <td>0</td>\n",
       "      <td>A/5 21171</td>\n",
       "      <td>7.2500</td>\n",
       "      <td>NaN</td>\n",
       "      <td>S</td>\n",
       "      <td>0</td>\n",
       "      <td>1</td>\n",
       "    </tr>\n",
       "    <tr>\n",
       "      <th>1</th>\n",
       "      <td>2</td>\n",
       "      <td>1</td>\n",
       "      <td>1</td>\n",
       "      <td>Cumings, Mrs. John Bradley (Florence Briggs Th...</td>\n",
       "      <td>female</td>\n",
       "      <td>38.0</td>\n",
       "      <td>1</td>\n",
       "      <td>0</td>\n",
       "      <td>PC 17599</td>\n",
       "      <td>71.2833</td>\n",
       "      <td>C85</td>\n",
       "      <td>C</td>\n",
       "      <td>0</td>\n",
       "      <td>0</td>\n",
       "    </tr>\n",
       "    <tr>\n",
       "      <th>2</th>\n",
       "      <td>3</td>\n",
       "      <td>1</td>\n",
       "      <td>3</td>\n",
       "      <td>Heikkinen, Miss. Laina</td>\n",
       "      <td>female</td>\n",
       "      <td>26.0</td>\n",
       "      <td>0</td>\n",
       "      <td>0</td>\n",
       "      <td>STON/O2. 3101282</td>\n",
       "      <td>7.9250</td>\n",
       "      <td>NaN</td>\n",
       "      <td>S</td>\n",
       "      <td>0</td>\n",
       "      <td>1</td>\n",
       "    </tr>\n",
       "    <tr>\n",
       "      <th>3</th>\n",
       "      <td>4</td>\n",
       "      <td>1</td>\n",
       "      <td>1</td>\n",
       "      <td>Futrelle, Mrs. Jacques Heath (Lily May Peel)</td>\n",
       "      <td>female</td>\n",
       "      <td>35.0</td>\n",
       "      <td>1</td>\n",
       "      <td>0</td>\n",
       "      <td>113803</td>\n",
       "      <td>53.1000</td>\n",
       "      <td>C123</td>\n",
       "      <td>S</td>\n",
       "      <td>0</td>\n",
       "      <td>1</td>\n",
       "    </tr>\n",
       "    <tr>\n",
       "      <th>4</th>\n",
       "      <td>5</td>\n",
       "      <td>0</td>\n",
       "      <td>3</td>\n",
       "      <td>Allen, Mr. William Henry</td>\n",
       "      <td>male</td>\n",
       "      <td>35.0</td>\n",
       "      <td>0</td>\n",
       "      <td>0</td>\n",
       "      <td>373450</td>\n",
       "      <td>8.0500</td>\n",
       "      <td>NaN</td>\n",
       "      <td>S</td>\n",
       "      <td>0</td>\n",
       "      <td>1</td>\n",
       "    </tr>\n",
       "    <tr>\n",
       "      <th>5</th>\n",
       "      <td>6</td>\n",
       "      <td>0</td>\n",
       "      <td>3</td>\n",
       "      <td>Moran, Mr. James</td>\n",
       "      <td>male</td>\n",
       "      <td>NaN</td>\n",
       "      <td>0</td>\n",
       "      <td>0</td>\n",
       "      <td>330877</td>\n",
       "      <td>8.4583</td>\n",
       "      <td>NaN</td>\n",
       "      <td>Q</td>\n",
       "      <td>1</td>\n",
       "      <td>0</td>\n",
       "    </tr>\n",
       "    <tr>\n",
       "      <th>6</th>\n",
       "      <td>7</td>\n",
       "      <td>0</td>\n",
       "      <td>1</td>\n",
       "      <td>McCarthy, Mr. Timothy J</td>\n",
       "      <td>male</td>\n",
       "      <td>54.0</td>\n",
       "      <td>0</td>\n",
       "      <td>0</td>\n",
       "      <td>17463</td>\n",
       "      <td>51.8625</td>\n",
       "      <td>E46</td>\n",
       "      <td>S</td>\n",
       "      <td>0</td>\n",
       "      <td>1</td>\n",
       "    </tr>\n",
       "    <tr>\n",
       "      <th>7</th>\n",
       "      <td>8</td>\n",
       "      <td>0</td>\n",
       "      <td>3</td>\n",
       "      <td>Palsson, Master. Gosta Leonard</td>\n",
       "      <td>male</td>\n",
       "      <td>2.0</td>\n",
       "      <td>3</td>\n",
       "      <td>1</td>\n",
       "      <td>349909</td>\n",
       "      <td>21.0750</td>\n",
       "      <td>NaN</td>\n",
       "      <td>S</td>\n",
       "      <td>0</td>\n",
       "      <td>1</td>\n",
       "    </tr>\n",
       "    <tr>\n",
       "      <th>8</th>\n",
       "      <td>9</td>\n",
       "      <td>1</td>\n",
       "      <td>3</td>\n",
       "      <td>Johnson, Mrs. Oscar W (Elisabeth Vilhelmina Berg)</td>\n",
       "      <td>female</td>\n",
       "      <td>27.0</td>\n",
       "      <td>0</td>\n",
       "      <td>2</td>\n",
       "      <td>347742</td>\n",
       "      <td>11.1333</td>\n",
       "      <td>NaN</td>\n",
       "      <td>S</td>\n",
       "      <td>0</td>\n",
       "      <td>1</td>\n",
       "    </tr>\n",
       "  </tbody>\n",
       "</table>\n",
       "</div>"
      ],
      "text/plain": [
       "   PassengerId  Survived  Pclass  \\\n",
       "0            1         0       3   \n",
       "1            2         1       1   \n",
       "2            3         1       3   \n",
       "3            4         1       1   \n",
       "4            5         0       3   \n",
       "5            6         0       3   \n",
       "6            7         0       1   \n",
       "7            8         0       3   \n",
       "8            9         1       3   \n",
       "\n",
       "                                                Name     Sex   Age  SibSp  \\\n",
       "0                            Braund, Mr. Owen Harris    male  22.0      1   \n",
       "1  Cumings, Mrs. John Bradley (Florence Briggs Th...  female  38.0      1   \n",
       "2                             Heikkinen, Miss. Laina  female  26.0      0   \n",
       "3       Futrelle, Mrs. Jacques Heath (Lily May Peel)  female  35.0      1   \n",
       "4                           Allen, Mr. William Henry    male  35.0      0   \n",
       "5                                   Moran, Mr. James    male   NaN      0   \n",
       "6                            McCarthy, Mr. Timothy J    male  54.0      0   \n",
       "7                     Palsson, Master. Gosta Leonard    male   2.0      3   \n",
       "8  Johnson, Mrs. Oscar W (Elisabeth Vilhelmina Berg)  female  27.0      0   \n",
       "\n",
       "   Parch            Ticket     Fare Cabin Embarked  Embarked_Q  Embarked_S  \n",
       "0      0         A/5 21171   7.2500   NaN        S           0           1  \n",
       "1      0          PC 17599  71.2833   C85        C           0           0  \n",
       "2      0  STON/O2. 3101282   7.9250   NaN        S           0           1  \n",
       "3      0            113803  53.1000  C123        S           0           1  \n",
       "4      0            373450   8.0500   NaN        S           0           1  \n",
       "5      0            330877   8.4583   NaN        Q           1           0  \n",
       "6      0             17463  51.8625   E46        S           0           1  \n",
       "7      1            349909  21.0750   NaN        S           0           1  \n",
       "8      2            347742  11.1333   NaN        S           0           1  "
      ]
     },
     "execution_count": 86,
     "metadata": {},
     "output_type": "execute_result"
    }
   ],
   "source": [
    "# add dummy variables to df\n",
    "dummies = pd.get_dummies(titanic.Embarked, prefix='Embarked').iloc[:, 1:]\n",
    "titanic = pd.concat([titanic, dummies], axis=1)\n",
    "titanic.head(9)"
   ]
  },
  {
   "cell_type": "markdown",
   "metadata": {},
   "source": [
    "## Interaction Terms\n",
    "\n",
    "”:” adds a new column to the design matrix with the product of the other two columns. \n",
    "\n",
    "“*” will also include the individual columns that were multiplied together:\n",
    "\n",
    "An *interaction variable* is a variable constructed from an original set of variables to try to represent either all of the interaction present or some part of it. An *interaction variable* models the simultaneous influence of two predictors on a third response variable is not additive. We want to know whether the joint effect is higher than the sum of both effects. An an interaction may arise when considering the relationship among three or more variables, and describes a situation in which the simultaneous influence of two variables on a third is not additive.\n",
    "\n",
    "For example, smoking and inhaling asbestos fibers both increase the risk of lung cancer, but exposure to asbestos and smoking multiplies the cancer risk. ere, the joint effect of inhaling asbestos and smoking is higher than the sum of both effects. from [*Relation between exposure to asbestos and smoking jointly and the risk of lung cancer*](http://oem.bmj.com/content/58/3/145)  \n",
    "\n",
    "Simple linear models assume that if a predictor variable affects the outcome variable, it does so in a way that is independent of all the other predictor variables.  \n",
    "\n",
    "We deal with non-independence of predictors by including interaction terms in our models. Interaction variables introduce an additional level of regression analysis by allowing researchers to explore the synergistic effects of combined predictors.   \n",
    "\n",
    "Interaction variables can be:\n",
    "* interaction between two categorical variables,\n",
    "* interaction between one continuous and one categorical variables,\n",
    "* and the interaction between two continuous variables.  \n"
   ]
  }
 ],
 "metadata": {
  "kernelspec": {
   "display_name": "Python 2",
   "language": "python",
   "name": "python2"
  },
  "language_info": {
   "codemirror_mode": {
    "name": "ipython",
    "version": 2
   },
   "file_extension": ".py",
   "mimetype": "text/x-python",
   "name": "python",
   "nbconvert_exporter": "python",
   "pygments_lexer": "ipython2",
   "version": "2.7.13"
  }
 },
 "nbformat": 4,
 "nbformat_minor": 0
}
