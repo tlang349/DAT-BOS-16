{
 "cells": [
  {
   "cell_type": "markdown",
   "metadata": {},
   "source": [
    "# Project 2\n",
    "\n",
    "In this project, you will implement the exploratory analysis plan developed in Project 1. This will lay the groundwork for our our first modeling exercise in Project 3."
   ]
  },
  {
   "cell_type": "markdown",
   "metadata": {},
   "source": [
    "### Step 1: Load the python libraries you will need for this project "
   ]
  },
  {
   "cell_type": "code",
   "execution_count": 1,
   "metadata": {
    "collapsed": true
   },
   "outputs": [],
   "source": [
    "#imports\n",
    "from __future__ import division\n",
    "import pandas as pd\n",
    "import numpy as np\n",
    "import matplotlib.pyplot as plt\n",
    "import statsmodels.api as sm\n",
    "import pylab as pl\n",
    "import numpy as np\n",
    "%matplotlib inline"
   ]
  },
  {
   "cell_type": "markdown",
   "metadata": {},
   "source": [
    "### Step 2: Read in your data set "
   ]
  },
  {
   "cell_type": "code",
   "execution_count": 2,
   "metadata": {
    "collapsed": false
   },
   "outputs": [
    {
     "name": "stdout",
     "output_type": "stream",
     "text": [
      "   admit    gre   gpa  prestige\n",
      "0      0  380.0  3.61       3.0\n",
      "1      1  660.0  3.67       3.0\n",
      "2      1  800.0  4.00       1.0\n",
      "3      1  640.0  3.19       4.0\n",
      "4      0  520.0  2.93       4.0\n"
     ]
    }
   ],
   "source": [
    "#Read in data from source \n",
    "df_raw = pd.read_csv(\"../assets/admissions.csv\")\n",
    "print df_raw.head()"
   ]
  },
  {
   "cell_type": "markdown",
   "metadata": {},
   "source": [
    "## Questions\n",
    "#### Question 1. How many observations are in our dataset? \n"
   ]
  },
  {
   "cell_type": "code",
   "execution_count": 3,
   "metadata": {
    "collapsed": false,
    "scrolled": false
   },
   "outputs": [
    {
     "data": {
      "text/plain": [
       "admit       400\n",
       "gre         398\n",
       "gpa         398\n",
       "prestige    399\n",
       "dtype: int64"
      ]
     },
     "execution_count": 3,
     "metadata": {},
     "output_type": "execute_result"
    }
   ],
   "source": [
    "df_raw.count()"
   ]
  },
  {
   "cell_type": "markdown",
   "metadata": {},
   "source": [
    "400 rows x 4 columns"
   ]
  },
  {
   "cell_type": "markdown",
   "metadata": {},
   "source": [
    "#### Question 2. Create a summary table"
   ]
  },
  {
   "cell_type": "code",
   "execution_count": 4,
   "metadata": {
    "collapsed": false
   },
   "outputs": [
    {
     "name": "stdout",
     "output_type": "stream",
     "text": [
      "            admit         gre        gpa    prestige\n",
      "count  400.000000  398.000000  398.00000  399.000000\n",
      "mean     0.317500  588.040201    3.39093    2.486216\n",
      "std      0.466087  115.628513    0.38063    0.945333\n",
      "min      0.000000  220.000000    2.26000    1.000000\n",
      "25%      0.000000  520.000000    3.13000    2.000000\n",
      "50%      0.000000  580.000000    3.39500    2.000000\n",
      "75%      1.000000  660.000000    3.67000    3.000000\n",
      "max      1.000000  800.000000    4.00000    4.000000\n"
     ]
    }
   ],
   "source": [
    "df_raw.describe()\n",
    "print df_raw.describe()"
   ]
  },
  {
   "cell_type": "code",
   "execution_count": 9,
   "metadata": {
    "collapsed": false
   },
   "outputs": [
    {
     "data": {
      "text/plain": [
       "admit         0.466087\n",
       "gre         115.628513\n",
       "gpa           0.380630\n",
       "prestige      0.945333\n",
       "dtype: float64"
      ]
     },
     "execution_count": 9,
     "metadata": {},
     "output_type": "execute_result"
    }
   ],
   "source": [
    "df_raw.std()\n"
   ]
  },
  {
   "cell_type": "markdown",
   "metadata": {},
   "source": [
    "#### Question 3. Why would GRE have a larger STD than GPA?"
   ]
  },
  {
   "cell_type": "markdown",
   "metadata": {},
   "source": [
    "The range of GRE scores is larger than the range of GPAs."
   ]
  },
  {
   "cell_type": "markdown",
   "metadata": {
    "collapsed": true
   },
   "source": [
    "#### Question 4. Drop data points with missing data\n"
   ]
  },
  {
   "cell_type": "code",
   "execution_count": 10,
   "metadata": {
    "collapsed": false
   },
   "outputs": [
    {
     "name": "stdout",
     "output_type": "stream",
     "text": [
      "<bound method DataFrame.count of      admit    gre   gpa  prestige\n",
      "0        0  380.0  3.61       3.0\n",
      "1        1  660.0  3.67       3.0\n",
      "2        1  800.0  4.00       1.0\n",
      "3        1  640.0  3.19       4.0\n",
      "4        0  520.0  2.93       4.0\n",
      "5        1  760.0  3.00       2.0\n",
      "6        1  560.0  2.98       1.0\n",
      "7        0  400.0  3.08       2.0\n",
      "8        1  540.0  3.39       3.0\n",
      "9        0  700.0  3.92       2.0\n",
      "10       0  800.0  4.00       4.0\n",
      "11       0  440.0  3.22       1.0\n",
      "12       1  760.0  4.00       1.0\n",
      "13       0  700.0  3.08       2.0\n",
      "14       1  700.0  4.00       1.0\n",
      "15       0  480.0  3.44       3.0\n",
      "16       0  780.0  3.87       4.0\n",
      "17       0  360.0  2.56       3.0\n",
      "18       0  800.0  3.75       2.0\n",
      "19       1  540.0  3.81       1.0\n",
      "20       0  500.0  3.17       3.0\n",
      "21       1  660.0  3.63       2.0\n",
      "22       0  600.0  2.82       4.0\n",
      "23       0  680.0  3.19       4.0\n",
      "24       1  760.0  3.35       2.0\n",
      "25       1  800.0  3.66       1.0\n",
      "26       1  620.0  3.61       1.0\n",
      "27       1  520.0  3.74       4.0\n",
      "28       1  780.0  3.22       2.0\n",
      "29       0  520.0  3.29       1.0\n",
      "..     ...    ...   ...       ...\n",
      "370      1  540.0  3.77       2.0\n",
      "371      1  680.0  3.76       3.0\n",
      "372      1  680.0  2.42       1.0\n",
      "373      1  620.0  3.37       1.0\n",
      "374      0  560.0  3.78       2.0\n",
      "375      0  560.0  3.49       4.0\n",
      "376      0  620.0  3.63       2.0\n",
      "377      1  800.0  4.00       2.0\n",
      "378      0  640.0  3.12       3.0\n",
      "379      0  540.0  2.70       2.0\n",
      "380      0  700.0  3.65       2.0\n",
      "381      1  540.0  3.49       2.0\n",
      "382      0  540.0  3.51       2.0\n",
      "383      0  660.0  4.00       1.0\n",
      "384      1  480.0  2.62       2.0\n",
      "385      0  420.0  3.02       1.0\n",
      "386      1  740.0  3.86       2.0\n",
      "387      0  580.0  3.36       2.0\n",
      "388      0  640.0  3.17       2.0\n",
      "389      0  640.0  3.51       2.0\n",
      "390      1  800.0  3.05       2.0\n",
      "391      1  660.0  3.88       2.0\n",
      "392      1  600.0  3.38       3.0\n",
      "393      1  620.0  3.75       2.0\n",
      "394      1  460.0  3.99       3.0\n",
      "395      0  620.0  4.00       2.0\n",
      "396      0  560.0  3.04       3.0\n",
      "397      0  460.0  2.63       2.0\n",
      "398      0  700.0  3.65       2.0\n",
      "399      0  600.0  3.89       3.0\n",
      "\n",
      "[397 rows x 4 columns]>\n"
     ]
    }
   ],
   "source": [
    "df = df_raw.dropna()\n",
    "print df.count\n"
   ]
  },
  {
   "cell_type": "markdown",
   "metadata": {
    "collapsed": true
   },
   "source": [
    "#### Question 5. Confirm that you dropped the correct data. How can you tell? "
   ]
  },
  {
   "cell_type": "markdown",
   "metadata": {},
   "source": [
    "Using dropna(). It dropped three rows of undefined data (NaN) so it didn't drop a significant amount, and I can check it. "
   ]
  },
  {
   "cell_type": "markdown",
   "metadata": {},
   "source": [
    "#### Question 6. Create box plots for GRE and GPA"
   ]
  },
  {
   "cell_type": "code",
   "execution_count": 18,
   "metadata": {
    "collapsed": false
   },
   "outputs": [
    {
     "data": {
      "text/plain": [
       "<matplotlib.axes._subplots.AxesSubplot at 0xbf2dc50>"
      ]
     },
     "execution_count": 18,
     "metadata": {},
     "output_type": "execute_result"
    },
    {
     "data": {
      "image/png": "[encoded data removed]",
      "text/plain": [
       "<matplotlib.figure.Figure at 0xbf2d588>"
      ]
     },
     "metadata": {},
     "output_type": "display_data"
    }
   ],
   "source": [
    "df.boxplot(column='gre', return_type='axes')"
   ]
  },
  {
   "cell_type": "code",
   "execution_count": 20,
   "metadata": {
    "collapsed": false
   },
   "outputs": [
    {
     "data": {
      "text/plain": [
       "<matplotlib.axes._subplots.AxesSubplot at 0xbfc4898>"
      ]
     },
     "execution_count": 20,
     "metadata": {},
     "output_type": "execute_result"
    },
    {
     "data": {
      "image/png": "[encoded data removed]",
      "text/plain": [
       "<matplotlib.figure.Figure at 0xbfe9358>"
      ]
     },
     "metadata": {},
     "output_type": "display_data"
    }
   ],
   "source": [
    "df.boxplot(column='gpa', return_type='axes')"
   ]
  },
  {
   "cell_type": "markdown",
   "metadata": {},
   "source": [
    "#### Question 7. What do this plots show?"
   ]
  },
  {
   "cell_type": "markdown",
   "metadata": {},
   "source": [
    "The mean, median, mode, range, quartiles, the min and max range of data points and any outliers."
   ]
  },
  {
   "cell_type": "markdown",
   "metadata": {},
   "source": [
    "#### Question 8. Describe each distribution "
   ]
  },
  {
   "cell_type": "code",
   "execution_count": 30,
   "metadata": {
    "collapsed": false
   },
   "outputs": [
    {
     "data": {
      "text/plain": [
       "<function matplotlib.pyplot.show>"
      ]
     },
     "execution_count": 30,
     "metadata": {},
     "output_type": "execute_result"
    },
    {
     "data": {
      "image/png": "[encoded data removed]",
      "text/plain": [
       "<matplotlib.figure.Figure at 0xceb0fd0>"
      ]
     },
     "metadata": {},
     "output_type": "display_data"
    }
   ],
   "source": [
    "# plot the distribution of each variable \n",
    "df['admit'].plot(kind='hist')\n",
    "pl.show"
   ]
  },
  {
   "cell_type": "code",
   "execution_count": 31,
   "metadata": {
    "collapsed": false
   },
   "outputs": [
    {
     "data": {
      "text/plain": [
       "<function matplotlib.pyplot.show>"
      ]
     },
     "execution_count": 31,
     "metadata": {},
     "output_type": "execute_result"
    },
    {
     "data": {
      "image/png": "[encoded data removed]",
      "text/plain": [
       "<matplotlib.figure.Figure at 0xd6d05c0>"
      ]
     },
     "metadata": {},
     "output_type": "display_data"
    }
   ],
   "source": [
    "df['gre'].plot(kind='hist')\n",
    "pl.show"
   ]
  },
  {
   "cell_type": "code",
   "execution_count": 33,
   "metadata": {
    "collapsed": false
   },
   "outputs": [
    {
     "data": {
      "text/plain": [
       "<function matplotlib.pyplot.show>"
      ]
     },
     "execution_count": 33,
     "metadata": {},
     "output_type": "execute_result"
    },
    {
     "data": {
      "image/png": "[encoded data removed]",
      "text/plain": [
       "<matplotlib.figure.Figure at 0xd54e400>"
      ]
     },
     "metadata": {},
     "output_type": "display_data"
    }
   ],
   "source": [
    "df[['gpa', 'prestige']].plot(kind='hist')\n",
    "pl.show"
   ]
  },
  {
   "cell_type": "code",
   "execution_count": 34,
   "metadata": {
    "collapsed": false
   },
   "outputs": [
    {
     "data": {
      "text/plain": [
       "<function matplotlib.pyplot.show>"
      ]
     },
     "execution_count": 34,
     "metadata": {},
     "output_type": "execute_result"
    },
    {
     "data": {
      "image/png": "[encoded data removed]",
      "text/plain": [
       "<matplotlib.figure.Figure at 0xbfd0a58>"
      ]
     },
     "metadata": {},
     "output_type": "display_data"
    }
   ],
   "source": [
    "df['prestige'].plot(kind='hist')\n",
    "pl.show"
   ]
  },
  {
   "cell_type": "code",
   "execution_count": 35,
   "metadata": {
    "collapsed": false
   },
   "outputs": [
    {
     "data": {
      "text/plain": [
       "<function matplotlib.pyplot.show>"
      ]
     },
     "execution_count": 35,
     "metadata": {},
     "output_type": "execute_result"
    },
    {
     "data": {
      "image/png": "[encoded data removed]",
      "text/plain": [
       "<matplotlib.figure.Figure at 0xd4e8160>"
      ]
     },
     "metadata": {},
     "output_type": "display_data"
    }
   ],
   "source": [
    "df['gpa'].plot(kind='hist')\n",
    "pl.show"
   ]
  },
  {
   "cell_type": "markdown",
   "metadata": {},
   "source": [
    "#### Question 9.  If our model had an assumption of a normal distribution would we meet that requirement? "
   ]
  },
  {
   "cell_type": "markdown",
   "metadata": {},
   "source": [
    "Yes. \"GPA\" and \"GRE\" are skewed to the higher ranges. "
   ]
  },
  {
   "cell_type": "markdown",
   "metadata": {},
   "source": [
    "#### Question 10.  Does this distribution need correction? If so, why? How? "
   ]
  },
  {
   "cell_type": "markdown",
   "metadata": {},
   "source": [
    "The skew is slight and doesn't need correction."
   ]
  },
  {
   "cell_type": "markdown",
   "metadata": {},
   "source": [
    "#### Question 11. Which of our variables are potentially colinear? "
   ]
  },
  {
   "cell_type": "code",
   "execution_count": 36,
   "metadata": {
    "collapsed": false
   },
   "outputs": [
    {
     "data": {
      "text/html": [
       "<div>\n",
       "<table border=\"1\" class=\"dataframe\">\n",
       "  <thead>\n",
       "    <tr style=\"text-align: right;\">\n",
       "      <th></th>\n",
       "      <th>admit</th>\n",
       "      <th>gre</th>\n",
       "      <th>gpa</th>\n",
       "      <th>prestige</th>\n",
       "    </tr>\n",
       "  </thead>\n",
       "  <tbody>\n",
       "    <tr>\n",
       "      <th>admit</th>\n",
       "      <td>1.000000</td>\n",
       "      <td>0.182919</td>\n",
       "      <td>0.175952</td>\n",
       "      <td>-0.241355</td>\n",
       "    </tr>\n",
       "    <tr>\n",
       "      <th>gre</th>\n",
       "      <td>0.182919</td>\n",
       "      <td>1.000000</td>\n",
       "      <td>0.382408</td>\n",
       "      <td>-0.124533</td>\n",
       "    </tr>\n",
       "    <tr>\n",
       "      <th>gpa</th>\n",
       "      <td>0.175952</td>\n",
       "      <td>0.382408</td>\n",
       "      <td>1.000000</td>\n",
       "      <td>-0.059031</td>\n",
       "    </tr>\n",
       "    <tr>\n",
       "      <th>prestige</th>\n",
       "      <td>-0.241355</td>\n",
       "      <td>-0.124533</td>\n",
       "      <td>-0.059031</td>\n",
       "      <td>1.000000</td>\n",
       "    </tr>\n",
       "  </tbody>\n",
       "</table>\n",
       "</div>"
      ],
      "text/plain": [
       "             admit       gre       gpa  prestige\n",
       "admit     1.000000  0.182919  0.175952 -0.241355\n",
       "gre       0.182919  1.000000  0.382408 -0.124533\n",
       "gpa       0.175952  0.382408  1.000000 -0.059031\n",
       "prestige -0.241355 -0.124533 -0.059031  1.000000"
      ]
     },
     "execution_count": 36,
     "metadata": {},
     "output_type": "execute_result"
    }
   ],
   "source": [
    "# create a correlation matrix for the data\n",
    "df_raw.corr()"
   ]
  },
  {
   "cell_type": "markdown",
   "metadata": {},
   "source": [
    "#### Question 12. What did you find?"
   ]
  },
  {
   "cell_type": "markdown",
   "metadata": {},
   "source": [
    "No colinearity. "
   ]
  },
  {
   "cell_type": "markdown",
   "metadata": {},
   "source": [
    "#### Question 13. Write an analysis plan for exploring the association between grad school admissions rates and prestige of  undergraduate schools."
   ]
  },
  {
   "cell_type": "markdown",
   "metadata": {},
   "source": [
    "print result.summary()\n",
    "Y as the probability (P) of admission = alpha plus x as the prestige of the undergraduate schools and graph the result.\n",
    "I think you could also use statsmodels to get a summary output and see an overview of the relationships between the coefficients and the Pvalues. There's something I read called isolate and plot, where we could see the confidence intervals of GRE, GPA, Prestige and plot."
   ]
  },
  {
   "cell_type": "markdown",
   "metadata": {},
   "source": [
    "#### Question 14. What is your hypothesis? "
   ]
  },
  {
   "cell_type": "markdown",
   "metadata": {},
   "source": [
    "The higher the prestige of the undergraduate institution, the higher the probability of being admitted to a grad school."
   ]
  },
  {
   "cell_type": "markdown",
   "metadata": {},
   "source": [
    "## Bonus/Advanced"
   ]
  },
  {
   "cell_type": "markdown",
   "metadata": {},
   "source": [
    "#### 1. Bonus: Explore alternatives to dropping obervations with missing data"
   ]
  },
  {
   "cell_type": "markdown",
   "metadata": {},
   "source": [
    "#### 2. Bonus: Log transform the skewed data"
   ]
  },
  {
   "cell_type": "markdown",
   "metadata": {},
   "source": [
    "#### 3. Advanced: Impute missing data\n",
    "I started to do this:\n",
    "s = pd.Series([df_raw])\n",
    "s.loc['NaN'] = None\n",
    "print s"
   ]
  },
  {
   "cell_type": "code",
   "execution_count": null,
   "metadata": {
    "collapsed": true
   },
   "outputs": [],
   "source": [
    "And got this result (pasted from python):\n",
    "    0           admit  gre   gpa  prestige\n",
    "0        0  38...\n",
    "NaN None\n",
    "dtype: object\n",
    "    So I do not think it worked!"
   ]
  }
 ],
 "metadata": {
  "anaconda-cloud": {},
  "kernelspec": {
   "display_name": "Python [p27]",
   "language": "python",
   "name": "Python [p27]"
  },
  "language_info": {
   "codemirror_mode": {
    "name": "ipython",
    "version": 2
   },
   "file_extension": ".py",
   "mimetype": "text/x-python",
   "name": "python",
   "nbconvert_exporter": "python",
   "pygments_lexer": "ipython2",
   "version": "2.7.13"
  }
 },
 "nbformat": 4,
 "nbformat_minor": 0
}
