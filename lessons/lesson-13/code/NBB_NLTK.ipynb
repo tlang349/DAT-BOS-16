{
 "cells": [
  {
   "cell_type": "code",
   "execution_count": 17,
   "metadata": {
    "collapsed": true
   },
   "outputs": [],
   "source": [
    "%matplotlib inline\n",
    "import random\n",
    "import numpy as np\n",
    "import matplotlib.pyplot as plt\n",
    "import pandas as pd\n",
    "import seaborn as sns\n",
    "import nltk"
   ]
  },
  {
   "cell_type": "markdown",
   "metadata": {},
   "source": [
    "Open up the python shell and type the following commands.\n",
    "\n",
    "> import nltk     \n",
    "> nltk.download()    \n",
    "\n",
    "This will open up a window so NLTK download the various corpora and models to a specified location. Download it all as we will be exploring as much of NLTK as we can. Also take note of the download directory.  I usually use /Users/bear/nltk_data"
   ]
  },
  {
   "cell_type": "code",
   "execution_count": 18,
   "metadata": {
    "collapsed": true
   },
   "outputs": [],
   "source": [
    "import spacy\n",
    "import gensim"
   ]
  },
  {
   "cell_type": "markdown",
   "metadata": {},
   "source": [
    "To install these packages with conda run:\n",
    "\n",
    "conda install -c spacy spacy=0.101.0\n",
    "\n",
    "conda install -c anaconda gensim=1.0.1"
   ]
  },
  {
   "cell_type": "code",
   "execution_count": 19,
   "metadata": {
    "collapsed": false
   },
   "outputs": [
    {
     "data": {
      "text/plain": [
       "['You have brains in your head.',\n",
       " 'You have feet in your shoes.',\n",
       " 'You can steer yourself any direction you choose.']"
      ]
     },
     "execution_count": 19,
     "metadata": {},
     "output_type": "execute_result"
    }
   ],
   "source": [
    "seuss = [\"You have brains in your head.\",\n",
    "           \"You have feet in your shoes.\", \n",
    "           \"You can steer yourself any direction you choose.\",            \n",
    "           \"You're on your own.\", \n",
    "           \"And you know what you know.\", \n",
    "           \"And YOU are the one who'll decide where to go...\",    \n",
    "           \"Today you are you, that is truer than true. There is no one alive who is youer than you. - Dr. Seuss\",\n",
    "           \"Don't cry because it's over. Smile because it happened. - Dr. Seuss\",       \n",
    "           \"Unless someone like you cares a whole awful lot, nothing is going to get better. It's not. - Dr. Seuss\",\n",
    "           \"A person's a person, no matter how small. - Dr. Seuss\",       \n",
    "           \"Today is your day! Your mountain is waiting so get on your way! - Dr. Seuss\", \n",
    "           \"You're never too old, too wacky, too wild, to pick up a book and read to a child. - Dr. Seuss\",\n",
    "           \"The more that you read, the more things you will know. The more that you learn, the more places you'll go. - Dr. Seuss\",\n",
    "           \"Oh the things you can find if you don't stay behind! - Dr. Seuss\",\n",
    "           \"And turtles, of course. all the turtles are FREE. As turtles and, maybe, ALL creatures should be. - Dr. Seuss\",\n",
    "           \"With your head full of brains and your shoes full of feet, you're too smart to go down any not-so-good street. - Dr. Seuss\",\n",
    "           \"You're on your own. And you know what you know. And you're the one who'll decide where to go. - Dr. Seuss\", \n",
    "           \"Sometimes the questions are complicated and the answers are simple. - Dr. Seuss\",\n",
    "           \"You do not like them. So you say. Try them! Try them! And you may! - Dr. Seuss\",\n",
    "           \"You have brains in your head, you have feet in your shoes. You can steer yourself any direction you choose. - Dr. Seuss\",\n",
    "           \"If things start happening, don't worry. Don't stew. Just go right along. You'll start happening too. - Dr. Seuss\", \n",
    "           \"So be sure when you step. Step with care and great tact and remember that life's a Great Balancing Act. - Dr. Seuss\",   \n",
    "           \"If you never did you should. These things are fun, and fun is good. - Dr. Seuss\",\n",
    "           \"I have heard there are troubles of more than one kind. Some come from ahead and some come from behind. But I've bought a big bat. I'm all ready you see. Now my troubles are going to have troubles with me! - Dr. Seuss\",\n",
    "           \"Will you succeed? Yes! You will, indeed! (98 and 3/4 percent guaranteed. - Dr. Seuss\",   \n",
    "           \"You're off to Great Places!\",\n",
    "           \"Today is your day!\",\n",
    "           \"Your mountain is waiting,\",\n",
    "           \"So... get on your way!\",\n",
    "           \"-- Dr. Seuss, Oh, The Places You'll Go!\",\n",
    "           \"So be sure when you step, Step with care and great tact. And remember that life's A Great Balancing Act. And will you succeed? Yes! You will, indeed! ( and ? percent guaranteed) Kid, you'll move mountains.\",\n",
    "           \"-- Dr. Seuss, Oh, The Places You'll Go!\",\n",
    "           \"You'll get mixed up, of course, as you already know. You'll get mixed up with many strange birds as you go. So be sure when you step. Step with care and great tact and remember that Life's a Great Balancing Act. Just never forget to be dexterous and deft. And never mix up your right foot with your left.\",\n",
    "           \"-- Dr. Seuss, Oh, The Places You'll Go!\",\n",
    "           \"Oh the places you'll go! There is fun to be done! There are points to be scored. There are games to be won. And the magical things you can do with that ball will make you the winning-est winner of all.\",\n",
    "           \"-- Dr. Seuss, Oh, The Places You'll Go!\",\n",
    "           \"Things may happen and often do to people as brainy and footsy as you\",\n",
    "           \"-- Dr. Seuss, Oh, The Places You'll Go!\",\n",
    "           \"Congratulations!\",\n",
    "           \"Today is your day.\",\n",
    "           \"You're off to Great Places!\",\n",
    "           \"You're off and away!\",\n",
    "           \"-- Dr. Seuss, Oh, The Places You'll Go!\",\n",
    "           \"It's opener, out there, in the wide, open air.\",\n",
    "           \"-- Dr. Seuss, Oh, The Places You'll Go!\",\n",
    "           \"You have brains in your head.\",\n",
    "           \"You have feet in your shoes.\",\n",
    "           \"You can steer yourself any direction you choose.\",\n",
    "           \"-- Dr. Seuss, Oh, The Places You'll Go!\",\n",
    "           \"And when you're alone there's a very good chance\",\n",
    "           \"you'll meet things that scare you right out of your pants\",\n",
    "           \"There are some, down the road between hither and yon,\",\n",
    "           \"that can scare you so much you won't want to go on.\",\n",
    "           \"-- Dr. Seuss, Oh, The Places You'll Go!\",\n",
    "           \"You will come to a place where the streets are not marked.\",\n",
    "           \"Some windows are lighted. but mostly they're darked.\",\n",
    "           \"But mostly they're darked.\",\n",
    "           \"A place you could sprain both your elbow and chin!\",\n",
    "           \"Do you dare to stay out? Do you dare to go in?\",\n",
    "           \"How much can you lose? How much can you win?\",\n",
    "           \"-- Dr. Seuss, Oh, The Places You'll Go!\",\n",
    "           \"Fame you'll be famous, as famous as can be, with everyone watching you win on TV, Except when they don't because sometimes they won't..\",\n",
    "           \"-- Dr. Seuss, Oh, The Places You'll Go!\",\n",
    "           \"When you're in a Slump,\",\n",
    "           \"you're not in for much fun.\",\n",
    "           \"Un-slumping yourself\",\n",
    "           \"is not easily done.\",\n",
    "           \"-- Dr. Seuss, Oh, The Places You'll Go!\",\n",
    "           \"You won't lag behind, because you'll have the speed.\",\n",
    "           \"You'll pass the whole gang and you'll soon take the lead.\",\n",
    "           \"Wherever you fly, you'll be best of the best.\",\n",
    "           \"Wherever you go, you will top all the rest.\",\n",
    "           \"Except when you don't.\",\n",
    "           \"Because, sometimes, you won't.\",\n",
    "           \"-- Dr. Seuss, Oh, The Places You'll Go!\",\n",
    "           \"Onward up many a frightening creek, though your arms may get sore and your sneakers may leak. Oh! The places you'll go!\",\n",
    "           \"-- Dr. Seuss, Oh, The Places You'll Go!\",\n",
    "           \"So...be your name Buxbaum or Bixby or Bray\",\n",
    "           \"or Mordecai Ali Van Allen O'Shea,\",\n",
    "           \"you're off to Great Places!\",\n",
    "           \"Today is your day!\",\n",
    "           \"Your mountain is waiting.\",\n",
    "           \"So...get on your way!\",\n",
    "           \"-- Dr. Seuss, Oh, The Places You'll Go!\",\n",
    "           \"And will you succeed?\",\n",
    "           \"Yes! You will, indeed!\",\n",
    "           \"( (98 and 3/4 percent guaranteed.)\",\n",
    "           \"KID, YOU'LL MOVE MOUNTAINS!\",\n",
    "           \"Out there things can happen, and frequently do,\",\n",
    "           \"To people as brainy and footsy as you.\",\n",
    "           \"And when things start to happen, don't worry, don't stew.\",\n",
    "           \"Just go right along, you'll start happening too!\",\n",
    "           \"-- Dr. Seuss, Oh, The Places You'll Go!\",\n",
    "           \"You can get so confused\",\n",
    "           \"that you'll start in to race\",\n",
    "           \"down long wiggled roads at a break-necking pace\",\n",
    "           \"and grind on for miles across weirdish wild space,\",\n",
    "           \"headed, I fear, toward a most useless place.\",\n",
    "           \"The Waiting Place...\",\n",
    "           \"-- Dr. Seuss, Oh, The Places You'll Go!\",\n",
    "           \"Kid, you'll move mountains.\",\n",
    "           \"-- Dr. Seuss, Oh, The Places You'll Go!\",\n",
    "           \"Oh, the places you'll go! There is fun to be done!\",\n",
    "           \"There are points to be scored. There are games to be won.\",\n",
    "           \"And the magical things you can do with that ball\",\n",
    "           \"will make you the winning-est winner of all.\",\n",
    "           \"Fame! You'll be as famous as famous can be,\",\n",
    "           \"with the whole wide world watching you win on TV.\",\n",
    "           \"Except when they don't\",\n",
    "           \"Because, sometimes they won't.\",\n",
    "           \"I'm afraid that some times\",\n",
    "           \"you'll play lonely games too.\",\n",
    "           \"Games you can't win\",\n",
    "           \"'cause you'll play against you.\",\n",
    "           \"-- Dr. Seuss, Oh, The Places You'll Go!\",           \n",
    "           \"- Dr. Seuss\"]\n",
    "seuss[:3]"
   ]
  },
  {
   "cell_type": "code",
   "execution_count": 20,
   "metadata": {
    "collapsed": false
   },
   "outputs": [
    {
     "data": {
      "text/plain": [
       "'You have brains in your head. You have feet in your shoes. You can steer yourself any direction you'"
      ]
     },
     "execution_count": 20,
     "metadata": {},
     "output_type": "execute_result"
    }
   ],
   "source": [
    "seuss_text=\" \".join(seuss)\n",
    "seuss_text[:99]"
   ]
  },
  {
   "cell_type": "code",
   "execution_count": 21,
   "metadata": {
    "collapsed": false,
    "scrolled": true
   },
   "outputs": [
    {
     "data": {
      "text/plain": [
       "['You have brains in your head.',\n",
       " 'You have feet in your shoes.',\n",
       " 'You can steer yourself any direction you choose.',\n",
       " \"You're on your own.\",\n",
       " 'And you know what you know.',\n",
       " \"And YOU are the one who'll decide where to go... Today you are you, that is truer than true.\",\n",
       " 'There is no one alive who is youer than you.',\n",
       " \"- Dr. Seuss Don't cry because it's over.\",\n",
       " 'Smile because it happened.',\n",
       " '- Dr. Seuss Unless someone like you cares a whole awful lot, nothing is going to get better.',\n",
       " \"It's not.\",\n",
       " \"- Dr. Seuss A person's a person, no matter how small.\",\n",
       " '- Dr. Seuss Today is your day!',\n",
       " 'Your mountain is waiting so get on your way!',\n",
       " \"- Dr. Seuss You're never too old, too wacky, too wild, to pick up a book and read to a child.\",\n",
       " '- Dr. Seuss The more that you read, the more things you will know.',\n",
       " \"The more that you learn, the more places you'll go.\",\n",
       " \"- Dr. Seuss Oh the things you can find if you don't stay behind!\",\n",
       " '- Dr. Seuss And turtles, of course.',\n",
       " 'all the turtles are FREE.',\n",
       " 'As turtles and, maybe, ALL creatures should be.',\n",
       " \"- Dr. Seuss With your head full of brains and your shoes full of feet, you're too smart to go down any not-so-good street.\",\n",
       " \"- Dr. Seuss You're on your own.\",\n",
       " 'And you know what you know.',\n",
       " \"And you're the one who'll decide where to go.\",\n",
       " '- Dr. Seuss Sometimes the questions are complicated and the answers are simple.',\n",
       " '- Dr. Seuss You do not like them.',\n",
       " 'So you say.',\n",
       " 'Try them!',\n",
       " 'Try them!',\n",
       " 'And you may!',\n",
       " '- Dr. Seuss You have brains in your head, you have feet in your shoes.',\n",
       " 'You can steer yourself any direction you choose.']"
      ]
     },
     "execution_count": 21,
     "metadata": {},
     "output_type": "execute_result"
    }
   ],
   "source": [
    "from nltk.tokenize import word_tokenize, sent_tokenize\n",
    "sentences=sent_tokenize(seuss_text)\n",
    "sentences[:33]"
   ]
  },
  {
   "cell_type": "code",
   "execution_count": 22,
   "metadata": {
    "collapsed": false
   },
   "outputs": [
    {
     "data": {
      "text/plain": [
       "[['You', 'have', 'brains', 'in', 'your', 'head', '.'],\n",
       " ['You', 'have', 'feet', 'in', 'your', 'shoes', '.'],\n",
       " ['You', 'can', 'steer', 'yourself', 'any', 'direction', 'you', 'choose', '.'],\n",
       " ['You', \"'re\", 'on', 'your', 'own', '.'],\n",
       " ['And', 'you', 'know', 'what', 'you', 'know', '.'],\n",
       " ['And',\n",
       "  'YOU',\n",
       "  'are',\n",
       "  'the',\n",
       "  'one',\n",
       "  'who',\n",
       "  \"'ll\",\n",
       "  'decide',\n",
       "  'where',\n",
       "  'to',\n",
       "  'go',\n",
       "  '...',\n",
       "  'Today',\n",
       "  'you',\n",
       "  'are',\n",
       "  'you',\n",
       "  ',',\n",
       "  'that',\n",
       "  'is',\n",
       "  'truer',\n",
       "  'than',\n",
       "  'true',\n",
       "  '.'],\n",
       " ['There',\n",
       "  'is',\n",
       "  'no',\n",
       "  'one',\n",
       "  'alive',\n",
       "  'who',\n",
       "  'is',\n",
       "  'youer',\n",
       "  'than',\n",
       "  'you',\n",
       "  '.'],\n",
       " ['-', 'Dr.', 'Seuss', 'Do', \"n't\", 'cry', 'because', 'it', \"'s\", 'over', '.'],\n",
       " ['Smile', 'because', 'it', 'happened', '.'],\n",
       " ['-',\n",
       "  'Dr.',\n",
       "  'Seuss',\n",
       "  'Unless',\n",
       "  'someone',\n",
       "  'like',\n",
       "  'you',\n",
       "  'cares',\n",
       "  'a',\n",
       "  'whole',\n",
       "  'awful',\n",
       "  'lot',\n",
       "  ',',\n",
       "  'nothing',\n",
       "  'is',\n",
       "  'going',\n",
       "  'to',\n",
       "  'get',\n",
       "  'better',\n",
       "  '.'],\n",
       " ['It', \"'s\", 'not', '.'],\n",
       " ['-',\n",
       "  'Dr.',\n",
       "  'Seuss',\n",
       "  'A',\n",
       "  'person',\n",
       "  \"'s\",\n",
       "  'a',\n",
       "  'person',\n",
       "  ',',\n",
       "  'no',\n",
       "  'matter',\n",
       "  'how',\n",
       "  'small',\n",
       "  '.'],\n",
       " ['-', 'Dr.', 'Seuss', 'Today', 'is', 'your', 'day', '!'],\n",
       " ['Your', 'mountain', 'is', 'waiting', 'so', 'get', 'on', 'your', 'way', '!'],\n",
       " ['-',\n",
       "  'Dr.',\n",
       "  'Seuss',\n",
       "  'You',\n",
       "  \"'re\",\n",
       "  'never',\n",
       "  'too',\n",
       "  'old',\n",
       "  ',',\n",
       "  'too',\n",
       "  'wacky',\n",
       "  ',',\n",
       "  'too',\n",
       "  'wild',\n",
       "  ',',\n",
       "  'to',\n",
       "  'pick',\n",
       "  'up',\n",
       "  'a',\n",
       "  'book',\n",
       "  'and',\n",
       "  'read',\n",
       "  'to',\n",
       "  'a',\n",
       "  'child',\n",
       "  '.'],\n",
       " ['-',\n",
       "  'Dr.',\n",
       "  'Seuss',\n",
       "  'The',\n",
       "  'more',\n",
       "  'that',\n",
       "  'you',\n",
       "  'read',\n",
       "  ',',\n",
       "  'the',\n",
       "  'more',\n",
       "  'things',\n",
       "  'you',\n",
       "  'will',\n",
       "  'know',\n",
       "  '.'],\n",
       " ['The',\n",
       "  'more',\n",
       "  'that',\n",
       "  'you',\n",
       "  'learn',\n",
       "  ',',\n",
       "  'the',\n",
       "  'more',\n",
       "  'places',\n",
       "  'you',\n",
       "  \"'ll\",\n",
       "  'go',\n",
       "  '.'],\n",
       " ['-',\n",
       "  'Dr.',\n",
       "  'Seuss',\n",
       "  'Oh',\n",
       "  'the',\n",
       "  'things',\n",
       "  'you',\n",
       "  'can',\n",
       "  'find',\n",
       "  'if',\n",
       "  'you',\n",
       "  'do',\n",
       "  \"n't\",\n",
       "  'stay',\n",
       "  'behind',\n",
       "  '!'],\n",
       " ['-', 'Dr.', 'Seuss', 'And', 'turtles', ',', 'of', 'course', '.'],\n",
       " ['all', 'the', 'turtles', 'are', 'FREE', '.'],\n",
       " ['As',\n",
       "  'turtles',\n",
       "  'and',\n",
       "  ',',\n",
       "  'maybe',\n",
       "  ',',\n",
       "  'ALL',\n",
       "  'creatures',\n",
       "  'should',\n",
       "  'be',\n",
       "  '.'],\n",
       " ['-',\n",
       "  'Dr.',\n",
       "  'Seuss',\n",
       "  'With',\n",
       "  'your',\n",
       "  'head',\n",
       "  'full',\n",
       "  'of',\n",
       "  'brains',\n",
       "  'and',\n",
       "  'your',\n",
       "  'shoes',\n",
       "  'full',\n",
       "  'of',\n",
       "  'feet',\n",
       "  ',',\n",
       "  'you',\n",
       "  \"'re\",\n",
       "  'too',\n",
       "  'smart',\n",
       "  'to',\n",
       "  'go',\n",
       "  'down',\n",
       "  'any',\n",
       "  'not-so-good',\n",
       "  'street',\n",
       "  '.'],\n",
       " ['-', 'Dr.', 'Seuss', 'You', \"'re\", 'on', 'your', 'own', '.'],\n",
       " ['And', 'you', 'know', 'what', 'you', 'know', '.'],\n",
       " ['And',\n",
       "  'you',\n",
       "  \"'re\",\n",
       "  'the',\n",
       "  'one',\n",
       "  'who',\n",
       "  \"'ll\",\n",
       "  'decide',\n",
       "  'where',\n",
       "  'to',\n",
       "  'go',\n",
       "  '.'],\n",
       " ['-',\n",
       "  'Dr.',\n",
       "  'Seuss',\n",
       "  'Sometimes',\n",
       "  'the',\n",
       "  'questions',\n",
       "  'are',\n",
       "  'complicated',\n",
       "  'and',\n",
       "  'the',\n",
       "  'answers',\n",
       "  'are',\n",
       "  'simple',\n",
       "  '.'],\n",
       " ['-', 'Dr.', 'Seuss', 'You', 'do', 'not', 'like', 'them', '.'],\n",
       " ['So', 'you', 'say', '.'],\n",
       " ['Try', 'them', '!'],\n",
       " ['Try', 'them', '!'],\n",
       " ['And', 'you', 'may', '!'],\n",
       " ['-',\n",
       "  'Dr.',\n",
       "  'Seuss',\n",
       "  'You',\n",
       "  'have',\n",
       "  'brains',\n",
       "  'in',\n",
       "  'your',\n",
       "  'head',\n",
       "  ',',\n",
       "  'you',\n",
       "  'have',\n",
       "  'feet',\n",
       "  'in',\n",
       "  'your',\n",
       "  'shoes',\n",
       "  '.'],\n",
       " ['You', 'can', 'steer', 'yourself', 'any', 'direction', 'you', 'choose', '.']]"
      ]
     },
     "execution_count": 22,
     "metadata": {},
     "output_type": "execute_result"
    }
   ],
   "source": [
    "words=[word_tokenize(s) for s in sentences]\n",
    "words[:33]"
   ]
  },
  {
   "cell_type": "code",
   "execution_count": 23,
   "metadata": {
    "collapsed": false
   },
   "outputs": [
    {
     "data": {
      "text/plain": [
       "{'!',\n",
       " '\"',\n",
       " '#',\n",
       " '$',\n",
       " '%',\n",
       " '&',\n",
       " \"'\",\n",
       " '(',\n",
       " ')',\n",
       " '*',\n",
       " '+',\n",
       " ',',\n",
       " '-',\n",
       " '.',\n",
       " '/',\n",
       " ':',\n",
       " ';',\n",
       " '<',\n",
       " '=',\n",
       " '>',\n",
       " '?',\n",
       " '@',\n",
       " '[',\n",
       " '\\\\',\n",
       " ']',\n",
       " '^',\n",
       " '_',\n",
       " '`',\n",
       " u'a',\n",
       " u'about',\n",
       " u'above',\n",
       " u'after',\n",
       " u'again',\n",
       " u'against',\n",
       " u'ain',\n",
       " u'all',\n",
       " u'am',\n",
       " u'an',\n",
       " u'and',\n",
       " u'any',\n",
       " u'are',\n",
       " u'aren',\n",
       " u'as',\n",
       " u'at',\n",
       " u'be',\n",
       " u'because',\n",
       " u'been',\n",
       " u'before',\n",
       " u'being',\n",
       " u'below',\n",
       " u'between',\n",
       " u'both',\n",
       " u'but',\n",
       " u'by',\n",
       " u'can',\n",
       " u'couldn',\n",
       " u'd',\n",
       " u'did',\n",
       " u'didn',\n",
       " u'do',\n",
       " u'does',\n",
       " u'doesn',\n",
       " u'doing',\n",
       " u'don',\n",
       " u'down',\n",
       " u'during',\n",
       " u'each',\n",
       " u'few',\n",
       " u'for',\n",
       " u'from',\n",
       " u'further',\n",
       " u'had',\n",
       " u'hadn',\n",
       " u'has',\n",
       " u'hasn',\n",
       " u'have',\n",
       " u'haven',\n",
       " u'having',\n",
       " u'he',\n",
       " u'her',\n",
       " u'here',\n",
       " u'hers',\n",
       " u'herself',\n",
       " u'him',\n",
       " u'himself',\n",
       " u'his',\n",
       " u'how',\n",
       " u'i',\n",
       " u'if',\n",
       " u'in',\n",
       " u'into',\n",
       " u'is',\n",
       " u'isn',\n",
       " u'it',\n",
       " u'its',\n",
       " u'itself',\n",
       " u'just',\n",
       " u'll',\n",
       " u'm',\n",
       " u'ma',\n",
       " u'me',\n",
       " u'mightn',\n",
       " u'more',\n",
       " u'most',\n",
       " u'mustn',\n",
       " u'my',\n",
       " u'myself',\n",
       " u'needn',\n",
       " u'no',\n",
       " u'nor',\n",
       " u'not',\n",
       " u'now',\n",
       " u'o',\n",
       " u'of',\n",
       " u'off',\n",
       " u'on',\n",
       " u'once',\n",
       " u'only',\n",
       " u'or',\n",
       " u'other',\n",
       " u'our',\n",
       " u'ours',\n",
       " u'ourselves',\n",
       " u'out',\n",
       " u'over',\n",
       " u'own',\n",
       " u're',\n",
       " u's',\n",
       " u'same',\n",
       " u'shan',\n",
       " u'she',\n",
       " u'should',\n",
       " u'shouldn',\n",
       " u'so',\n",
       " u'some',\n",
       " u'such',\n",
       " u't',\n",
       " u'than',\n",
       " u'that',\n",
       " u'the',\n",
       " u'their',\n",
       " u'theirs',\n",
       " u'them',\n",
       " u'themselves',\n",
       " u'then',\n",
       " u'there',\n",
       " u'these',\n",
       " u'they',\n",
       " u'this',\n",
       " u'those',\n",
       " u'through',\n",
       " u'to',\n",
       " u'too',\n",
       " u'under',\n",
       " u'until',\n",
       " u'up',\n",
       " u've',\n",
       " u'very',\n",
       " u'was',\n",
       " u'wasn',\n",
       " u'we',\n",
       " u'were',\n",
       " u'weren',\n",
       " u'what',\n",
       " u'when',\n",
       " u'where',\n",
       " u'which',\n",
       " u'while',\n",
       " u'who',\n",
       " u'whom',\n",
       " u'why',\n",
       " u'will',\n",
       " u'with',\n",
       " u'won',\n",
       " u'wouldn',\n",
       " u'y',\n",
       " u'you',\n",
       " u'your',\n",
       " u'yours',\n",
       " u'yourself',\n",
       " u'yourselves',\n",
       " '{',\n",
       " '|',\n",
       " '}',\n",
       " '~'}"
      ]
     },
     "execution_count": 23,
     "metadata": {},
     "output_type": "execute_result"
    }
   ],
   "source": [
    "from nltk.corpus import stopwords \n",
    "from string import punctuation\n",
    "my_stopwords=set(stopwords.words('english')+list(punctuation))\n",
    "my_stopwords"
   ]
  },
  {
   "cell_type": "code",
   "execution_count": 24,
   "metadata": {
    "collapsed": false
   },
   "outputs": [
    {
     "data": {
      "text/plain": [
       "['you',\n",
       " 'hav',\n",
       " 'brain',\n",
       " 'in',\n",
       " 'yo',\n",
       " 'head',\n",
       " '.',\n",
       " 'you',\n",
       " 'hav',\n",
       " 'feet',\n",
       " 'in',\n",
       " 'yo',\n",
       " 'sho',\n",
       " '.',\n",
       " 'you',\n",
       " 'can',\n",
       " 'ste',\n",
       " 'yourself',\n",
       " 'any',\n",
       " 'direct',\n",
       " 'you',\n",
       " 'choos',\n",
       " '.',\n",
       " 'you',\n",
       " \"'re\",\n",
       " 'on',\n",
       " 'yo',\n",
       " 'own',\n",
       " '.',\n",
       " 'and',\n",
       " 'you',\n",
       " 'know',\n",
       " 'what']"
      ]
     },
     "execution_count": 24,
     "metadata": {},
     "output_type": "execute_result"
    }
   ],
   "source": [
    "from nltk.stem.lancaster import LancasterStemmer\n",
    "st=LancasterStemmer()\n",
    "stemmed_words=[st.stem(word) for word in word_tokenize(seuss_text)]\n",
    "stemmed_words[:33]"
   ]
  },
  {
   "cell_type": "code",
   "execution_count": 25,
   "metadata": {
    "collapsed": false
   },
   "outputs": [
    {
     "data": {
      "text/plain": [
       "[('You', 'PRP'),\n",
       " ('have', 'VBP'),\n",
       " ('brains', 'NNS'),\n",
       " ('in', 'IN'),\n",
       " ('your', 'PRP$'),\n",
       " ('head', 'NN'),\n",
       " ('.', '.'),\n",
       " ('You', 'PRP'),\n",
       " ('have', 'VBP'),\n",
       " ('feet', 'NNS'),\n",
       " ('in', 'IN'),\n",
       " ('your', 'PRP$'),\n",
       " ('shoes', 'NNS'),\n",
       " ('.', '.'),\n",
       " ('You', 'PRP'),\n",
       " ('can', 'MD'),\n",
       " ('steer', 'VB'),\n",
       " ('yourself', 'PRP'),\n",
       " ('any', 'DT'),\n",
       " ('direction', 'NN'),\n",
       " ('you', 'PRP'),\n",
       " ('choose', 'VBP'),\n",
       " ('.', '.'),\n",
       " ('You', 'PRP'),\n",
       " (\"'re\", 'VBP'),\n",
       " ('on', 'IN'),\n",
       " ('your', 'PRP$'),\n",
       " ('own', 'JJ'),\n",
       " ('.', '.'),\n",
       " ('And', 'CC'),\n",
       " ('you', 'PRP'),\n",
       " ('know', 'VBP'),\n",
       " ('what', 'WP')]"
      ]
     },
     "execution_count": 25,
     "metadata": {},
     "output_type": "execute_result"
    }
   ],
   "source": [
    "pos=nltk.pos_tag(word_tokenize(seuss_text))\n",
    "pos[:33]"
   ]
  },
  {
   "cell_type": "code",
   "execution_count": 26,
   "metadata": {
    "collapsed": false
   },
   "outputs": [
    {
     "name": "stdout",
     "output_type": "stream",
     "text": [
      "(Synset('house.n.01'), u'a dwelling that serves as living quarters for one or more families')\n",
      "(Synset('firm.n.01'), u'the members of a business organization that owns or operates one or more establishments')\n",
      "(Synset('house.n.03'), u'the members of a religious community living together')\n",
      "(Synset('house.n.04'), u'the audience gathered together in a theatre or cinema')\n",
      "(Synset('house.n.05'), u'an official assembly having legislative powers')\n",
      "(Synset('house.n.06'), u'aristocratic family line')\n",
      "(Synset('house.n.07'), u'play in which children take the roles of father or mother or children and pretend to interact like adults')\n",
      "(Synset('sign_of_the_zodiac.n.01'), u'(astrology) one of 12 equal areas into which the zodiac is divided')\n",
      "(Synset('house.n.09'), u'the management of a gambling house or casino')\n",
      "(Synset('family.n.01'), u'a social unit living together')\n",
      "(Synset('theater.n.01'), u'a building where theatrical performances or motion-picture shows can be presented')\n",
      "(Synset('house.n.12'), u'a building in which something is sheltered or located')\n",
      "(Synset('house.v.01'), u'contain or cover')\n",
      "(Synset('house.v.02'), u'provide housing for')\n"
     ]
    }
   ],
   "source": [
    "from nltk.corpus import wordnet as wn\n",
    "for sset in wn.synsets('house'):\n",
    "    print(sset, sset.definition())"
   ]
  },
  {
   "cell_type": "code",
   "execution_count": 27,
   "metadata": {
    "collapsed": false
   },
   "outputs": [
    {
     "name": "stdout",
     "output_type": "stream",
     "text": [
      "Synset('theater.n.01') a building where theatrical performances or motion-picture shows can be presented\n"
     ]
    }
   ],
   "source": [
    "from nltk.wsd import lesk\n",
    "sense = lesk(word_tokenize(\"Find all tickets for all House of Blues Boston upcoming shows.\"),'house')\n",
    "print sense, sense.definition()"
   ]
  },
  {
   "cell_type": "code",
   "execution_count": 28,
   "metadata": {
    "collapsed": false
   },
   "outputs": [
    {
     "name": "stdout",
     "output_type": "stream",
     "text": [
      "Synset('house.n.07') play in which children take the roles of father or mother or children and pretend to interact like adults\n"
     ]
    }
   ],
   "source": [
    "sense = lesk(word_tokenize(\"The U.S. House of Representatives took its first step toward unwinding national banking regulations that were enacted in the wake of the 2008 financial crisis.\"),'house')\n",
    "print sense, sense.definition()"
   ]
  },
  {
   "cell_type": "code",
   "execution_count": 32,
   "metadata": {
    "collapsed": false
   },
   "outputs": [
    {
     "name": "stdout",
     "output_type": "stream",
     "text": [
      "\n"
     ]
    }
   ],
   "source": [
    "# Czernobog is prolly my fave character now. Not because he was also one of my fave chars in the first season of Prison Break. #AmericanGods\n",
    "sense = lesk(word_tokenize(\"Czernobog is prolly my fave character now. Not because he was also one of my fave chars in the first season of Prison Break. #AmericanGods.\"),'Prison Break')\n",
    "if sense is not None:\n",
    "  print sense, sense.definition()\n"
   ]
  },
  {
   "cell_type": "code",
   "execution_count": null,
   "metadata": {
    "collapsed": false
   },
   "outputs": [],
   "source": [
    "seuss_words = word_tokenize(seuss_text.lower())\n",
    "seuss_words[:33]"
   ]
  },
  {
   "cell_type": "code",
   "execution_count": null,
   "metadata": {
    "collapsed": false
   },
   "outputs": [],
   "source": [
    "seuss_words=[word for word in seuss_words if word not in my_stopwords]\n",
    "seuss_words[:33]"
   ]
  },
  {
   "cell_type": "code",
   "execution_count": null,
   "metadata": {
    "collapsed": false
   },
   "outputs": [],
   "source": [
    "from nltk.probability import FreqDist\n",
    "counts = FreqDist(seuss_words)\n",
    "counts"
   ]
  },
  {
   "cell_type": "code",
   "execution_count": null,
   "metadata": {
    "collapsed": false
   },
   "outputs": [],
   "source": [
    "from heapq import nlargest\n",
    "nlargest(9, freq, key=freq.get)"
   ]
  },
  {
   "cell_type": "code",
   "execution_count": null,
   "metadata": {
    "collapsed": false,
    "scrolled": true
   },
   "outputs": [],
   "source": [
    "vocab   = len(counts.keys())\n",
    "words   = sum(counts.values())\n",
    "lexdiv  = float(words) / float(vocab)\n",
    "\n",
    "print \"Corpus has %i word types and %i word counts for a lexical diversity of %0.3f\" % (vocab, words, lexdiv)"
   ]
  },
  {
   "cell_type": "code",
   "execution_count": null,
   "metadata": {
    "collapsed": false
   },
   "outputs": [],
   "source": [
    "counts.most_common(33)"
   ]
  },
  {
   "cell_type": "code",
   "execution_count": null,
   "metadata": {
    "collapsed": false
   },
   "outputs": [],
   "source": [
    "counts.freq('brains')"
   ]
  },
  {
   "cell_type": "code",
   "execution_count": null,
   "metadata": {
    "collapsed": false
   },
   "outputs": [],
   "source": [
    "counts.plot(33, cumulative=False)"
   ]
  },
  {
   "cell_type": "code",
   "execution_count": null,
   "metadata": {
    "collapsed": false,
    "scrolled": true
   },
   "outputs": [],
   "source": [
    "austen = nltk.text.Text(nltk.corpus.gutenberg.words('austen-sense.txt'))\n",
    "austen.concordance(\"monstrous\", 55, lines=11)"
   ]
  },
  {
   "cell_type": "markdown",
   "metadata": {},
   "source": [
    "The corcordance function performs a search for the given token and then also provides the surrounding context.\n",
    "\n",
    "Jane Austen: Sense and Sensibility\n",
    "Chapter 19\n",
    "\n",
    "\"Here comes Marianne,\" cried Sir John. \"Now, Palmer, you shall see a monstrous pretty girl.\"\n",
    "\n",
    "He immediately went into the passage, opened the front door, and ushered her in himself. Mrs. Jennings asked her, as soon as she appeared, if she had not been to Allenham; and Mrs. Palmer laughed so heartily at the question, as to show she understood it. Mr. Palmer looked up on her entering the room, stared at her some minutes, and then returned to his newspaper. Mrs. Palmer's eye was now caught by the drawings which hung round the room. She got up to examine them.\n"
   ]
  },
  {
   "cell_type": "code",
   "execution_count": null,
   "metadata": {
    "collapsed": false
   },
   "outputs": [],
   "source": [
    "austen.similar(\"monstrous\")"
   ]
  },
  {
   "cell_type": "markdown",
   "metadata": {},
   "source": [
    "Given some context surrounding a word, we can discover similar words, e.g. words that that occur frequently in the same context and with a similar distribution"
   ]
  }
 ],
 "metadata": {
  "kernelspec": {
   "display_name": "Python 2",
   "language": "python",
   "name": "python2"
  },
  "language_info": {
   "codemirror_mode": {
    "name": "ipython",
    "version": 2
   },
   "file_extension": ".py",
   "mimetype": "text/x-python",
   "name": "python",
   "nbconvert_exporter": "python",
   "pygments_lexer": "ipython2",
   "version": "2.7.13"
  }
 },
 "nbformat": 4,
 "nbformat_minor": 2
}
